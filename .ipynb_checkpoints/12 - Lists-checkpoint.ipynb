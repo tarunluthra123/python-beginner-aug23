{
 "cells": [
  {
   "cell_type": "markdown",
   "id": "ceff3835",
   "metadata": {},
   "source": [
    "# Python Lists\n",
    "![](https://scaler.com/topics/images/array-data-structure.webp)"
   ]
  },
  {
   "cell_type": "code",
   "execution_count": null,
   "id": "3e62a341",
   "metadata": {},
   "outputs": [],
   "source": [
    "run1 = 78\n",
    "run2 = 90\n",
    "run3 = 34\n",
    "run4 = 56\n",
    "...\n",
    "run10000 = 45"
   ]
  },
  {
   "cell_type": "code",
   "execution_count": null,
   "id": "0942375e",
   "metadata": {},
   "outputs": [],
   "source": [
    "total = run1 + run2 + run3 + run4 + .... + run10000"
   ]
  },
  {
   "cell_type": "code",
   "execution_count": 1,
   "id": "1006c10e",
   "metadata": {},
   "outputs": [],
   "source": []
  },
  {
   "cell_type": "code",
   "execution_count": 1,
   "id": "e0eef086",
   "metadata": {},
   "outputs": [],
   "source": [
    "# empty list\n",
    "runs = []"
   ]
  },
  {
   "cell_type": "code",
   "execution_count": 2,
   "id": "a205cfc4",
   "metadata": {},
   "outputs": [
    {
     "name": "stdout",
     "output_type": "stream",
     "text": [
      "[] <class 'list'>\n"
     ]
    }
   ],
   "source": [
    "print(runs, type(runs))"
   ]
  },
  {
   "cell_type": "code",
   "execution_count": null,
   "id": "b6999fec",
   "metadata": {},
   "outputs": [],
   "source": []
  },
  {
   "cell_type": "code",
   "execution_count": 3,
   "id": "85080830",
   "metadata": {},
   "outputs": [
    {
     "name": "stdout",
     "output_type": "stream",
     "text": [
      "[78, 90, 34, 56, 45] <class 'list'>\n"
     ]
    }
   ],
   "source": [
    "runs = [78, 90, 34, 56, 45]\n",
    "print(runs, type(runs))"
   ]
  },
  {
   "cell_type": "code",
   "execution_count": 4,
   "id": "3dccc773",
   "metadata": {},
   "outputs": [
    {
     "name": "stdout",
     "output_type": "stream",
     "text": [
      "[78, 90, 34, 56, 45]\n"
     ]
    }
   ],
   "source": [
    "print(runs)"
   ]
  },
  {
   "cell_type": "code",
   "execution_count": 5,
   "id": "dc60b9ed",
   "metadata": {},
   "outputs": [
    {
     "name": "stdout",
     "output_type": "stream",
     "text": [
      "<class 'list'>\n"
     ]
    }
   ],
   "source": [
    "print(type(runs))"
   ]
  },
  {
   "cell_type": "code",
   "execution_count": null,
   "id": "c57061f3",
   "metadata": {},
   "outputs": [],
   "source": []
  },
  {
   "cell_type": "code",
   "execution_count": 7,
   "id": "3bee94ca",
   "metadata": {},
   "outputs": [
    {
     "name": "stdout",
     "output_type": "stream",
     "text": [
      "['Batman', 'Harry Potter', ['Thor', 'Iron Man'], 300, 2.0, range(0, 4)]\n"
     ]
    }
   ],
   "source": [
    "movies = ['Batman', 'Harry Potter', ['Thor', 'Iron Man'], 300, 2.0, range(4)]\n",
    "print(movies)"
   ]
  },
  {
   "cell_type": "code",
   "execution_count": null,
   "id": "8f67c1a7",
   "metadata": {},
   "outputs": [],
   "source": []
  },
  {
   "cell_type": "code",
   "execution_count": null,
   "id": "6a67489c",
   "metadata": {},
   "outputs": [],
   "source": []
  },
  {
   "cell_type": "markdown",
   "id": "e85e48d0",
   "metadata": {},
   "source": [
    "### Length of List\n",
    "![](https://scaler.com/topics/images/length-of-array-in-python-fi.webp)"
   ]
  },
  {
   "cell_type": "code",
   "execution_count": 8,
   "id": "ddfdb2b4",
   "metadata": {},
   "outputs": [
    {
     "name": "stdout",
     "output_type": "stream",
     "text": [
      "14\n"
     ]
    }
   ],
   "source": [
    "runs = [78, 90, 34, 56, 45, 9, 6, 3, 23, 11, 90, 34, 52, 18]\n",
    "print(len(runs))"
   ]
  },
  {
   "cell_type": "code",
   "execution_count": 9,
   "id": "a2ee2d76",
   "metadata": {},
   "outputs": [
    {
     "name": "stdout",
     "output_type": "stream",
     "text": [
      "6\n"
     ]
    }
   ],
   "source": [
    "movies = ['Batman', 'Harry Potter', ['Thor', 'Iron Man'], 300, 2.0, range(4)]\n",
    "print(len(movies))"
   ]
  },
  {
   "cell_type": "code",
   "execution_count": null,
   "id": "ee3f4052",
   "metadata": {},
   "outputs": [],
   "source": []
  },
  {
   "cell_type": "markdown",
   "id": "ac23b782",
   "metadata": {},
   "source": [
    "## Indexing\n",
    "![](https://scaler.com/topics/images/lists-in-python.webp)"
   ]
  },
  {
   "cell_type": "code",
   "execution_count": 10,
   "id": "5e780e1c",
   "metadata": {},
   "outputs": [
    {
     "name": "stdout",
     "output_type": "stream",
     "text": [
      "78\n"
     ]
    }
   ],
   "source": [
    "runs = [78, 90, 34, 56, 45]\n",
    "print(runs[0])"
   ]
  },
  {
   "cell_type": "code",
   "execution_count": 11,
   "id": "99759c43",
   "metadata": {},
   "outputs": [
    {
     "name": "stdout",
     "output_type": "stream",
     "text": [
      "34\n"
     ]
    }
   ],
   "source": [
    "print(runs[2])"
   ]
  },
  {
   "cell_type": "code",
   "execution_count": 12,
   "id": "2de1a4b4",
   "metadata": {},
   "outputs": [
    {
     "ename": "IndexError",
     "evalue": "list index out of range",
     "output_type": "error",
     "traceback": [
      "\u001b[0;31m---------------------------------------------------------------------------\u001b[0m",
      "\u001b[0;31mIndexError\u001b[0m                                Traceback (most recent call last)",
      "\u001b[0;32m/var/folders/jn/1bsrct314hv5xmfm7vrcdrzc0000gn/T/ipykernel_50648/1034184900.py\u001b[0m in \u001b[0;36m<module>\u001b[0;34m\u001b[0m\n\u001b[0;32m----> 1\u001b[0;31m \u001b[0mprint\u001b[0m\u001b[0;34m(\u001b[0m\u001b[0mruns\u001b[0m\u001b[0;34m[\u001b[0m\u001b[0;36m10\u001b[0m\u001b[0;34m]\u001b[0m\u001b[0;34m)\u001b[0m\u001b[0;34m\u001b[0m\u001b[0;34m\u001b[0m\u001b[0m\n\u001b[0m",
      "\u001b[0;31mIndexError\u001b[0m: list index out of range"
     ]
    }
   ],
   "source": [
    "print(runs[10])"
   ]
  },
  {
   "cell_type": "code",
   "execution_count": null,
   "id": "166f698c",
   "metadata": {},
   "outputs": [],
   "source": []
  },
  {
   "cell_type": "code",
   "execution_count": 13,
   "id": "14f34d56",
   "metadata": {},
   "outputs": [
    {
     "name": "stdout",
     "output_type": "stream",
     "text": [
      "45\n"
     ]
    }
   ],
   "source": [
    "runs = [78, 90, 34, 56, 45]\n",
    "n = len(runs)\n",
    "print(runs[n - 1])"
   ]
  },
  {
   "cell_type": "code",
   "execution_count": null,
   "id": "8f020d4f",
   "metadata": {},
   "outputs": [],
   "source": []
  },
  {
   "cell_type": "code",
   "execution_count": 14,
   "id": "46f03d33",
   "metadata": {},
   "outputs": [],
   "source": [
    "movies = ['Batman', 'Harry Potter', ['Thor', 'Iron Man'], 300, 2.0, range(4)]"
   ]
  },
  {
   "cell_type": "code",
   "execution_count": 15,
   "id": "6b35b475",
   "metadata": {},
   "outputs": [
    {
     "name": "stdout",
     "output_type": "stream",
     "text": [
      "Harry Potter\n"
     ]
    }
   ],
   "source": [
    "print(movies[1])"
   ]
  },
  {
   "cell_type": "code",
   "execution_count": 16,
   "id": "7aa3ec91",
   "metadata": {},
   "outputs": [
    {
     "name": "stdout",
     "output_type": "stream",
     "text": [
      "['Thor', 'Iron Man']\n"
     ]
    }
   ],
   "source": [
    "print(movies[2])"
   ]
  },
  {
   "cell_type": "code",
   "execution_count": null,
   "id": "d9812d77",
   "metadata": {},
   "outputs": [],
   "source": []
  },
  {
   "cell_type": "code",
   "execution_count": 17,
   "id": "ea937347",
   "metadata": {},
   "outputs": [
    {
     "name": "stdout",
     "output_type": "stream",
     "text": [
      "2\n"
     ]
    }
   ],
   "source": [
    "print(len(movies[2]))"
   ]
  },
  {
   "cell_type": "code",
   "execution_count": null,
   "id": "50b506be",
   "metadata": {},
   "outputs": [],
   "source": []
  },
  {
   "cell_type": "code",
   "execution_count": 18,
   "id": "ca7f3d46",
   "metadata": {},
   "outputs": [
    {
     "name": "stdout",
     "output_type": "stream",
     "text": [
      "Batman\n"
     ]
    }
   ],
   "source": [
    "print(movies[0])"
   ]
  },
  {
   "cell_type": "code",
   "execution_count": 19,
   "id": "32cf56c5",
   "metadata": {},
   "outputs": [
    {
     "name": "stdout",
     "output_type": "stream",
     "text": [
      "<class 'str'>\n"
     ]
    }
   ],
   "source": [
    "print(type(movies[0]))"
   ]
  },
  {
   "cell_type": "code",
   "execution_count": null,
   "id": "eff42277",
   "metadata": {},
   "outputs": [],
   "source": []
  },
  {
   "cell_type": "markdown",
   "id": "f672b881",
   "metadata": {},
   "source": [
    "## Negative Indexing\n",
    "![](https://scaler.com/topics/images/what-is-list-in-python.webp)"
   ]
  },
  {
   "cell_type": "code",
   "execution_count": 20,
   "id": "3d496a6d",
   "metadata": {},
   "outputs": [
    {
     "name": "stdout",
     "output_type": "stream",
     "text": [
      "[90, 20, 30]\n"
     ]
    }
   ],
   "source": [
    "runs = [10, 20, 30]\n",
    "runs[0] = 90\n",
    "print(runs)"
   ]
  },
  {
   "cell_type": "code",
   "execution_count": 21,
   "id": "2ac321d8",
   "metadata": {},
   "outputs": [
    {
     "name": "stdout",
     "output_type": "stream",
     "text": [
      "20\n"
     ]
    }
   ],
   "source": [
    "print(runs[-2])"
   ]
  },
  {
   "cell_type": "code",
   "execution_count": 22,
   "id": "ccd86fba",
   "metadata": {},
   "outputs": [
    {
     "name": "stdout",
     "output_type": "stream",
     "text": [
      "90\n"
     ]
    }
   ],
   "source": [
    "print(runs[-3])"
   ]
  },
  {
   "cell_type": "code",
   "execution_count": null,
   "id": "a6f9c90d",
   "metadata": {},
   "outputs": [],
   "source": []
  },
  {
   "cell_type": "code",
   "execution_count": null,
   "id": "2b76b70f",
   "metadata": {},
   "outputs": [],
   "source": []
  },
  {
   "cell_type": "markdown",
   "id": "d984adc4",
   "metadata": {},
   "source": [
    "#### Quiz 2\n",
    "```py\n",
    "runs = [10, 55, 4, 67, 17]\n",
    "print(runs[0] + runs[-1] + runs[-3])\n",
    "```\n"
   ]
  },
  {
   "cell_type": "code",
   "execution_count": 23,
   "id": "510c71b8",
   "metadata": {},
   "outputs": [
    {
     "name": "stdout",
     "output_type": "stream",
     "text": [
      "31\n"
     ]
    }
   ],
   "source": [
    "runs = [10, 55, 4, 67, 17]\n",
    "print(runs[0] + runs[-1] + runs[-3])\n",
    "# 10 + 17 + 4"
   ]
  },
  {
   "cell_type": "code",
   "execution_count": null,
   "id": "15c41af8",
   "metadata": {},
   "outputs": [],
   "source": []
  },
  {
   "cell_type": "code",
   "execution_count": 24,
   "id": "508b0e4e",
   "metadata": {},
   "outputs": [],
   "source": [
    "runs = [10, 55, 4, 67, 17]"
   ]
  },
  {
   "cell_type": "code",
   "execution_count": 25,
   "id": "9f17405f",
   "metadata": {},
   "outputs": [
    {
     "ename": "IndexError",
     "evalue": "list index out of range",
     "output_type": "error",
     "traceback": [
      "\u001b[0;31m---------------------------------------------------------------------------\u001b[0m",
      "\u001b[0;31mIndexError\u001b[0m                                Traceback (most recent call last)",
      "\u001b[0;32m/var/folders/jn/1bsrct314hv5xmfm7vrcdrzc0000gn/T/ipykernel_50648/1034184900.py\u001b[0m in \u001b[0;36m<module>\u001b[0;34m\u001b[0m\n\u001b[0;32m----> 1\u001b[0;31m \u001b[0mprint\u001b[0m\u001b[0;34m(\u001b[0m\u001b[0mruns\u001b[0m\u001b[0;34m[\u001b[0m\u001b[0;36m10\u001b[0m\u001b[0;34m]\u001b[0m\u001b[0;34m)\u001b[0m\u001b[0;34m\u001b[0m\u001b[0;34m\u001b[0m\u001b[0m\n\u001b[0m",
      "\u001b[0;31mIndexError\u001b[0m: list index out of range"
     ]
    }
   ],
   "source": [
    "print(runs[10])"
   ]
  },
  {
   "cell_type": "code",
   "execution_count": 26,
   "id": "cf03fe9e",
   "metadata": {},
   "outputs": [
    {
     "ename": "IndexError",
     "evalue": "list index out of range",
     "output_type": "error",
     "traceback": [
      "\u001b[0;31m---------------------------------------------------------------------------\u001b[0m",
      "\u001b[0;31mIndexError\u001b[0m                                Traceback (most recent call last)",
      "\u001b[0;32m/var/folders/jn/1bsrct314hv5xmfm7vrcdrzc0000gn/T/ipykernel_50648/3074364361.py\u001b[0m in \u001b[0;36m<module>\u001b[0;34m\u001b[0m\n\u001b[0;32m----> 1\u001b[0;31m \u001b[0mprint\u001b[0m\u001b[0;34m(\u001b[0m\u001b[0mruns\u001b[0m\u001b[0;34m[\u001b[0m\u001b[0;34m-\u001b[0m\u001b[0;36m19\u001b[0m\u001b[0;34m]\u001b[0m\u001b[0;34m)\u001b[0m\u001b[0;34m\u001b[0m\u001b[0;34m\u001b[0m\u001b[0m\n\u001b[0m",
      "\u001b[0;31mIndexError\u001b[0m: list index out of range"
     ]
    }
   ],
   "source": [
    "print(runs[-19])"
   ]
  },
  {
   "cell_type": "code",
   "execution_count": null,
   "id": "0777e1b1",
   "metadata": {},
   "outputs": [],
   "source": []
  },
  {
   "cell_type": "code",
   "execution_count": null,
   "id": "48128c18",
   "metadata": {},
   "outputs": [],
   "source": [
    "# Lists are also called arrays"
   ]
  },
  {
   "cell_type": "code",
   "execution_count": null,
   "id": "a30a05d3",
   "metadata": {},
   "outputs": [],
   "source": []
  },
  {
   "cell_type": "code",
   "execution_count": null,
   "id": "5c95869c",
   "metadata": {},
   "outputs": [],
   "source": []
  },
  {
   "cell_type": "markdown",
   "id": "093fe23c",
   "metadata": {},
   "source": [
    "## Inserting Data"
   ]
  },
  {
   "cell_type": "code",
   "execution_count": 27,
   "id": "27931666",
   "metadata": {},
   "outputs": [],
   "source": [
    "a = [5, 1, 9]"
   ]
  },
  {
   "cell_type": "code",
   "execution_count": 28,
   "id": "f337f5c8",
   "metadata": {},
   "outputs": [
    {
     "name": "stdout",
     "output_type": "stream",
     "text": [
      "[5, 1, 9, 10]\n"
     ]
    }
   ],
   "source": [
    "a.append(10)\n",
    "print(a)"
   ]
  },
  {
   "cell_type": "code",
   "execution_count": 29,
   "id": "2fc5c877",
   "metadata": {},
   "outputs": [
    {
     "name": "stdout",
     "output_type": "stream",
     "text": [
      "[5, 1, 9, 10, 20]\n"
     ]
    }
   ],
   "source": [
    "a.append(20)\n",
    "print(a)"
   ]
  },
  {
   "cell_type": "code",
   "execution_count": null,
   "id": "6b2cbd53",
   "metadata": {},
   "outputs": [],
   "source": []
  },
  {
   "cell_type": "code",
   "execution_count": 30,
   "id": "1039dab0",
   "metadata": {},
   "outputs": [
    {
     "name": "stdout",
     "output_type": "stream",
     "text": [
      "[5, 35, 1, 9, 10, 20]\n"
     ]
    }
   ],
   "source": [
    "a = [5, 1, 9, 10, 20]\n",
    "\n",
    "# insert(index, data)\n",
    "a.insert(1, 35)\n",
    "print(a)"
   ]
  },
  {
   "cell_type": "code",
   "execution_count": null,
   "id": "66c6f2f0",
   "metadata": {},
   "outputs": [],
   "source": []
  },
  {
   "cell_type": "code",
   "execution_count": 31,
   "id": "93dbac3a",
   "metadata": {},
   "outputs": [
    {
     "name": "stdout",
     "output_type": "stream",
     "text": [
      "[10, 20, 50, 30]\n"
     ]
    }
   ],
   "source": [
    "b = [10, 20, 30]\n",
    "b.insert(2, 50)\n",
    "print(b)"
   ]
  },
  {
   "cell_type": "code",
   "execution_count": null,
   "id": "d2058548",
   "metadata": {},
   "outputs": [],
   "source": []
  },
  {
   "cell_type": "code",
   "execution_count": null,
   "id": "0d962cdb",
   "metadata": {},
   "outputs": [],
   "source": []
  },
  {
   "cell_type": "markdown",
   "id": "da34482c",
   "metadata": {},
   "source": [
    "#### Quiz 3\n",
    "```py\n",
    "runs = [10, 55, 4, 67, 17]\n",
    "runs.append(6)\n",
    "runs.append(200)\n",
    "print(runs[-1] + runs[2])\n",
    "```"
   ]
  },
  {
   "cell_type": "code",
   "execution_count": 32,
   "id": "ef2d2ebe",
   "metadata": {},
   "outputs": [
    {
     "name": "stdout",
     "output_type": "stream",
     "text": [
      "204\n"
     ]
    }
   ],
   "source": [
    "runs = [10, 55, 4, 67, 17]\n",
    "runs.append(6) # [10, 55, 4, 67, 17, 6]\n",
    "runs.append(200) # [10, 55, 4, 67, 17, 6, 200]\n",
    "print(runs[-1] + runs[2])\n",
    "# 200 + 4 = 204"
   ]
  },
  {
   "cell_type": "code",
   "execution_count": null,
   "id": "36a17965",
   "metadata": {},
   "outputs": [],
   "source": []
  },
  {
   "cell_type": "code",
   "execution_count": null,
   "id": "a3e89932",
   "metadata": {},
   "outputs": [],
   "source": []
  },
  {
   "cell_type": "markdown",
   "id": "67b6a2ef",
   "metadata": {},
   "source": [
    "#### Quiz 4\n",
    "```py\n",
    "l = [1, 2, 3, 3, 5, 6, 7, 5]\n",
    "l.insert(5, 10)\n",
    "print(l)\n",
    "```"
   ]
  },
  {
   "cell_type": "code",
   "execution_count": 33,
   "id": "12263f75",
   "metadata": {},
   "outputs": [
    {
     "name": "stdout",
     "output_type": "stream",
     "text": [
      "[1, 2, 3, 3, 5, 10, 6, 7, 5]\n"
     ]
    }
   ],
   "source": [
    "l = [1, 2, 3, 3, 5, 6, 7, 5]\n",
    "l.insert(5, 10) # [1, 2, 3, 3, 5, 10, 6, 7, 5]\n",
    "print(l)"
   ]
  },
  {
   "cell_type": "code",
   "execution_count": null,
   "id": "c69a5e79",
   "metadata": {},
   "outputs": [],
   "source": []
  },
  {
   "cell_type": "code",
   "execution_count": null,
   "id": "94920ad9",
   "metadata": {},
   "outputs": [],
   "source": []
  },
  {
   "cell_type": "code",
   "execution_count": 35,
   "id": "2a4f2c74",
   "metadata": {},
   "outputs": [
    {
     "name": "stdout",
     "output_type": "stream",
     "text": [
      "[10, 20, 30, 80, 90, 100, 110, 120]\n"
     ]
    }
   ],
   "source": [
    "a = [10, 20, 30]\n",
    "b = [80, 90, 100, 110, 120]\n",
    "\n",
    "a.extend(b)\n",
    "print(a)"
   ]
  },
  {
   "cell_type": "code",
   "execution_count": 36,
   "id": "0471f864",
   "metadata": {},
   "outputs": [
    {
     "name": "stdout",
     "output_type": "stream",
     "text": [
      "[80, 90, 100, 110, 120]\n"
     ]
    }
   ],
   "source": [
    "print(b)"
   ]
  },
  {
   "cell_type": "code",
   "execution_count": null,
   "id": "61a48205",
   "metadata": {},
   "outputs": [],
   "source": []
  },
  {
   "cell_type": "code",
   "execution_count": 37,
   "id": "ae8c0673",
   "metadata": {},
   "outputs": [
    {
     "name": "stdout",
     "output_type": "stream",
     "text": [
      "[10, 20, 30, 80, 90, 100, 110, 120]\n"
     ]
    }
   ],
   "source": [
    "a = [10, 20, 30]\n",
    "b = [80, 90, 100, 110, 120]\n",
    "\n",
    "c = a + b\n",
    "print(c)"
   ]
  },
  {
   "cell_type": "code",
   "execution_count": 38,
   "id": "2f6e404a",
   "metadata": {},
   "outputs": [
    {
     "name": "stdout",
     "output_type": "stream",
     "text": [
      "[10, 20, 30] [80, 90, 100, 110, 120]\n"
     ]
    }
   ],
   "source": [
    "print(a, b)"
   ]
  },
  {
   "cell_type": "code",
   "execution_count": null,
   "id": "8c52a35c",
   "metadata": {},
   "outputs": [],
   "source": []
  },
  {
   "cell_type": "markdown",
   "id": "f202e1a2",
   "metadata": {},
   "source": [
    "## Iterating over lists"
   ]
  },
  {
   "cell_type": "code",
   "execution_count": 39,
   "id": "1fbd6bd1",
   "metadata": {},
   "outputs": [],
   "source": [
    "a = [10, 20, 30, 40]"
   ]
  },
  {
   "cell_type": "code",
   "execution_count": null,
   "id": "d51b3d14",
   "metadata": {},
   "outputs": [],
   "source": [
    "# iterable = range, lists, sets, dictionaries, strings"
   ]
  },
  {
   "cell_type": "code",
   "execution_count": null,
   "id": "4d08a4f1",
   "metadata": {},
   "outputs": [],
   "source": []
  },
  {
   "cell_type": "code",
   "execution_count": 40,
   "id": "5d0a49e5",
   "metadata": {},
   "outputs": [
    {
     "name": "stdout",
     "output_type": "stream",
     "text": [
      "10\n",
      "20\n",
      "30\n",
      "40\n"
     ]
    }
   ],
   "source": [
    "a = [10, 20, 30, 40]\n",
    "\n",
    "for x in a:\n",
    "    print(x)"
   ]
  },
  {
   "cell_type": "code",
   "execution_count": null,
   "id": "bb4d87d8",
   "metadata": {},
   "outputs": [],
   "source": []
  },
  {
   "cell_type": "code",
   "execution_count": 41,
   "id": "caf69c06",
   "metadata": {},
   "outputs": [
    {
     "name": "stdout",
     "output_type": "stream",
     "text": [
      "100\n",
      "400\n",
      "900\n",
      "1600\n"
     ]
    }
   ],
   "source": [
    "a = [10, 20, 30, 40]\n",
    "\n",
    "for x in a:\n",
    "    print(x * x)"
   ]
  },
  {
   "cell_type": "code",
   "execution_count": 43,
   "id": "d4bf55ed",
   "metadata": {},
   "outputs": [
    {
     "name": "stdout",
     "output_type": "stream",
     "text": [
      "Index = 0     Element =  10\n",
      "Index = 1     Element =  20\n",
      "Index = 2     Element =  30\n",
      "Index = 3     Element =  40\n"
     ]
    }
   ],
   "source": [
    "a = [10, 20, 30, 40]\n",
    "N = len(a)\n",
    "\n",
    "for i in range(N):\n",
    "    print(\"Index =\", i, \"    Element = \", a[i])"
   ]
  },
  {
   "cell_type": "code",
   "execution_count": null,
   "id": "364c779e",
   "metadata": {},
   "outputs": [],
   "source": []
  },
  {
   "cell_type": "code",
   "execution_count": null,
   "id": "beadf1b7",
   "metadata": {},
   "outputs": [],
   "source": []
  },
  {
   "cell_type": "code",
   "execution_count": null,
   "id": "f22cac5d",
   "metadata": {},
   "outputs": [],
   "source": []
  },
  {
   "cell_type": "markdown",
   "id": "488b66d3",
   "metadata": {},
   "source": [
    "Print all odd numbers"
   ]
  },
  {
   "cell_type": "code",
   "execution_count": 44,
   "id": "4fcf43d5",
   "metadata": {},
   "outputs": [
    {
     "name": "stdout",
     "output_type": "stream",
     "text": [
      "7 9 5 1 "
     ]
    }
   ],
   "source": [
    "a = [7, 9, 2, 5, 1, 4]\n",
    "N = len(a)\n",
    "\n",
    "for i in range(N):\n",
    "    if a[i] % 2 == 1:\n",
    "        print(a[i], end=' ')"
   ]
  },
  {
   "cell_type": "code",
   "execution_count": null,
   "id": "31358bf4",
   "metadata": {},
   "outputs": [],
   "source": []
  },
  {
   "cell_type": "markdown",
   "id": "dc46f68d",
   "metadata": {},
   "source": [
    "Create a separate list of all odd numbers"
   ]
  },
  {
   "cell_type": "code",
   "execution_count": 45,
   "id": "86137c69",
   "metadata": {},
   "outputs": [
    {
     "name": "stdout",
     "output_type": "stream",
     "text": [
      "[7, 9, 5, 1]\n"
     ]
    }
   ],
   "source": [
    "a = [7, 9, 2, 5, 1, 4]\n",
    "N = len(a)\n",
    "\n",
    "b = []\n",
    "\n",
    "for i in range(N):\n",
    "    if a[i] % 2 == 1:\n",
    "        b.append(a[i])\n",
    "        \n",
    "print(b)"
   ]
  },
  {
   "cell_type": "code",
   "execution_count": null,
   "id": "93935842",
   "metadata": {},
   "outputs": [],
   "source": []
  },
  {
   "cell_type": "code",
   "execution_count": null,
   "id": "5561f554",
   "metadata": {},
   "outputs": [],
   "source": []
  },
  {
   "cell_type": "markdown",
   "id": "5e0cddcf",
   "metadata": {},
   "source": [
    "Given a list of numbers, compute their\n",
    "- sum\n",
    "- min\n",
    "- max\n",
    "- average"
   ]
  },
  {
   "cell_type": "code",
   "execution_count": 46,
   "id": "25366e73",
   "metadata": {},
   "outputs": [],
   "source": [
    "nums = [6, 8, 1, 3, 12, 15, -4, 0, 3, 2]\n",
    "N = len(nums)"
   ]
  },
  {
   "cell_type": "code",
   "execution_count": 47,
   "id": "c1df1a00",
   "metadata": {},
   "outputs": [
    {
     "name": "stdout",
     "output_type": "stream",
     "text": [
      "46\n"
     ]
    }
   ],
   "source": [
    "# Inbuilt function\n",
    "print(sum(nums))"
   ]
  },
  {
   "cell_type": "code",
   "execution_count": 50,
   "id": "f46adb04",
   "metadata": {},
   "outputs": [
    {
     "name": "stdout",
     "output_type": "stream",
     "text": [
      "Sum = 46\n"
     ]
    }
   ],
   "source": [
    "# Without inbuilt function\n",
    "total = 0\n",
    "\n",
    "for x in nums:\n",
    "    total += x\n",
    "    \n",
    "print(\"Sum =\", total)"
   ]
  },
  {
   "cell_type": "code",
   "execution_count": 51,
   "id": "fffe2858",
   "metadata": {},
   "outputs": [
    {
     "name": "stdout",
     "output_type": "stream",
     "text": [
      "Average = 4.6\n"
     ]
    }
   ],
   "source": [
    "print(\"Average =\", total / N)"
   ]
  },
  {
   "cell_type": "code",
   "execution_count": null,
   "id": "d9e87f01",
   "metadata": {},
   "outputs": [],
   "source": []
  },
  {
   "cell_type": "code",
   "execution_count": null,
   "id": "0ee98bf6",
   "metadata": {},
   "outputs": [],
   "source": [
    "# Compute the minimum of my array\n",
    "nums = [6, 8, 1, 3, 12, 15, -4, 0, 3, 2]\n",
    "N = len(nums)"
   ]
  },
  {
   "cell_type": "code",
   "execution_count": 52,
   "id": "362b05d1",
   "metadata": {},
   "outputs": [
    {
     "name": "stdout",
     "output_type": "stream",
     "text": [
      "-4\n"
     ]
    }
   ],
   "source": [
    "# Inbuilt function\n",
    "print(min(nums))"
   ]
  },
  {
   "cell_type": "code",
   "execution_count": 53,
   "id": "f961024b",
   "metadata": {},
   "outputs": [
    {
     "name": "stdout",
     "output_type": "stream",
     "text": [
      "-8\n"
     ]
    }
   ],
   "source": [
    "# Without using the inbuilt function\n",
    "nums = [-5, 2, -6, -8, 3]\n",
    "N = len(nums)\n",
    "minVal = nums[0]\n",
    "\n",
    "for i in range(1, N):\n",
    "    if nums[i] < minVal:\n",
    "        minVal = nums[i]\n",
    "        \n",
    "print(minVal)"
   ]
  },
  {
   "cell_type": "code",
   "execution_count": null,
   "id": "e7fea155",
   "metadata": {},
   "outputs": [],
   "source": [
    "# The final ans is always going to be a value from the array itself"
   ]
  },
  {
   "cell_type": "code",
   "execution_count": null,
   "id": "d0a9bdf8",
   "metadata": {},
   "outputs": [],
   "source": []
  },
  {
   "cell_type": "code",
   "execution_count": null,
   "id": "68864fbe",
   "metadata": {},
   "outputs": [],
   "source": [
    "# try max on your own\n",
    "# one small modification"
   ]
  },
  {
   "cell_type": "code",
   "execution_count": null,
   "id": "d5ba39c8",
   "metadata": {},
   "outputs": [],
   "source": []
  },
  {
   "cell_type": "code",
   "execution_count": 54,
   "id": "fc39b6b8",
   "metadata": {},
   "outputs": [
    {
     "name": "stdout",
     "output_type": "stream",
     "text": [
      "3\n"
     ]
    }
   ],
   "source": [
    "# Inbuilt function for max\n",
    "nums = [-5, 2, -6, -8, 3]\n",
    "\n",
    "print(max(nums))"
   ]
  },
  {
   "cell_type": "code",
   "execution_count": null,
   "id": "5a9f28ad",
   "metadata": {},
   "outputs": [],
   "source": []
  },
  {
   "cell_type": "code",
   "execution_count": null,
   "id": "3de54b1c",
   "metadata": {},
   "outputs": [],
   "source": []
  },
  {
   "cell_type": "code",
   "execution_count": null,
   "id": "7671a6a3",
   "metadata": {},
   "outputs": [],
   "source": []
  },
  {
   "cell_type": "markdown",
   "id": "7c7f6122",
   "metadata": {},
   "source": [
    "# Bonus Reading \n",
    "- List in Data Structure (Language agnostic overview of Lists) - https://www.scaler.com/topics/list-in-data-structure/\n",
    "- What is List in Python? - https://www.scaler.com/topics/what-is-list-in-python/\n",
    "- list() in Python - https://www.scaler.com/topics/python/list-in-python/\n",
    "- Empty List - https://www.scaler.com/topics/empty-list-in-python/\n",
    "- Length of List - https://www.scaler.com/topics/python-length-of-list/\n",
    "- Iterate List in Python - https://www.scaler.com/topics/iterate-list-in-python/\n",
    "- List Methods in Python - https://www.scaler.com/topics/list-methods-in-python/\n",
    "- Linear Search - https://www.scaler.com/topics/data-structures/linear-search-algorithm/\n",
    "- Python List Index Method - https://www.scaler.com/topics/python-list-index-method/\n",
    "- index() in Python - https://www.scaler.com/topics/index-in-python/\n",
    "- How to Find Index of Element in List Python? - https://www.scaler.com/topics/find-index-of-element-in-list-python/"
   ]
  },
  {
   "cell_type": "code",
   "execution_count": null,
   "id": "11b27713",
   "metadata": {},
   "outputs": [],
   "source": []
  },
  {
   "cell_type": "code",
   "execution_count": null,
   "id": "0a543d2e",
   "metadata": {},
   "outputs": [],
   "source": []
  },
  {
   "cell_type": "code",
   "execution_count": null,
   "id": "5483aa27",
   "metadata": {},
   "outputs": [],
   "source": []
  },
  {
   "cell_type": "markdown",
   "id": "adf41528",
   "metadata": {},
   "source": [
    "# Doubts"
   ]
  },
  {
   "cell_type": "code",
   "execution_count": 55,
   "id": "d906c7fc",
   "metadata": {},
   "outputs": [],
   "source": [
    "def good_morning():\n",
    "    print(\"Good morning to you\")"
   ]
  },
  {
   "cell_type": "code",
   "execution_count": 56,
   "id": "233fd48a",
   "metadata": {},
   "outputs": [
    {
     "name": "stdout",
     "output_type": "stream",
     "text": [
      "Good morning to you\n"
     ]
    }
   ],
   "source": [
    "good_morning()"
   ]
  },
  {
   "cell_type": "code",
   "execution_count": null,
   "id": "b93c2dc9",
   "metadata": {},
   "outputs": [],
   "source": []
  },
  {
   "cell_type": "code",
   "execution_count": null,
   "id": "06187bf8",
   "metadata": {},
   "outputs": [],
   "source": []
  }
 ],
 "metadata": {
  "kernelspec": {
   "display_name": "Python 3 (ipykernel)",
   "language": "python",
   "name": "python3"
  },
  "language_info": {
   "codemirror_mode": {
    "name": "ipython",
    "version": 3
   },
   "file_extension": ".py",
   "mimetype": "text/x-python",
   "name": "python",
   "nbconvert_exporter": "python",
   "pygments_lexer": "ipython3",
   "version": "3.9.12"
  }
 },
 "nbformat": 4,
 "nbformat_minor": 5
}
