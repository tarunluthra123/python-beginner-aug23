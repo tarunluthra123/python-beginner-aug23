{
 "cells": [
  {
   "cell_type": "markdown",
   "id": "380f0204",
   "metadata": {},
   "source": [
    "# Dictionaries\n",
    "![](https://scaler.com/topics/images/dict-in-python.webp)"
   ]
  },
  {
   "cell_type": "markdown",
   "id": "1f7701d0",
   "metadata": {},
   "source": [
    "- They are used to store data in key-value pair format\n",
    "- The keys are always unique\n",
    "- The values may or may not be unique\n",
    "- Dictionaries use **hashing** to store the data"
   ]
  },
  {
   "cell_type": "code",
   "execution_count": null,
   "id": "5116396a",
   "metadata": {},
   "outputs": [],
   "source": []
  },
  {
   "cell_type": "code",
   "execution_count": null,
   "id": "974a7c15",
   "metadata": {},
   "outputs": [],
   "source": []
  },
  {
   "cell_type": "code",
   "execution_count": null,
   "id": "d698b241",
   "metadata": {},
   "outputs": [],
   "source": []
  },
  {
   "cell_type": "code",
   "execution_count": null,
   "id": "0d30691b",
   "metadata": {},
   "outputs": [],
   "source": []
  },
  {
   "cell_type": "code",
   "execution_count": null,
   "id": "03fe598f",
   "metadata": {},
   "outputs": [],
   "source": []
  },
  {
   "cell_type": "code",
   "execution_count": null,
   "id": "afd1ca55",
   "metadata": {},
   "outputs": [],
   "source": []
  },
  {
   "cell_type": "code",
   "execution_count": null,
   "id": "d46dfe48",
   "metadata": {},
   "outputs": [],
   "source": []
  },
  {
   "cell_type": "markdown",
   "id": "021a17d2",
   "metadata": {},
   "source": [
    "### Reading values\n",
    "- square brackets\n",
    "- get()"
   ]
  },
  {
   "cell_type": "code",
   "execution_count": null,
   "id": "1a4efbea",
   "metadata": {},
   "outputs": [],
   "source": []
  },
  {
   "cell_type": "code",
   "execution_count": null,
   "id": "db8fb1b8",
   "metadata": {},
   "outputs": [],
   "source": []
  },
  {
   "cell_type": "code",
   "execution_count": null,
   "id": "3faa48c1",
   "metadata": {},
   "outputs": [],
   "source": []
  },
  {
   "cell_type": "code",
   "execution_count": null,
   "id": "18fa1046",
   "metadata": {},
   "outputs": [],
   "source": []
  },
  {
   "cell_type": "code",
   "execution_count": null,
   "id": "a3010881",
   "metadata": {},
   "outputs": [],
   "source": []
  },
  {
   "cell_type": "markdown",
   "id": "daa774a8",
   "metadata": {},
   "source": [
    "### Challenge\n",
    "If a dish is in the menu, show its price. Otherwise, chef will charge extra for it. Show the price as 5000."
   ]
  },
  {
   "cell_type": "code",
   "execution_count": null,
   "id": "9b0d37ab",
   "metadata": {},
   "outputs": [],
   "source": []
  },
  {
   "cell_type": "code",
   "execution_count": null,
   "id": "7f94cc4e",
   "metadata": {},
   "outputs": [],
   "source": []
  },
  {
   "cell_type": "code",
   "execution_count": null,
   "id": "74aea22b",
   "metadata": {},
   "outputs": [],
   "source": []
  },
  {
   "cell_type": "code",
   "execution_count": null,
   "id": "24f34354",
   "metadata": {},
   "outputs": [],
   "source": []
  },
  {
   "cell_type": "code",
   "execution_count": null,
   "id": "a7bc9255",
   "metadata": {},
   "outputs": [],
   "source": []
  },
  {
   "cell_type": "markdown",
   "id": "a33270bf",
   "metadata": {},
   "source": [
    "## Updation and Addition\n",
    "- Updating/Adding one entry - using square brackets\n",
    "- Updating/Adding multiple entries - update()"
   ]
  },
  {
   "cell_type": "code",
   "execution_count": null,
   "id": "ce980893",
   "metadata": {},
   "outputs": [],
   "source": []
  },
  {
   "cell_type": "code",
   "execution_count": null,
   "id": "ca6630a0",
   "metadata": {},
   "outputs": [],
   "source": []
  },
  {
   "cell_type": "code",
   "execution_count": null,
   "id": "ebab505c",
   "metadata": {},
   "outputs": [],
   "source": []
  },
  {
   "cell_type": "code",
   "execution_count": null,
   "id": "a9be0cad",
   "metadata": {},
   "outputs": [],
   "source": []
  },
  {
   "cell_type": "code",
   "execution_count": null,
   "id": "8574e84c",
   "metadata": {},
   "outputs": [],
   "source": []
  },
  {
   "cell_type": "markdown",
   "id": "fb5317f9",
   "metadata": {},
   "source": [
    "#### Quiz 1\n",
    "What does the following Python code output?\n",
    "```py\n",
    "words = {\n",
    "\"is\": 2,\n",
    "\"hello\": 3,\n",
    "\"the\": 4\n",
    "}\n",
    "this_count = words[\"this\"]\n",
    "\n",
    "print(this_count)\n",
    "```"
   ]
  },
  {
   "cell_type": "code",
   "execution_count": null,
   "id": "b45fa922",
   "metadata": {},
   "outputs": [],
   "source": []
  },
  {
   "cell_type": "code",
   "execution_count": null,
   "id": "4a5d10fa",
   "metadata": {},
   "outputs": [],
   "source": []
  },
  {
   "cell_type": "markdown",
   "id": "dafa7cc7",
   "metadata": {},
   "source": [
    "#### Quiz 2\n",
    "What is the output of the following code?\n",
    "```py\n",
    "d = {\"a\": 1, \"b\": 2, \"c\": 3}\n",
    "d['d'] = 55\n",
    "\n",
    "print(d['d'])\n",
    "```"
   ]
  },
  {
   "cell_type": "code",
   "execution_count": null,
   "id": "713b1190",
   "metadata": {},
   "outputs": [],
   "source": []
  },
  {
   "cell_type": "code",
   "execution_count": null,
   "id": "908f0a14",
   "metadata": {},
   "outputs": [],
   "source": []
  },
  {
   "cell_type": "markdown",
   "id": "274813bf",
   "metadata": {},
   "source": [
    "### Are Dictionaries ordered ? \n",
    "Yes and No.\n",
    "- In Python 3.7 and above -> Ordered Dictionaries (It will remember the order of insertion)\n",
    "- In Python 3.6 or below -> Unordered Dictionaries"
   ]
  },
  {
   "cell_type": "code",
   "execution_count": null,
   "id": "05406caf",
   "metadata": {},
   "outputs": [],
   "source": []
  },
  {
   "cell_type": "code",
   "execution_count": null,
   "id": "3293c4c5",
   "metadata": {},
   "outputs": [],
   "source": []
  },
  {
   "cell_type": "code",
   "execution_count": null,
   "id": "c3625034",
   "metadata": {},
   "outputs": [],
   "source": []
  },
  {
   "cell_type": "markdown",
   "id": "36b0ce44",
   "metadata": {},
   "source": [
    "#### Quiz 3\n",
    "What is the output of the following code?\n",
    "```py\n",
    "d = {\"a\": 1, \"b\": 2, \"c\": 3}\n",
    "print(d.get(\"a\", 0))\n",
    "print(d.get(\"b\", 0))\n",
    "print(d.get(\"c\", 0))\n",
    "print(d.get(\"d\", 0))\n",
    "```"
   ]
  },
  {
   "cell_type": "code",
   "execution_count": null,
   "id": "da92951c",
   "metadata": {},
   "outputs": [],
   "source": []
  },
  {
   "cell_type": "code",
   "execution_count": null,
   "id": "956aeb3d",
   "metadata": {},
   "outputs": [],
   "source": []
  },
  {
   "cell_type": "code",
   "execution_count": null,
   "id": "d3d74ef6",
   "metadata": {},
   "outputs": [],
   "source": []
  },
  {
   "cell_type": "code",
   "execution_count": null,
   "id": "d60348d0",
   "metadata": {},
   "outputs": [],
   "source": []
  },
  {
   "cell_type": "markdown",
   "id": "6919262f",
   "metadata": {},
   "source": [
    "## Removing entries\n",
    "- pop()\n",
    "- del"
   ]
  },
  {
   "cell_type": "code",
   "execution_count": null,
   "id": "42af5d47",
   "metadata": {},
   "outputs": [],
   "source": []
  },
  {
   "cell_type": "code",
   "execution_count": null,
   "id": "1e528026",
   "metadata": {},
   "outputs": [],
   "source": []
  },
  {
   "cell_type": "code",
   "execution_count": null,
   "id": "b336a5a2",
   "metadata": {},
   "outputs": [],
   "source": []
  },
  {
   "cell_type": "code",
   "execution_count": null,
   "id": "5656b7ef",
   "metadata": {},
   "outputs": [],
   "source": []
  },
  {
   "cell_type": "code",
   "execution_count": null,
   "id": "ac65da43",
   "metadata": {},
   "outputs": [],
   "source": []
  },
  {
   "cell_type": "code",
   "execution_count": null,
   "id": "6c13dc0a",
   "metadata": {},
   "outputs": [],
   "source": []
  },
  {
   "cell_type": "code",
   "execution_count": null,
   "id": "98d98091",
   "metadata": {},
   "outputs": [],
   "source": []
  },
  {
   "cell_type": "markdown",
   "id": "df68466e",
   "metadata": {},
   "source": [
    "## keys() and values()"
   ]
  },
  {
   "cell_type": "code",
   "execution_count": null,
   "id": "bf0190ea",
   "metadata": {},
   "outputs": [],
   "source": []
  },
  {
   "cell_type": "code",
   "execution_count": null,
   "id": "ad7979ed",
   "metadata": {},
   "outputs": [],
   "source": []
  },
  {
   "cell_type": "markdown",
   "id": "0a92a43f",
   "metadata": {},
   "source": [
    "#### Quiz 4\n",
    "```py\n",
    "a = {1: 1, 2: 4, 3: 9}\n",
    "\n",
    "for x in a:\n",
    "  print(a[x], end=' ')\n",
    "```"
   ]
  },
  {
   "cell_type": "code",
   "execution_count": null,
   "id": "59d5bc53",
   "metadata": {},
   "outputs": [],
   "source": []
  },
  {
   "cell_type": "code",
   "execution_count": null,
   "id": "4ff6dd06",
   "metadata": {},
   "outputs": [],
   "source": []
  },
  {
   "cell_type": "code",
   "execution_count": null,
   "id": "065027ec",
   "metadata": {},
   "outputs": [],
   "source": []
  },
  {
   "cell_type": "code",
   "execution_count": null,
   "id": "da92915c",
   "metadata": {},
   "outputs": [],
   "source": []
  },
  {
   "cell_type": "code",
   "execution_count": null,
   "id": "8b4b99f4",
   "metadata": {},
   "outputs": [],
   "source": []
  },
  {
   "cell_type": "markdown",
   "id": "83c23a65",
   "metadata": {},
   "source": [
    "### How to check if a key is present in a dictionary ? "
   ]
  },
  {
   "cell_type": "code",
   "execution_count": null,
   "id": "c3604689",
   "metadata": {},
   "outputs": [],
   "source": []
  },
  {
   "cell_type": "code",
   "execution_count": null,
   "id": "7074af01",
   "metadata": {},
   "outputs": [],
   "source": []
  },
  {
   "cell_type": "code",
   "execution_count": null,
   "id": "798aa06d",
   "metadata": {},
   "outputs": [],
   "source": []
  },
  {
   "cell_type": "code",
   "execution_count": null,
   "id": "b2961f8a",
   "metadata": {},
   "outputs": [],
   "source": []
  },
  {
   "cell_type": "markdown",
   "id": "e7869812",
   "metadata": {},
   "source": [
    "#### Frequency Map\n",
    "Given a list of numbers, print the frequencies of all unique values in it (in any order)\n",
    "\n",
    "\n",
    "Input:\n",
    "```\n",
    "[5, 5, 2, 5, 2, 6, 1, 3]\n",
    "```\n",
    "\n",
    "Output:\n",
    "```\n",
    "5 -> 3\n",
    "2 -> 2\n",
    "6 -> 1\n",
    "1 -> 1\n",
    "3 -> 1\n",
    "(Order does not matter)\n",
    "```"
   ]
  },
  {
   "cell_type": "code",
   "execution_count": null,
   "id": "d119d34f",
   "metadata": {},
   "outputs": [],
   "source": []
  },
  {
   "cell_type": "code",
   "execution_count": null,
   "id": "dd48a688",
   "metadata": {},
   "outputs": [],
   "source": []
  },
  {
   "cell_type": "code",
   "execution_count": null,
   "id": "a0732b81",
   "metadata": {},
   "outputs": [],
   "source": []
  },
  {
   "cell_type": "code",
   "execution_count": null,
   "id": "f0ef58cf",
   "metadata": {},
   "outputs": [],
   "source": []
  },
  {
   "cell_type": "code",
   "execution_count": null,
   "id": "a97a1d93",
   "metadata": {},
   "outputs": [],
   "source": []
  },
  {
   "cell_type": "code",
   "execution_count": null,
   "id": "442207f3",
   "metadata": {},
   "outputs": [],
   "source": []
  },
  {
   "cell_type": "code",
   "execution_count": null,
   "id": "4f57a135",
   "metadata": {},
   "outputs": [],
   "source": []
  },
  {
   "cell_type": "code",
   "execution_count": null,
   "id": "34a0c4c4",
   "metadata": {},
   "outputs": [],
   "source": []
  },
  {
   "cell_type": "code",
   "execution_count": null,
   "id": "781749e8",
   "metadata": {},
   "outputs": [],
   "source": []
  },
  {
   "cell_type": "markdown",
   "id": "36020bd9",
   "metadata": {},
   "source": [
    "# Bonus Reading Material\n",
    "- Dictionary in Python - https://www.scaler.com/topics/python/dictionary-in-python/\n",
    "- dict() in Python - https://www.scaler.com/topics/dict-in-python/\n",
    "- What is Dictionary in Python? - https://www.scaler.com/topics/what-is-dictionary-in-python/\n",
    "- Python Dictionary values() - https://www.scaler.com/topics/python-dictionary-values/\n",
    "- Python Dictionary Keys() Method - https://www.scaler.com/topics/python-dictionary-keys/\n",
    "- What is Ordered Dictionary Python in Python? - https://www.scaler.com/topics/ordered-dictionary-python/\n",
    "- What is Nested Dictionary in Python? - https://www.scaler.com/topics/nested-dictionary-in-python/\n",
    "- Sort Dictionary by Value in Python - https://www.scaler.com/topics/sort-dictionary-by-value-in-python/\n",
    "- fromkeys() in Python - https://www.scaler.com/topics/fromkeys-in-python/\n",
    "- How to Convert a List to Dictionary in Python? - https://www.scaler.com/topics/list-to-dictionary-python/\n",
    "- List of Dictionaries in Python - https://www.scaler.com/topics/list-of-dictionaries-in-python/\n",
    "- What is the Difference Between List and Dictionary in Python? - https://www.scaler.com/topics/difference-between-list-and-dictionary-in-python/\n",
    "- Differences between List, Tuple, Set and Dictionary in Python - https://www.scaler.com/topics/python/difference-between-dictionary-list-tuple-and-set-in-python/"
   ]
  },
  {
   "cell_type": "code",
   "execution_count": null,
   "id": "d2f1de6f",
   "metadata": {},
   "outputs": [],
   "source": []
  },
  {
   "cell_type": "code",
   "execution_count": null,
   "id": "e38627ea",
   "metadata": {},
   "outputs": [],
   "source": []
  },
  {
   "cell_type": "code",
   "execution_count": null,
   "id": "3f9a3553",
   "metadata": {},
   "outputs": [],
   "source": []
  },
  {
   "cell_type": "markdown",
   "id": "801a011b",
   "metadata": {},
   "source": [
    "# Doubts"
   ]
  },
  {
   "cell_type": "code",
   "execution_count": null,
   "id": "7363250b",
   "metadata": {},
   "outputs": [],
   "source": []
  },
  {
   "cell_type": "code",
   "execution_count": null,
   "id": "35153a22",
   "metadata": {},
   "outputs": [],
   "source": []
  },
  {
   "cell_type": "code",
   "execution_count": null,
   "id": "e36a2c72",
   "metadata": {},
   "outputs": [],
   "source": []
  },
  {
   "cell_type": "code",
   "execution_count": null,
   "id": "9e01e682",
   "metadata": {},
   "outputs": [],
   "source": []
  },
  {
   "cell_type": "code",
   "execution_count": null,
   "id": "af842950",
   "metadata": {},
   "outputs": [],
   "source": []
  }
 ],
 "metadata": {
  "kernelspec": {
   "display_name": "Python 3 (ipykernel)",
   "language": "python",
   "name": "python3"
  },
  "language_info": {
   "codemirror_mode": {
    "name": "ipython",
    "version": 3
   },
   "file_extension": ".py",
   "mimetype": "text/x-python",
   "name": "python",
   "nbconvert_exporter": "python",
   "pygments_lexer": "ipython3",
   "version": "3.9.18"
  }
 },
 "nbformat": 4,
 "nbformat_minor": 5
}
