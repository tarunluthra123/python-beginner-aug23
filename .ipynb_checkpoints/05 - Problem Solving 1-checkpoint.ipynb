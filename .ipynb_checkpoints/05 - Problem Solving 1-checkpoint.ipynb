{
 "cells": [
  {
   "cell_type": "markdown",
   "id": "4053b0f2",
   "metadata": {},
   "source": [
    "# Problem Solving 1"
   ]
  },
  {
   "cell_type": "code",
   "execution_count": null,
   "id": "550577ea",
   "metadata": {},
   "outputs": [],
   "source": []
  },
  {
   "cell_type": "markdown",
   "id": "e29c906f",
   "metadata": {},
   "source": [
    "### Typecasting"
   ]
  },
  {
   "cell_type": "code",
   "execution_count": 1,
   "id": "55b1ba53",
   "metadata": {},
   "outputs": [],
   "source": [
    "# int to bool"
   ]
  },
  {
   "cell_type": "code",
   "execution_count": 2,
   "id": "113a6aad",
   "metadata": {},
   "outputs": [
    {
     "name": "stdout",
     "output_type": "stream",
     "text": [
      "True\n"
     ]
    }
   ],
   "source": [
    "print(bool(40))"
   ]
  },
  {
   "cell_type": "code",
   "execution_count": 3,
   "id": "1d29f8d2",
   "metadata": {},
   "outputs": [
    {
     "name": "stdout",
     "output_type": "stream",
     "text": [
      "True\n"
     ]
    }
   ],
   "source": [
    "print(bool(-40))"
   ]
  },
  {
   "cell_type": "code",
   "execution_count": 4,
   "id": "817b5927",
   "metadata": {},
   "outputs": [
    {
     "name": "stdout",
     "output_type": "stream",
     "text": [
      "False\n"
     ]
    }
   ],
   "source": [
    "print(bool(0))"
   ]
  },
  {
   "cell_type": "code",
   "execution_count": 5,
   "id": "00eb4a83",
   "metadata": {},
   "outputs": [],
   "source": [
    "# All integers give True when converted to bool except 0."
   ]
  },
  {
   "cell_type": "code",
   "execution_count": null,
   "id": "1864b902",
   "metadata": {},
   "outputs": [],
   "source": []
  },
  {
   "cell_type": "code",
   "execution_count": 6,
   "id": "d1fb7bb1",
   "metadata": {},
   "outputs": [],
   "source": [
    "# None to bool"
   ]
  },
  {
   "cell_type": "code",
   "execution_count": 7,
   "id": "d7d4db79",
   "metadata": {},
   "outputs": [
    {
     "name": "stdout",
     "output_type": "stream",
     "text": [
      "False\n"
     ]
    }
   ],
   "source": [
    "print(bool(None))"
   ]
  },
  {
   "cell_type": "code",
   "execution_count": null,
   "id": "a9ea9ce2",
   "metadata": {},
   "outputs": [],
   "source": []
  },
  {
   "cell_type": "code",
   "execution_count": 8,
   "id": "d1acce32",
   "metadata": {},
   "outputs": [
    {
     "ename": "NameError",
     "evalue": "name 'NoneType' is not defined",
     "output_type": "error",
     "traceback": [
      "\u001b[0;31m---------------------------------------------------------------------------\u001b[0m",
      "\u001b[0;31mNameError\u001b[0m                                 Traceback (most recent call last)",
      "\u001b[0;32m/var/folders/jn/1bsrct314hv5xmfm7vrcdrzc0000gn/T/ipykernel_92171/2204342015.py\u001b[0m in \u001b[0;36m<module>\u001b[0;34m\u001b[0m\n\u001b[1;32m      1\u001b[0m \u001b[0;31m# bool to None\u001b[0m\u001b[0;34m\u001b[0m\u001b[0;34m\u001b[0m\u001b[0m\n\u001b[0;32m----> 2\u001b[0;31m \u001b[0mprint\u001b[0m\u001b[0;34m(\u001b[0m\u001b[0mNoneType\u001b[0m\u001b[0;34m(\u001b[0m\u001b[0;32mTrue\u001b[0m\u001b[0;34m)\u001b[0m\u001b[0;34m)\u001b[0m\u001b[0;34m\u001b[0m\u001b[0;34m\u001b[0m\u001b[0m\n\u001b[0m",
      "\u001b[0;31mNameError\u001b[0m: name 'NoneType' is not defined"
     ]
    }
   ],
   "source": [
    "# bool to None\n",
    "print(NoneType(True))"
   ]
  },
  {
   "cell_type": "code",
   "execution_count": null,
   "id": "99315be0",
   "metadata": {},
   "outputs": [],
   "source": []
  },
  {
   "cell_type": "code",
   "execution_count": null,
   "id": "2284838e",
   "metadata": {},
   "outputs": [],
   "source": []
  },
  {
   "cell_type": "code",
   "execution_count": null,
   "id": "2a49bb03",
   "metadata": {},
   "outputs": [],
   "source": [
    "C = int(input())\n",
    "S = int(input())\n",
    "\n",
    "if C < S:\n",
    "    # Profit\n",
    "    print(1)\n",
    "    print(S - C)\n",
    "else:\n",
    "    # Loss\n",
    "    print(-1)\n",
    "    print(C - S)"
   ]
  },
  {
   "cell_type": "code",
   "execution_count": null,
   "id": "f2bf888d",
   "metadata": {},
   "outputs": [],
   "source": []
  },
  {
   "cell_type": "code",
   "execution_count": null,
   "id": "3dd844f0",
   "metadata": {},
   "outputs": [],
   "source": []
  },
  {
   "cell_type": "code",
   "execution_count": 9,
   "id": "5af54f87",
   "metadata": {},
   "outputs": [
    {
     "name": "stdout",
     "output_type": "stream",
     "text": [
      "2\n"
     ]
    }
   ],
   "source": [
    "a = 4\n",
    "b = -5\n",
    "if a > 0:\n",
    "    if b < 0:\n",
    "        a = a - 2 \n",
    "    elif a > 5:\n",
    "        a = a - 4\n",
    "    else:\n",
    "        a = a + 3\n",
    "else:\n",
    "    b = b + 2\n",
    "    \n",
    "print(a)"
   ]
  },
  {
   "cell_type": "code",
   "execution_count": null,
   "id": "d7bbf18e",
   "metadata": {},
   "outputs": [],
   "source": [
    "a = 4\n",
    "a = a - 2\n",
    "# 4 - 2 = 2"
   ]
  },
  {
   "cell_type": "code",
   "execution_count": null,
   "id": "e85debd2",
   "metadata": {},
   "outputs": [],
   "source": []
  },
  {
   "cell_type": "code",
   "execution_count": null,
   "id": "d6ab13f2",
   "metadata": {},
   "outputs": [],
   "source": [
    "if x > 2:\n",
    "    x = x*2\n",
    "\n",
    "if x > 4:\n",
    "    x = 0\n",
    "    \n",
    "print(x)"
   ]
  },
  {
   "cell_type": "code",
   "execution_count": null,
   "id": "15aeb752",
   "metadata": {},
   "outputs": [],
   "source": []
  },
  {
   "cell_type": "code",
   "execution_count": null,
   "id": "f73db4b3",
   "metadata": {},
   "outputs": [],
   "source": []
  },
  {
   "cell_type": "code",
   "execution_count": null,
   "id": "1690eea7",
   "metadata": {},
   "outputs": [],
   "source": []
  },
  {
   "cell_type": "markdown",
   "id": "11b696ee",
   "metadata": {},
   "source": [
    "### Max of 2"
   ]
  },
  {
   "cell_type": "markdown",
   "id": "515561a8",
   "metadata": {},
   "source": [
    "Given two integers in input, print the maximum of the two"
   ]
  },
  {
   "cell_type": "code",
   "execution_count": 11,
   "id": "fd74cbb4",
   "metadata": {},
   "outputs": [
    {
     "name": "stdout",
     "output_type": "stream",
     "text": [
      "30\n",
      "4\n",
      "30\n"
     ]
    }
   ],
   "source": [
    "a = int(input())\n",
    "b = int(input())\n",
    "\n",
    "if a > b:\n",
    "    print(a)\n",
    "else:\n",
    "    print(b)"
   ]
  },
  {
   "cell_type": "code",
   "execution_count": 13,
   "id": "6afdc33f",
   "metadata": {},
   "outputs": [
    {
     "name": "stdout",
     "output_type": "stream",
     "text": [
      "400\n"
     ]
    }
   ],
   "source": [
    "a = 30\n",
    "b = 400\n",
    "\n",
    "print(max(a, b))"
   ]
  },
  {
   "cell_type": "code",
   "execution_count": 14,
   "id": "f6e3cb55",
   "metadata": {},
   "outputs": [
    {
     "name": "stdout",
     "output_type": "stream",
     "text": [
      "30\n"
     ]
    }
   ],
   "source": [
    "print(min(a, b))"
   ]
  },
  {
   "cell_type": "code",
   "execution_count": 15,
   "id": "2652b95c",
   "metadata": {},
   "outputs": [
    {
     "name": "stdout",
     "output_type": "stream",
     "text": [
      "400\n"
     ]
    }
   ],
   "source": [
    "print(a if a > b else b)"
   ]
  },
  {
   "cell_type": "code",
   "execution_count": null,
   "id": "59df1506",
   "metadata": {},
   "outputs": [],
   "source": []
  },
  {
   "cell_type": "code",
   "execution_count": null,
   "id": "a159d829",
   "metadata": {},
   "outputs": [],
   "source": []
  },
  {
   "cell_type": "code",
   "execution_count": null,
   "id": "ee4c96cc",
   "metadata": {},
   "outputs": [],
   "source": []
  },
  {
   "cell_type": "code",
   "execution_count": null,
   "id": "919d9fce",
   "metadata": {},
   "outputs": [],
   "source": [
    "## Coding Rating"
   ]
  },
  {
   "cell_type": "code",
   "execution_count": 21,
   "id": "147c62bb",
   "metadata": {},
   "outputs": [
    {
     "name": "stdout",
     "output_type": "stream",
     "text": [
      "3\n",
      "Newbie\n"
     ]
    }
   ],
   "source": [
    "rating = int(input())\n",
    "\n",
    "if rating >= 2100:\n",
    "    if rating % 2 == 0:\n",
    "        print(\"GRAND MASTER\")\n",
    "    else:\n",
    "        print(\"grand master\")\n",
    "elif rating >= 1900:\n",
    "    if rating % 2 == 0:\n",
    "        print(\"CANDIDATE MASTER\")\n",
    "    else:\n",
    "        print(\"candidate master\")\n",
    "elif rating >= 1600:\n",
    "    if rating % 2 == 0:\n",
    "        print(\"EXPERT\")\n",
    "    else:\n",
    "        print(\"expert\")\n",
    "elif rating >= 1400:\n",
    "    if rating % 2 == 0:\n",
    "        print(\"PUPIL\")\n",
    "    else:\n",
    "        print(\"pupil\")\n",
    "else:\n",
    "    if rating % 2 == 0:\n",
    "        print(\"NEWBIE\")\n",
    "    else:\n",
    "        print(\"newbie\")"
   ]
  },
  {
   "cell_type": "code",
   "execution_count": null,
   "id": "3733fa42",
   "metadata": {},
   "outputs": [],
   "source": []
  },
  {
   "cell_type": "code",
   "execution_count": 20,
   "id": "43f93cab",
   "metadata": {},
   "outputs": [
    {
     "name": "stdout",
     "output_type": "stream",
     "text": [
      "Even\n"
     ]
    }
   ],
   "source": [
    "# Odd even check\n",
    "\n",
    "n = 6\n",
    "\n",
    "if n % 2 == 0:\n",
    "    print(\"Even\")\n",
    "else:\n",
    "    print(\"Odd\")"
   ]
  },
  {
   "cell_type": "code",
   "execution_count": null,
   "id": "030798fb",
   "metadata": {},
   "outputs": [],
   "source": []
  },
  {
   "cell_type": "code",
   "execution_count": null,
   "id": "b849de40",
   "metadata": {},
   "outputs": [],
   "source": []
  },
  {
   "cell_type": "code",
   "execution_count": null,
   "id": "199c7cb3",
   "metadata": {},
   "outputs": [],
   "source": []
  },
  {
   "cell_type": "markdown",
   "id": "05c84e28",
   "metadata": {},
   "source": [
    "### FizzBuzz\n",
    "Write a program that takes in a number N as input and does the following:\n",
    "- if N is a multiple of only 3, print Fizz\n",
    "- if N is a multiple of only 5 (not 3), print Buzz\n",
    "- if N is a multiple of both 3 and 5, print FizzBuzz"
   ]
  },
  {
   "cell_type": "code",
   "execution_count": 25,
   "id": "307fd1d3",
   "metadata": {},
   "outputs": [
    {
     "name": "stdout",
     "output_type": "stream",
     "text": [
      "FizzBuzz\n"
     ]
    }
   ],
   "source": [
    "N = 15\n",
    "\n",
    "# You can put N%15==0 condition here as well\n",
    "if N % 3 == 0 and N % 5 == 0:\n",
    "    print(\"FizzBuzz\")\n",
    "elif N % 3 == 0:\n",
    "    print(\"Fizz\")\n",
    "elif N % 5 == 0:\n",
    "    print(\"Buzz\")"
   ]
  },
  {
   "cell_type": "code",
   "execution_count": null,
   "id": "9d640bc0",
   "metadata": {},
   "outputs": [],
   "source": []
  },
  {
   "cell_type": "code",
   "execution_count": null,
   "id": "92db5fe6",
   "metadata": {},
   "outputs": [],
   "source": [
    "N = 6\n",
    "\n",
    "if N % 2 == 0:\n",
    "    print(\"Even\")"
   ]
  },
  {
   "cell_type": "code",
   "execution_count": null,
   "id": "3c6de2ca",
   "metadata": {},
   "outputs": [],
   "source": []
  },
  {
   "cell_type": "code",
   "execution_count": 26,
   "id": "8946955e",
   "metadata": {},
   "outputs": [
    {
     "name": "stdout",
     "output_type": "stream",
     "text": [
      "Machine Learning\n"
     ]
    }
   ],
   "source": [
    "if False:\n",
    "    print(\"Artificial Intelligence\")\n",
    "elif True:\n",
    "    print(\"Machine Learning\")\n",
    "elif True:\n",
    "    print(\"Data Science\")\n",
    "else:\n",
    "    print(\"Deep Learning\")"
   ]
  },
  {
   "cell_type": "code",
   "execution_count": null,
   "id": "b7dae809",
   "metadata": {},
   "outputs": [],
   "source": []
  },
  {
   "cell_type": "code",
   "execution_count": null,
   "id": "ba211f1b",
   "metadata": {},
   "outputs": [],
   "source": []
  },
  {
   "cell_type": "markdown",
   "id": "20d5e354",
   "metadata": {},
   "source": [
    "\n",
    "```py\n",
    "x = 0\n",
    "\n",
    "if x > 0:\n",
    "  print('positive')\n",
    "elif _____:\n",
    "  print('zero')\n",
    "else:\n",
    "  print('negative')\n",
    "```\n",
    "Fill the condition"
   ]
  },
  {
   "cell_type": "code",
   "execution_count": 27,
   "id": "61b3cd7d",
   "metadata": {},
   "outputs": [
    {
     "name": "stdout",
     "output_type": "stream",
     "text": [
      "zero\n"
     ]
    }
   ],
   "source": [
    "x = 0\n",
    "\n",
    "if x > 0:\n",
    "    print('positive')\n",
    "elif x == 0:\n",
    "    print('zero')\n",
    "else:\n",
    "    print('negative')"
   ]
  },
  {
   "cell_type": "code",
   "execution_count": 29,
   "id": "3a28d04d",
   "metadata": {},
   "outputs": [
    {
     "name": "stdout",
     "output_type": "stream",
     "text": [
      "5.233875983475982\n"
     ]
    }
   ],
   "source": [
    "print(5.2338759834759820374508914368134895104957903475)\n",
    "# 15 digits of precision"
   ]
  },
  {
   "cell_type": "code",
   "execution_count": 32,
   "id": "9cbd7dba",
   "metadata": {},
   "outputs": [
    {
     "name": "stdout",
     "output_type": "stream",
     "text": [
      "5.23\n"
     ]
    }
   ],
   "source": [
    "x = 5.233875983475982\n",
    "\n",
    "x = x * 100 # 523.38......\n",
    "x = int(x) # 523\n",
    "x = x / 100 # 5.23\n",
    "\n",
    "print(x)"
   ]
  },
  {
   "cell_type": "code",
   "execution_count": 33,
   "id": "acfd7958",
   "metadata": {},
   "outputs": [
    {
     "name": "stdout",
     "output_type": "stream",
     "text": [
      "4\n",
      "4\n"
     ]
    }
   ],
   "source": [
    "import math\n",
    "\n",
    "# functions for rounding off\n",
    "print(math.ceil(3.5)) # round off to higher integer\n",
    "print(math.floor(4.5)) # round off to lower integer"
   ]
  },
  {
   "cell_type": "code",
   "execution_count": 35,
   "id": "62b5a1be",
   "metadata": {},
   "outputs": [
    {
     "name": "stdout",
     "output_type": "stream",
     "text": [
      "3\n"
     ]
    }
   ],
   "source": [
    "print(math.floor(3.8))"
   ]
  },
  {
   "cell_type": "code",
   "execution_count": 36,
   "id": "43e96dd3",
   "metadata": {},
   "outputs": [
    {
     "name": "stdout",
     "output_type": "stream",
     "text": [
      "-10\n"
     ]
    }
   ],
   "source": [
    "print(math.floor(-9.8))"
   ]
  },
  {
   "cell_type": "code",
   "execution_count": 37,
   "id": "0d71f086",
   "metadata": {},
   "outputs": [
    {
     "name": "stdout",
     "output_type": "stream",
     "text": [
      "4\n"
     ]
    }
   ],
   "source": [
    "print(math.floor(4.5))"
   ]
  },
  {
   "cell_type": "code",
   "execution_count": 38,
   "id": "5017193c",
   "metadata": {},
   "outputs": [
    {
     "name": "stdout",
     "output_type": "stream",
     "text": [
      "4\n"
     ]
    }
   ],
   "source": [
    "print(math.floor(4.9999))"
   ]
  },
  {
   "cell_type": "code",
   "execution_count": null,
   "id": "1dffae9d",
   "metadata": {},
   "outputs": [],
   "source": []
  },
  {
   "cell_type": "code",
   "execution_count": null,
   "id": "a84a2b5b",
   "metadata": {},
   "outputs": [],
   "source": []
  },
  {
   "cell_type": "code",
   "execution_count": 39,
   "id": "25c00ae1",
   "metadata": {},
   "outputs": [
    {
     "name": "stdout",
     "output_type": "stream",
     "text": [
      "5\n"
     ]
    }
   ],
   "source": [
    "print(math.ceil(4.1))"
   ]
  },
  {
   "cell_type": "code",
   "execution_count": 40,
   "id": "1e123db7",
   "metadata": {},
   "outputs": [
    {
     "name": "stdout",
     "output_type": "stream",
     "text": [
      "10\n"
     ]
    }
   ],
   "source": [
    "print(math.ceil(9.00001))"
   ]
  },
  {
   "cell_type": "code",
   "execution_count": null,
   "id": "a50f26c5",
   "metadata": {},
   "outputs": [],
   "source": []
  }
 ],
 "metadata": {
  "kernelspec": {
   "display_name": "Python 3 (ipykernel)",
   "language": "python",
   "name": "python3"
  },
  "language_info": {
   "codemirror_mode": {
    "name": "ipython",
    "version": 3
   },
   "file_extension": ".py",
   "mimetype": "text/x-python",
   "name": "python",
   "nbconvert_exporter": "python",
   "pygments_lexer": "ipython3",
   "version": "3.9.12"
  }
 },
 "nbformat": 4,
 "nbformat_minor": 5
}
