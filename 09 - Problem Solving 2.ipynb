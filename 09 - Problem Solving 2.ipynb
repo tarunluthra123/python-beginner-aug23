{
 "cells": [
  {
   "cell_type": "markdown",
   "id": "0a48cd42",
   "metadata": {},
   "source": [
    "# Problem Solving 2"
   ]
  },
  {
   "cell_type": "code",
   "execution_count": null,
   "id": "57ceaa1d",
   "metadata": {},
   "outputs": [],
   "source": []
  },
  {
   "cell_type": "code",
   "execution_count": null,
   "id": "9783511b",
   "metadata": {},
   "outputs": [],
   "source": [
    "# Reverse Game - Reverse of a number\n",
    "# N = 427\n",
    "# ans = 724"
   ]
  },
  {
   "cell_type": "code",
   "execution_count": 2,
   "id": "694981f0",
   "metadata": {},
   "outputs": [
    {
     "name": "stdout",
     "output_type": "stream",
     "text": [
      "654321\n"
     ]
    }
   ],
   "source": [
    "N = 123456\n",
    "\n",
    "ans = 0\n",
    "while N > 0:\n",
    "    d = N % 10\n",
    "    ans = ans * 10 + d\n",
    "    N = N // 10\n",
    "    \n",
    "print(ans)"
   ]
  },
  {
   "cell_type": "code",
   "execution_count": null,
   "id": "97c33a46",
   "metadata": {},
   "outputs": [],
   "source": []
  },
  {
   "cell_type": "code",
   "execution_count": null,
   "id": "1b7ef191",
   "metadata": {},
   "outputs": [],
   "source": []
  },
  {
   "cell_type": "code",
   "execution_count": 7,
   "id": "749f8fae",
   "metadata": {},
   "outputs": [
    {
     "name": "stdout",
     "output_type": "stream",
     "text": [
      "8\n"
     ]
    }
   ],
   "source": [
    "N = int(input())\n",
    "\n",
    "count_of_factors = 0\n",
    "for i in range(1, N+1):\n",
    "    if N % i == 0:\n",
    "        count_of_factors += 1\n",
    "        \n",
    "print(count_of_factors)"
   ]
  },
  {
   "cell_type": "code",
   "execution_count": null,
   "id": "08511940",
   "metadata": {},
   "outputs": [],
   "source": [
    "# Short note: The problem added to your dashboard has high constraints.\n",
    "# It will be updated\n",
    "# by the end of this lecture (or 5 mins after it)"
   ]
  },
  {
   "cell_type": "code",
   "execution_count": null,
   "id": "ce36fd07",
   "metadata": {},
   "outputs": [],
   "source": []
  },
  {
   "cell_type": "code",
   "execution_count": null,
   "id": "e03041a4",
   "metadata": {},
   "outputs": [],
   "source": []
  },
  {
   "cell_type": "code",
   "execution_count": 9,
   "id": "8eb1397d",
   "metadata": {},
   "outputs": [
    {
     "name": "stdout",
     "output_type": "stream",
     "text": [
      "19\n",
      "Prime\n"
     ]
    }
   ],
   "source": [
    "# How to check if N is a prime number ? \n",
    "\n",
    "N = int(input())\n",
    "\n",
    "count_of_factors = 0\n",
    "for i in range(1, N+1):\n",
    "    if N % i == 0:\n",
    "        count_of_factors += 1\n",
    "        \n",
    "if count_of_factors == 2:\n",
    "    print(\"Prime\")\n",
    "else:\n",
    "    print(\"Not prime\")"
   ]
  },
  {
   "cell_type": "code",
   "execution_count": null,
   "id": "e09a2e54",
   "metadata": {},
   "outputs": [],
   "source": [
    "# Above method takes about N iterations\n",
    "# This is not feasible for every large numbers (but ok for the scope of beginner batch)\n",
    "\n",
    "# A slighly better way to check for primes is to iterate only till\n",
    "# sqrt(N). This leads to less number of iterations and is faster.\n",
    "# This is covered in Academy Intermediate\n",
    "\n",
    "# The fastest way to check for prime is through a technique called Sieve of Eratosthenes\n",
    "# This is very high level and is covered in our Academy Advanced batch"
   ]
  },
  {
   "cell_type": "code",
   "execution_count": null,
   "id": "a5ff1fdc",
   "metadata": {},
   "outputs": [],
   "source": []
  },
  {
   "cell_type": "code",
   "execution_count": null,
   "id": "e8e29895",
   "metadata": {},
   "outputs": [],
   "source": []
  },
  {
   "cell_type": "code",
   "execution_count": null,
   "id": "b1c04868",
   "metadata": {},
   "outputs": [],
   "source": []
  },
  {
   "cell_type": "code",
   "execution_count": 13,
   "id": "8e217579",
   "metadata": {},
   "outputs": [
    {
     "name": "stdout",
     "output_type": "stream",
     "text": [
      "*  *\n",
      "*  *\n",
      "*  *\n",
      "*  *\n"
     ]
    }
   ],
   "source": [
    "# Two Line Star Pattern\n",
    "\n",
    "\n",
    "N = int(input())\n",
    "\n",
    "for i in range(1, N+1):\n",
    "    # For each row, we have to print a star, then (N-2) spaces, then a star again\n",
    "    \n",
    "    print('*', end='')\n",
    "    \n",
    "    for j in range(N-2):\n",
    "        print(' ', end='')\n",
    "        \n",
    "    print('*')"
   ]
  },
  {
   "cell_type": "code",
   "execution_count": null,
   "id": "f674bb35",
   "metadata": {},
   "outputs": [],
   "source": []
  },
  {
   "cell_type": "code",
   "execution_count": null,
   "id": "cb5f721f",
   "metadata": {},
   "outputs": [],
   "source": []
  },
  {
   "cell_type": "code",
   "execution_count": 15,
   "id": "8166652e",
   "metadata": {},
   "outputs": [
    {
     "name": "stdout",
     "output_type": "stream",
     "text": [
      "15\n",
      "***************\n",
      "*            *\n",
      "*           *\n",
      "*          *\n",
      "*         *\n",
      "*        *\n",
      "*       *\n",
      "*      *\n",
      "*     *\n",
      "*    *\n",
      "*   *\n",
      "*  *\n",
      "* *\n",
      "**\n",
      "*\n"
     ]
    }
   ],
   "source": [
    "# Hollow Inverted Half Pyramid\n",
    "\n",
    "N = int(input())\n",
    "\n",
    "# Pattern 1\n",
    "for i in range(1, N+1):\n",
    "    print('*', end='')\n",
    "print()\n",
    "\n",
    "\n",
    "# Pattern 2\n",
    "# N-2 rows\n",
    "for i in range(1, N-1):\n",
    "    # For every row, we want to print *, (N-i-2) spaces, *\n",
    "    print('*', end='')\n",
    "    \n",
    "    for j in range(N-i-2):\n",
    "        print(' ', end='')\n",
    "        \n",
    "    print('*')\n",
    "    \n",
    "# Pattern 3\n",
    "print('*')"
   ]
  },
  {
   "cell_type": "code",
   "execution_count": null,
   "id": "2c99db2f",
   "metadata": {},
   "outputs": [],
   "source": []
  },
  {
   "cell_type": "code",
   "execution_count": null,
   "id": "fb6cdf6c",
   "metadata": {},
   "outputs": [],
   "source": []
  },
  {
   "cell_type": "code",
   "execution_count": null,
   "id": "840375cd",
   "metadata": {},
   "outputs": [],
   "source": []
  },
  {
   "cell_type": "code",
   "execution_count": null,
   "id": "c317311c",
   "metadata": {},
   "outputs": [],
   "source": [
    "Numeric Stair Pattern\n",
    "1\n",
    "1 2\n",
    "1 2 3\n",
    "1 2 3 4"
   ]
  },
  {
   "cell_type": "code",
   "execution_count": null,
   "id": "0dd3e2f7",
   "metadata": {},
   "outputs": [],
   "source": []
  },
  {
   "cell_type": "code",
   "execution_count": null,
   "id": "fdafd640",
   "metadata": {},
   "outputs": [],
   "source": []
  },
  {
   "cell_type": "code",
   "execution_count": null,
   "id": "29c2384d",
   "metadata": {},
   "outputs": [],
   "source": []
  },
  {
   "cell_type": "code",
   "execution_count": 16,
   "id": "66ebd466",
   "metadata": {},
   "outputs": [
    {
     "name": "stdout",
     "output_type": "stream",
     "text": [
      "1 2 3 4 5 6 7 8 9 10 "
     ]
    }
   ],
   "source": [
    "# Print all numbers from 1 to 10 with a space in between\n",
    "# Remove the last space after 10\n",
    "for i in range(1, 11):\n",
    "    print(i, end=' ')"
   ]
  },
  {
   "cell_type": "code",
   "execution_count": 17,
   "id": "bacb33a3",
   "metadata": {},
   "outputs": [
    {
     "name": "stdout",
     "output_type": "stream",
     "text": [
      "1 2 3 4 5 6 7 8 9 10\n"
     ]
    }
   ],
   "source": [
    "for i in range(1, 10):\n",
    "    print(i, end=' ')\n",
    "print(10)"
   ]
  },
  {
   "cell_type": "code",
   "execution_count": 18,
   "id": "3eb89500",
   "metadata": {},
   "outputs": [
    {
     "name": "stdout",
     "output_type": "stream",
     "text": [
      "1 2 3 4 5 6 7 8 9 10"
     ]
    }
   ],
   "source": [
    "for i in range(1, 11):\n",
    "    print(i, end='')\n",
    "    if i < 10:\n",
    "        print(' ', end='')"
   ]
  },
  {
   "cell_type": "code",
   "execution_count": 20,
   "id": "01c9e617",
   "metadata": {},
   "outputs": [
    {
     "name": "stdout",
     "output_type": "stream",
     "text": [
      "1 2 3 4 5 6 7 8 9 10"
     ]
    }
   ],
   "source": [
    "print(1, end='')\n",
    "for i in range(2, 11):\n",
    "    print(' ', i, end='', sep='')"
   ]
  },
  {
   "cell_type": "code",
   "execution_count": null,
   "id": "487c9af1",
   "metadata": {},
   "outputs": [],
   "source": []
  }
 ],
 "metadata": {
  "kernelspec": {
   "display_name": "Python 3 (ipykernel)",
   "language": "python",
   "name": "python3"
  },
  "language_info": {
   "codemirror_mode": {
    "name": "ipython",
    "version": 3
   },
   "file_extension": ".py",
   "mimetype": "text/x-python",
   "name": "python",
   "nbconvert_exporter": "python",
   "pygments_lexer": "ipython3",
   "version": "3.9.12"
  }
 },
 "nbformat": 4,
 "nbformat_minor": 5
}
