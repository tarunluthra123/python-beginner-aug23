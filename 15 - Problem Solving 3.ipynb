{
 "cells": [
  {
   "cell_type": "markdown",
   "id": "63bb297c",
   "metadata": {},
   "source": [
    "# Problem Solving 3"
   ]
  },
  {
   "cell_type": "code",
   "execution_count": null,
   "id": "dba0df3d",
   "metadata": {},
   "outputs": [],
   "source": []
  },
  {
   "cell_type": "code",
   "execution_count": null,
   "id": "cc9ea598",
   "metadata": {},
   "outputs": [],
   "source": [
    "# How to create a list from user input ? "
   ]
  },
  {
   "cell_type": "code",
   "execution_count": null,
   "id": "a8720c27",
   "metadata": {},
   "outputs": [],
   "source": []
  },
  {
   "cell_type": "code",
   "execution_count": null,
   "id": "f1f72f46",
   "metadata": {},
   "outputs": [],
   "source": [
    "# Input 1\n",
    "# 5\n",
    "# 10 20 30 40 50"
   ]
  },
  {
   "cell_type": "code",
   "execution_count": 10,
   "id": "c1797c7f",
   "metadata": {},
   "outputs": [
    {
     "name": "stdout",
     "output_type": "stream",
     "text": [
      "5\n",
      "10 20 30 40 50\n",
      "Before the loop = ['10', '20', '30', '40', '50']\n",
      "After the loop = [10, 20, 30, 40, 50]\n"
     ]
    }
   ],
   "source": [
    "n = int(input())\n",
    "\n",
    "l = input().split()\n",
    "\n",
    "print(\"Before the loop =\",l)\n",
    "\n",
    "for i in range(n):\n",
    "    l[i] = int(l[i])\n",
    "\n",
    "print(\"After the loop =\", l)"
   ]
  },
  {
   "cell_type": "code",
   "execution_count": null,
   "id": "bd8fe58a",
   "metadata": {},
   "outputs": [],
   "source": []
  },
  {
   "cell_type": "code",
   "execution_count": null,
   "id": "c89d7636",
   "metadata": {},
   "outputs": [],
   "source": []
  },
  {
   "cell_type": "code",
   "execution_count": null,
   "id": "926f42ec",
   "metadata": {},
   "outputs": [],
   "source": [
    "# Input 2\n",
    "# 5\n",
    "# 10\n",
    "# 20\n",
    "# 30\n",
    "# 40\n",
    "# 50"
   ]
  },
  {
   "cell_type": "code",
   "execution_count": 1,
   "id": "1cf56099",
   "metadata": {},
   "outputs": [
    {
     "name": "stdout",
     "output_type": "stream",
     "text": [
      "4\n",
      "20\n",
      "40\n",
      "60\n",
      "80\n",
      "[20, 40, 60, 80]\n"
     ]
    }
   ],
   "source": [
    "n = int(input())\n",
    "\n",
    "l = []\n",
    "\n",
    "for i in range(n):\n",
    "    x = int(input())\n",
    "    l.append(x)\n",
    "    \n",
    "print(l)"
   ]
  },
  {
   "cell_type": "code",
   "execution_count": null,
   "id": "29d38b70",
   "metadata": {},
   "outputs": [],
   "source": []
  },
  {
   "cell_type": "code",
   "execution_count": null,
   "id": "6b4d962f",
   "metadata": {},
   "outputs": [],
   "source": []
  },
  {
   "cell_type": "code",
   "execution_count": 4,
   "id": "b58820a0",
   "metadata": {},
   "outputs": [
    {
     "data": {
      "text/plain": [
       "['I', 'am', 'a', 'programmer']"
      ]
     },
     "execution_count": 4,
     "metadata": {},
     "output_type": "execute_result"
    }
   ],
   "source": [
    "\"I am a programmer\".split()"
   ]
  },
  {
   "cell_type": "code",
   "execution_count": null,
   "id": "eefb217a",
   "metadata": {},
   "outputs": [],
   "source": [
    "# split() breaks down the string into a list of smaller tokens\n",
    "# list of strings"
   ]
  },
  {
   "cell_type": "code",
   "execution_count": 5,
   "id": "f08cb9f2",
   "metadata": {},
   "outputs": [
    {
     "data": {
      "text/plain": [
       "['10', '20', '30', '40']"
      ]
     },
     "execution_count": 5,
     "metadata": {},
     "output_type": "execute_result"
    }
   ],
   "source": [
    "\"10 20 30 40\".split()"
   ]
  },
  {
   "cell_type": "code",
   "execution_count": null,
   "id": "8597c86c",
   "metadata": {},
   "outputs": [],
   "source": []
  },
  {
   "cell_type": "code",
   "execution_count": null,
   "id": "7b0f50fa",
   "metadata": {},
   "outputs": [],
   "source": []
  },
  {
   "cell_type": "code",
   "execution_count": null,
   "id": "5590287e",
   "metadata": {},
   "outputs": [],
   "source": []
  },
  {
   "cell_type": "code",
   "execution_count": null,
   "id": "9a619a5a",
   "metadata": {},
   "outputs": [],
   "source": [
    "# Ceil and floor - From List Slicing lecture"
   ]
  },
  {
   "cell_type": "code",
   "execution_count": 11,
   "id": "df1ba269",
   "metadata": {},
   "outputs": [],
   "source": [
    "A = [-2, 4, 4, -6, -9, 8, 9]\n",
    "B = 0"
   ]
  },
  {
   "cell_type": "code",
   "execution_count": 12,
   "id": "639ed23a",
   "metadata": {},
   "outputs": [],
   "source": [
    "largerThanB = [] # This will store all elements >= B\n",
    "smallerThanB = [] # This will store all elements <= B"
   ]
  },
  {
   "cell_type": "code",
   "execution_count": 13,
   "id": "fcf1eac4",
   "metadata": {},
   "outputs": [
    {
     "name": "stdout",
     "output_type": "stream",
     "text": [
      "Larger list =  [4, 4, 8, 9]\n",
      "Smaller list =  [-2, -6, -9]\n"
     ]
    }
   ],
   "source": [
    "for x in A:\n",
    "    if x >= B:\n",
    "        largerThanB.append(x)\n",
    "        \n",
    "    if x <= B:\n",
    "        smallerThanB.append(x)\n",
    "        \n",
    "print(\"Larger list = \", largerThanB)\n",
    "print(\"Smaller list = \", smallerThanB)"
   ]
  },
  {
   "cell_type": "code",
   "execution_count": 14,
   "id": "a985fe76",
   "metadata": {},
   "outputs": [
    {
     "name": "stdout",
     "output_type": "stream",
     "text": [
      "Ceil =  4\n",
      "Floor =  -2\n"
     ]
    }
   ],
   "source": [
    "print(\"Ceil = \", min(largerThanB))\n",
    "print(\"Floor = \", max(smallerThanB))"
   ]
  },
  {
   "cell_type": "code",
   "execution_count": null,
   "id": "f6a3ee7a",
   "metadata": {},
   "outputs": [],
   "source": [
    "# Final solution\n",
    "\n",
    "class Solution:\n",
    "    # @param A : list of integers\n",
    "    # @param B : integer\n",
    "    # @return a list of integers\n",
    "    def solve(self, A, B):\n",
    "        largerThanB = [] # This will store all elements >= B\n",
    "        smallerThanB = [] # This will store all elements <= B\n",
    "        \n",
    "        for x in A:\n",
    "            if x >= B:\n",
    "                largerThanB.append(x)\n",
    "                \n",
    "            if x <= B:\n",
    "                smallerThanB.append(x)\n",
    "                \n",
    "        return [min(largerThanB), max(smallerThanB)]"
   ]
  },
  {
   "cell_type": "code",
   "execution_count": null,
   "id": "126db736",
   "metadata": {},
   "outputs": [],
   "source": []
  },
  {
   "cell_type": "code",
   "execution_count": null,
   "id": "f80f6d40",
   "metadata": {},
   "outputs": [],
   "source": []
  },
  {
   "cell_type": "code",
   "execution_count": null,
   "id": "2844f65f",
   "metadata": {},
   "outputs": [],
   "source": []
  },
  {
   "cell_type": "markdown",
   "id": "ba51c4f1",
   "metadata": {},
   "source": [
    "res = [[0 for j in range(m)] for i in range(n)] Help me understand this syntax - m1 and n2 are rows and cols"
   ]
  },
  {
   "cell_type": "code",
   "execution_count": 15,
   "id": "babb8b91",
   "metadata": {},
   "outputs": [],
   "source": [
    "# This kind of syntax is called list comprehension. \n",
    "# This is more like a shorthand way of writing list loops.\n",
    "# https://www.scaler.com/topics/list-comprehension-in-python/"
   ]
  },
  {
   "cell_type": "code",
   "execution_count": null,
   "id": "cb604404",
   "metadata": {},
   "outputs": [],
   "source": []
  },
  {
   "cell_type": "code",
   "execution_count": 16,
   "id": "4e750d52",
   "metadata": {},
   "outputs": [],
   "source": [
    "# Creating a matrix (2D lists) of size n * m with all values initialised to 0."
   ]
  },
  {
   "cell_type": "code",
   "execution_count": 17,
   "id": "3612e4cb",
   "metadata": {},
   "outputs": [],
   "source": [
    "def initMatrixWithZeroes(n, m):\n",
    "    \"\"\"\n",
    "    This function takes the size of matrix.\n",
    "    n = no of rows.\n",
    "    m = no of cols.\n",
    "    Function returns a matrix initialised with zeroes of that size.\n",
    "    \"\"\"\n",
    "    a = []\n",
    "    \n",
    "    for i in range(n):\n",
    "        # In each iteration, prepare one row\n",
    "        row = []\n",
    "        for j in range(m):\n",
    "            row.append(0)\n",
    "        a.append(row)\n",
    "    \n",
    "    return a"
   ]
  },
  {
   "cell_type": "code",
   "execution_count": 22,
   "id": "8a2cefe1",
   "metadata": {},
   "outputs": [
    {
     "name": "stdout",
     "output_type": "stream",
     "text": [
      "[[0, 0], [0, 0], [0, 0]]\n"
     ]
    }
   ],
   "source": [
    "matrix = initMatrixWithZeroes(3, 2)\n",
    "print(matrix)"
   ]
  },
  {
   "cell_type": "code",
   "execution_count": null,
   "id": "c26485e8",
   "metadata": {},
   "outputs": [],
   "source": []
  },
  {
   "cell_type": "code",
   "execution_count": null,
   "id": "c9b0d9cf",
   "metadata": {},
   "outputs": [],
   "source": []
  },
  {
   "cell_type": "code",
   "execution_count": 23,
   "id": "6637a924",
   "metadata": {},
   "outputs": [],
   "source": [
    "# Reading input like size of list and content in same line\n",
    "\n",
    "# Sample input\n",
    "# 4 10 20 30 40"
   ]
  },
  {
   "cell_type": "code",
   "execution_count": 31,
   "id": "bf5011ee",
   "metadata": {},
   "outputs": [
    {
     "name": "stdout",
     "output_type": "stream",
     "text": [
      "4 10 20 30 40\n",
      "[4, 10, 20, 30, 40]\n"
     ]
    }
   ],
   "source": [
    "l = input().split()\n",
    "\n",
    "for i in range(len(l)):\n",
    "    l[i] = int(l[i])\n",
    "    \n",
    "print(l)"
   ]
  },
  {
   "cell_type": "code",
   "execution_count": 32,
   "id": "c43abfa5",
   "metadata": {},
   "outputs": [],
   "source": [
    "n = l[0]"
   ]
  },
  {
   "cell_type": "code",
   "execution_count": 33,
   "id": "a32b828c",
   "metadata": {},
   "outputs": [
    {
     "name": "stdout",
     "output_type": "stream",
     "text": [
      "Size =  4\n"
     ]
    }
   ],
   "source": [
    "print(\"Size = \", n)"
   ]
  },
  {
   "cell_type": "code",
   "execution_count": 34,
   "id": "54b4a219",
   "metadata": {},
   "outputs": [
    {
     "name": "stdout",
     "output_type": "stream",
     "text": [
      "Content =  [10, 20, 30, 40]\n"
     ]
    }
   ],
   "source": [
    "print(\"Content = \", l[1:])"
   ]
  },
  {
   "cell_type": "code",
   "execution_count": 35,
   "id": "7ea27a8e",
   "metadata": {},
   "outputs": [
    {
     "name": "stdout",
     "output_type": "stream",
     "text": [
      "4 [10, 20, 30, 40]\n"
     ]
    }
   ],
   "source": [
    "n = l[0]\n",
    "l = l[1:]\n",
    "\n",
    "print(n, l)"
   ]
  },
  {
   "cell_type": "code",
   "execution_count": null,
   "id": "6f64bcfa",
   "metadata": {},
   "outputs": [],
   "source": []
  },
  {
   "cell_type": "code",
   "execution_count": null,
   "id": "b4862e0a",
   "metadata": {},
   "outputs": [],
   "source": [
    "# Interview type problems\n",
    "# Leetcode or Interviewbit"
   ]
  },
  {
   "cell_type": "code",
   "execution_count": null,
   "id": "a74e0841",
   "metadata": {},
   "outputs": [],
   "source": [
    "# For practicing the basics\n",
    "# Hackerrank or Hackerearth"
   ]
  },
  {
   "cell_type": "code",
   "execution_count": 36,
   "id": "70d9b336",
   "metadata": {},
   "outputs": [],
   "source": [
    "# Competitive Programming platforms\n",
    "# Atcoder, Codechef, Codeforces, Topcoder"
   ]
  },
  {
   "cell_type": "code",
   "execution_count": null,
   "id": "8d4d6759",
   "metadata": {},
   "outputs": [],
   "source": [
    "# Machine learning and DSML\n",
    "# Kaggle"
   ]
  },
  {
   "cell_type": "code",
   "execution_count": null,
   "id": "26231e1b",
   "metadata": {},
   "outputs": [],
   "source": []
  },
  {
   "cell_type": "code",
   "execution_count": null,
   "id": "92752df2",
   "metadata": {},
   "outputs": [],
   "source": []
  },
  {
   "cell_type": "code",
   "execution_count": null,
   "id": "312a7bdf",
   "metadata": {},
   "outputs": [],
   "source": []
  },
  {
   "cell_type": "code",
   "execution_count": 37,
   "id": "91d64754",
   "metadata": {},
   "outputs": [],
   "source": [
    "nums = [1, 1, 2, 3, 5, 8, 13]\n",
    "# What is the result of nums[:5]?"
   ]
  },
  {
   "cell_type": "code",
   "execution_count": 38,
   "id": "5daad88b",
   "metadata": {},
   "outputs": [
    {
     "name": "stdout",
     "output_type": "stream",
     "text": [
      "[1, 1, 2, 3, 5]\n"
     ]
    }
   ],
   "source": [
    "print(nums[:5])"
   ]
  },
  {
   "cell_type": "code",
   "execution_count": null,
   "id": "11f07aee",
   "metadata": {},
   "outputs": [],
   "source": []
  },
  {
   "cell_type": "code",
   "execution_count": null,
   "id": "d58d0efe",
   "metadata": {},
   "outputs": [],
   "source": []
  },
  {
   "cell_type": "code",
   "execution_count": null,
   "id": "b7e39c20",
   "metadata": {},
   "outputs": [],
   "source": []
  },
  {
   "cell_type": "code",
   "execution_count": null,
   "id": "b04c3061",
   "metadata": {},
   "outputs": [],
   "source": [
    "# First and Last Index\n",
    "A = [1, 9, 9, 9, 10, 21]\n",
    "B = 9\n",
    "\n",
    "# C = [1, 3]\n",
    "# first occurence = index 1\n",
    "# last occurence = index 3\n",
    "\n",
    "first_index = ..\n",
    "\n",
    "for ...\n",
    "\n",
    "\n",
    "last_index = ..\n",
    "\n",
    "for ..\n",
    "\n",
    "\n",
    "return [first_index, last_index]"
   ]
  },
  {
   "cell_type": "code",
   "execution_count": null,
   "id": "c1e37ca3",
   "metadata": {},
   "outputs": [],
   "source": []
  },
  {
   "cell_type": "code",
   "execution_count": null,
   "id": "5ff6277b",
   "metadata": {},
   "outputs": [],
   "source": []
  },
  {
   "cell_type": "code",
   "execution_count": 39,
   "id": "7d1aa156",
   "metadata": {},
   "outputs": [
    {
     "name": "stdout",
     "output_type": "stream",
     "text": [
      "[2, 3, 5]\n"
     ]
    }
   ],
   "source": [
    "nums = [1, 1, 2, 3, 5, 8, 13]  \n",
    "print(nums[-5:-2])"
   ]
  },
  {
   "cell_type": "code",
   "execution_count": null,
   "id": "ff5b996f",
   "metadata": {},
   "outputs": [],
   "source": []
  },
  {
   "cell_type": "code",
   "execution_count": null,
   "id": "143d794e",
   "metadata": {},
   "outputs": [],
   "source": []
  },
  {
   "cell_type": "code",
   "execution_count": 40,
   "id": "cebe1d5c",
   "metadata": {},
   "outputs": [
    {
     "name": "stdout",
     "output_type": "stream",
     "text": [
      "[6, 5, 10]\n"
     ]
    }
   ],
   "source": [
    "l = [10, 2, 5, 3, 6]  \n",
    "print(l[::-2])"
   ]
  },
  {
   "cell_type": "code",
   "execution_count": null,
   "id": "0ee44d7d",
   "metadata": {},
   "outputs": [],
   "source": []
  },
  {
   "cell_type": "code",
   "execution_count": null,
   "id": "4fcb1907",
   "metadata": {},
   "outputs": [],
   "source": []
  },
  {
   "cell_type": "code",
   "execution_count": 41,
   "id": "a0464dc3",
   "metadata": {},
   "outputs": [],
   "source": [
    "l = [10, 20, 30, 40, 50, 60]"
   ]
  },
  {
   "cell_type": "code",
   "execution_count": 42,
   "id": "a4719030",
   "metadata": {},
   "outputs": [
    {
     "name": "stdout",
     "output_type": "stream",
     "text": [
      "[20, 30, 40, 50, 60]\n"
     ]
    }
   ],
   "source": [
    "print(l[-5:])"
   ]
  },
  {
   "cell_type": "code",
   "execution_count": 43,
   "id": "264eedab",
   "metadata": {},
   "outputs": [
    {
     "name": "stdout",
     "output_type": "stream",
     "text": [
      "[10, 20, 30]\n"
     ]
    }
   ],
   "source": [
    "print(l[:-3])"
   ]
  },
  {
   "cell_type": "code",
   "execution_count": 44,
   "id": "9366f874",
   "metadata": {},
   "outputs": [
    {
     "name": "stdout",
     "output_type": "stream",
     "text": [
      "[50, 40, 30, 20, 10]\n"
     ]
    }
   ],
   "source": [
    "print(l[-2::-1])"
   ]
  },
  {
   "cell_type": "code",
   "execution_count": 45,
   "id": "3a4995de",
   "metadata": {},
   "outputs": [
    {
     "name": "stdout",
     "output_type": "stream",
     "text": [
      "[60, 50]\n"
     ]
    }
   ],
   "source": [
    "print(l[:-3:-1])"
   ]
  },
  {
   "cell_type": "code",
   "execution_count": 46,
   "id": "d3b67531",
   "metadata": {},
   "outputs": [
    {
     "name": "stdout",
     "output_type": "stream",
     "text": [
      "[60, 50, 40, 30, 20, 10]\n"
     ]
    }
   ],
   "source": [
    "print(l[::-1])"
   ]
  },
  {
   "cell_type": "code",
   "execution_count": null,
   "id": "cce77bae",
   "metadata": {},
   "outputs": [],
   "source": []
  },
  {
   "cell_type": "code",
   "execution_count": null,
   "id": "9926d8af",
   "metadata": {},
   "outputs": [],
   "source": [
    "# Inverse of the Array"
   ]
  },
  {
   "cell_type": "code",
   "execution_count": 49,
   "id": "52e21eb8",
   "metadata": {},
   "outputs": [
    {
     "name": "stdout",
     "output_type": "stream",
     "text": [
      "[2, 1, 3, 0]\n"
     ]
    }
   ],
   "source": [
    "A = [3, 1, 0, 2]\n",
    "n = len(A)\n",
    "\n",
    "B = []\n",
    "\n",
    "# Initialise another list with the same size as A\n",
    "for i in range(n):\n",
    "    B.append(0)\n",
    "    \n",
    "for i in range(n):\n",
    "    index = i\n",
    "    element = A[i]\n",
    "    B[element] = index\n",
    "    \n",
    "print(B)"
   ]
  },
  {
   "cell_type": "code",
   "execution_count": null,
   "id": "df1d1b4d",
   "metadata": {},
   "outputs": [],
   "source": []
  }
 ],
 "metadata": {
  "kernelspec": {
   "display_name": "Python 3 (ipykernel)",
   "language": "python",
   "name": "python3"
  },
  "language_info": {
   "codemirror_mode": {
    "name": "ipython",
    "version": 3
   },
   "file_extension": ".py",
   "mimetype": "text/x-python",
   "name": "python",
   "nbconvert_exporter": "python",
   "pygments_lexer": "ipython3",
   "version": "3.9.12"
  }
 },
 "nbformat": 4,
 "nbformat_minor": 5
}
