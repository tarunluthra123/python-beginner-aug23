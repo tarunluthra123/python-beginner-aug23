{
 "cells": [
  {
   "cell_type": "markdown",
   "id": "12e3d52d",
   "metadata": {},
   "source": [
    "# Control Statements"
   ]
  },
  {
   "cell_type": "code",
   "execution_count": null,
   "id": "a4521b8f",
   "metadata": {},
   "outputs": [],
   "source": []
  },
  {
   "cell_type": "code",
   "execution_count": null,
   "id": "2009af19",
   "metadata": {},
   "outputs": [],
   "source": []
  },
  {
   "cell_type": "code",
   "execution_count": null,
   "id": "9349f43e",
   "metadata": {},
   "outputs": [],
   "source": []
  },
  {
   "cell_type": "markdown",
   "id": "fd6fcbf3",
   "metadata": {},
   "source": [
    "# Logical Operators - and, or, not\n",
    "![](https://scaler.com/topics/images/logical-operators-in-python.webp)"
   ]
  },
  {
   "cell_type": "code",
   "execution_count": null,
   "id": "2dc904ad",
   "metadata": {},
   "outputs": [],
   "source": []
  },
  {
   "cell_type": "markdown",
   "id": "b8d4b215",
   "metadata": {},
   "source": [
    "#### OR"
   ]
  },
  {
   "cell_type": "code",
   "execution_count": null,
   "id": "baba89a1",
   "metadata": {},
   "outputs": [],
   "source": []
  },
  {
   "cell_type": "markdown",
   "id": "2a6e9d1e",
   "metadata": {},
   "source": [
    "#### Secuirity Check\n",
    "Scaler or Interviewbit"
   ]
  },
  {
   "cell_type": "code",
   "execution_count": 5,
   "id": "6beab049",
   "metadata": {},
   "outputs": [
    {
     "name": "stdout",
     "output_type": "stream",
     "text": [
      "True\n"
     ]
    }
   ],
   "source": [
    "company = 'Scaler'\n",
    "print(company == 'Scaler' or company == 'Interviewbit')"
   ]
  },
  {
   "cell_type": "code",
   "execution_count": null,
   "id": "8f33eb85",
   "metadata": {},
   "outputs": [],
   "source": []
  },
  {
   "cell_type": "code",
   "execution_count": null,
   "id": "5d88fbe1",
   "metadata": {},
   "outputs": [],
   "source": []
  },
  {
   "cell_type": "markdown",
   "id": "db4514b9",
   "metadata": {},
   "source": [
    "#### Quiz 1\n",
    "`print(25 > 50 or 1 != 2)`"
   ]
  },
  {
   "cell_type": "code",
   "execution_count": 7,
   "id": "ec50b518",
   "metadata": {},
   "outputs": [
    {
     "name": "stdout",
     "output_type": "stream",
     "text": [
      "True\n"
     ]
    }
   ],
   "source": [
    "print(25 > 50 or 1 != 2)\n",
    "# 25 > 50 => False\n",
    "# 1 != 2 => True\n",
    "# False or True = True"
   ]
  },
  {
   "cell_type": "code",
   "execution_count": null,
   "id": "93d3831e",
   "metadata": {},
   "outputs": [],
   "source": []
  },
  {
   "cell_type": "markdown",
   "id": "9089def4",
   "metadata": {},
   "source": [
    "#### AND"
   ]
  },
  {
   "cell_type": "code",
   "execution_count": null,
   "id": "63fe85a5",
   "metadata": {},
   "outputs": [],
   "source": []
  },
  {
   "cell_type": "markdown",
   "id": "24af0e58",
   "metadata": {},
   "source": [
    "#### Voting criteria\n",
    "Given age and citizenship of a person, check if they are eligible to vote in India."
   ]
  },
  {
   "cell_type": "code",
   "execution_count": 11,
   "id": "ff4b1e5d",
   "metadata": {},
   "outputs": [
    {
     "name": "stdout",
     "output_type": "stream",
     "text": [
      "False\n"
     ]
    }
   ],
   "source": [
    "# Age - 18+\n",
    "# Indian\n",
    "age = 10\n",
    "citizenship = 'Australian'\n",
    "\n",
    "print(age >= 18 and citizenship == 'Indian')"
   ]
  },
  {
   "cell_type": "code",
   "execution_count": null,
   "id": "dec0d6d5",
   "metadata": {},
   "outputs": [],
   "source": []
  },
  {
   "cell_type": "code",
   "execution_count": null,
   "id": "f2032345",
   "metadata": {},
   "outputs": [],
   "source": []
  },
  {
   "cell_type": "markdown",
   "id": "4def0b42",
   "metadata": {},
   "source": [
    "#### Quiz 2\n",
    "```py\n",
    "print(3 > 1 and -1 < 1)\n",
    "```"
   ]
  },
  {
   "cell_type": "code",
   "execution_count": 12,
   "id": "cfa3f861",
   "metadata": {},
   "outputs": [
    {
     "name": "stdout",
     "output_type": "stream",
     "text": [
      "True\n"
     ]
    }
   ],
   "source": [
    "print(3 > 1 and -1 < 1)\n",
    "\n",
    "# 3 > 1 => True\n",
    "# -1 < 1 => True\n",
    "# True and True => True"
   ]
  },
  {
   "cell_type": "code",
   "execution_count": null,
   "id": "3478e5e2",
   "metadata": {},
   "outputs": [],
   "source": []
  },
  {
   "cell_type": "code",
   "execution_count": null,
   "id": "c66e5278",
   "metadata": {},
   "outputs": [],
   "source": []
  },
  {
   "cell_type": "markdown",
   "id": "28f3fede",
   "metadata": {},
   "source": [
    "#### NOT"
   ]
  },
  {
   "cell_type": "markdown",
   "id": "8195a25a",
   "metadata": {},
   "source": [
    "- Works only with **boolean** operands"
   ]
  },
  {
   "cell_type": "code",
   "execution_count": 14,
   "id": "29831d1d",
   "metadata": {},
   "outputs": [],
   "source": [
    "# Not gives you the opposite result"
   ]
  },
  {
   "cell_type": "code",
   "execution_count": 15,
   "id": "2c8edc82",
   "metadata": {},
   "outputs": [
    {
     "name": "stdout",
     "output_type": "stream",
     "text": [
      "False\n"
     ]
    }
   ],
   "source": [
    "print(not True)"
   ]
  },
  {
   "cell_type": "code",
   "execution_count": 16,
   "id": "e358ffeb",
   "metadata": {},
   "outputs": [
    {
     "name": "stdout",
     "output_type": "stream",
     "text": [
      "True\n"
     ]
    }
   ],
   "source": [
    "print(not False)"
   ]
  },
  {
   "cell_type": "code",
   "execution_count": 17,
   "id": "b949fafe",
   "metadata": {},
   "outputs": [
    {
     "name": "stdout",
     "output_type": "stream",
     "text": [
      "False\n"
     ]
    }
   ],
   "source": [
    "print(not 24<60)\n",
    "# not True\n",
    "# False"
   ]
  },
  {
   "cell_type": "code",
   "execution_count": 18,
   "id": "0f4b2eed",
   "metadata": {},
   "outputs": [
    {
     "name": "stdout",
     "output_type": "stream",
     "text": [
      "True\n"
     ]
    }
   ],
   "source": [
    "print(not 5>100)\n",
    "# not False\n",
    "# True"
   ]
  },
  {
   "cell_type": "code",
   "execution_count": null,
   "id": "eba01f51",
   "metadata": {},
   "outputs": [],
   "source": []
  },
  {
   "cell_type": "markdown",
   "id": "ce2a09b6",
   "metadata": {},
   "source": [
    "# Decisions and Control Statements\n",
    "![](https://scaler.com/topics/images/Python-Flow-control-statements.webp)"
   ]
  },
  {
   "cell_type": "code",
   "execution_count": null,
   "id": "2f549d83",
   "metadata": {},
   "outputs": [],
   "source": []
  },
  {
   "cell_type": "code",
   "execution_count": null,
   "id": "b580fff2",
   "metadata": {},
   "outputs": [],
   "source": []
  },
  {
   "cell_type": "code",
   "execution_count": null,
   "id": "71f8bed7",
   "metadata": {},
   "outputs": [],
   "source": []
  },
  {
   "cell_type": "markdown",
   "id": "ea5ec28d",
   "metadata": {},
   "source": [
    "####  Given the temperature as input, decide whether you should wear a jacket or a t-shirt while going outside"
   ]
  },
  {
   "cell_type": "code",
   "execution_count": 26,
   "id": "1009a307",
   "metadata": {},
   "outputs": [
    {
     "name": "stdout",
     "output_type": "stream",
     "text": [
      "T-shirt\n",
      "Shorts\n",
      "Sunglasses\n",
      "Have a good day\n"
     ]
    }
   ],
   "source": [
    "temp = 50\n",
    "\n",
    "if temp < 32:\n",
    "    print(\"Jacket\")\n",
    "    print(\"Muffler\")\n",
    "    print(\"Cap\")\n",
    "else:\n",
    "    print(\"T-shirt\")\n",
    "    print(\"Shorts\")\n",
    "    print(\"Sunglasses\")\n",
    "    \n",
    "print(\"Have a good day\") # exists outside the if-else block"
   ]
  },
  {
   "cell_type": "code",
   "execution_count": null,
   "id": "fe80b946",
   "metadata": {},
   "outputs": [],
   "source": []
  },
  {
   "cell_type": "code",
   "execution_count": null,
   "id": "9db9badc",
   "metadata": {},
   "outputs": [],
   "source": []
  },
  {
   "cell_type": "code",
   "execution_count": null,
   "id": "bfd47a05",
   "metadata": {},
   "outputs": [],
   "source": []
  },
  {
   "cell_type": "markdown",
   "id": "3bc18da0",
   "metadata": {},
   "source": [
    "#### Quiz 3\n",
    "```py\n",
    "x = 5\n",
    "if x > 10:\n",
    "\tprint(\"Hello\")\n",
    "else:\n",
    "\tprint(\"World\")\n",
    "```"
   ]
  },
  {
   "cell_type": "code",
   "execution_count": 27,
   "id": "741da225",
   "metadata": {},
   "outputs": [
    {
     "name": "stdout",
     "output_type": "stream",
     "text": [
      "World\n"
     ]
    }
   ],
   "source": [
    "x = 5\n",
    "if x > 10:\n",
    "    print(\"Hello\")\n",
    "else:\n",
    "    print(\"World\")"
   ]
  },
  {
   "cell_type": "code",
   "execution_count": null,
   "id": "88886650",
   "metadata": {},
   "outputs": [],
   "source": []
  },
  {
   "cell_type": "code",
   "execution_count": null,
   "id": "d83264e5",
   "metadata": {},
   "outputs": [],
   "source": []
  },
  {
   "cell_type": "markdown",
   "id": "e758560e",
   "metadata": {},
   "source": [
    "#### Password validation system "
   ]
  },
  {
   "cell_type": "code",
   "execution_count": 30,
   "id": "f8db64b7",
   "metadata": {},
   "outputs": [
    {
     "name": "stdout",
     "output_type": "stream",
     "text": [
      "abc123\n",
      "You are logged in\n"
     ]
    }
   ],
   "source": [
    "database_password = 'abc123'\n",
    "input_password = input()\n",
    "\n",
    "if database_password == input_password:\n",
    "    print('You are logged in')\n",
    "else:\n",
    "    print(\"Incorrect password. Please try again.\")"
   ]
  },
  {
   "cell_type": "code",
   "execution_count": null,
   "id": "814cc807",
   "metadata": {},
   "outputs": [],
   "source": []
  },
  {
   "cell_type": "code",
   "execution_count": null,
   "id": "7b89788d",
   "metadata": {},
   "outputs": [],
   "source": []
  },
  {
   "cell_type": "code",
   "execution_count": null,
   "id": "b74ce67d",
   "metadata": {},
   "outputs": [],
   "source": []
  },
  {
   "cell_type": "code",
   "execution_count": null,
   "id": "b763ed1a",
   "metadata": {},
   "outputs": [],
   "source": []
  },
  {
   "cell_type": "markdown",
   "id": "35b28f8c",
   "metadata": {},
   "source": [
    "#### Quiz 4\n",
    "What would be the value of result at the end of this code?\n",
    "```py\n",
    "num1 = 10\n",
    "num2 = 20\n",
    "result = 4000\n",
    "\n",
    "if (num1 > 50 or num2 <= 5):\n",
    "    result = num1 * num2\n",
    "else:\n",
    "    result = num1 + num2\n",
    "```"
   ]
  },
  {
   "cell_type": "code",
   "execution_count": 31,
   "id": "22b048db",
   "metadata": {},
   "outputs": [
    {
     "name": "stdout",
     "output_type": "stream",
     "text": [
      "30\n"
     ]
    }
   ],
   "source": [
    "num1 = 10\n",
    "num2 = 20\n",
    "result = 4000\n",
    "\n",
    "if (num1 > 50 or num2 <= 5):\n",
    "    result = num1 * num2\n",
    "else:\n",
    "    result = num1 + num2\n",
    "    \n",
    "# num1 > 50 => 10 > 50 => False\n",
    "# num2 <= 5 => 20 <= 5 => False\n",
    "# False or False = False\n",
    "\n",
    "# result = 10 + 20 = 30\n",
    "    \n",
    "print(result)"
   ]
  },
  {
   "cell_type": "code",
   "execution_count": null,
   "id": "ca8e2455",
   "metadata": {},
   "outputs": [],
   "source": []
  },
  {
   "cell_type": "markdown",
   "id": "72bd192b",
   "metadata": {},
   "source": [
    "## elif"
   ]
  },
  {
   "cell_type": "markdown",
   "id": "58e9c982",
   "metadata": {},
   "source": [
    "![](https://scaler.com/topics/images/if-elif-else-in-python-768x499.webp)"
   ]
  },
  {
   "cell_type": "code",
   "execution_count": null,
   "id": "285e7604",
   "metadata": {},
   "outputs": [],
   "source": []
  },
  {
   "cell_type": "markdown",
   "id": "255ca2c0",
   "metadata": {},
   "source": [
    "#### Greet the user as per time"
   ]
  },
  {
   "cell_type": "code",
   "execution_count": 36,
   "id": "1cb0ac49",
   "metadata": {},
   "outputs": [
    {
     "name": "stdout",
     "output_type": "stream",
     "text": [
      "Good night\n"
     ]
    }
   ],
   "source": [
    "time = 15 # in 24 hr format\n",
    "\n",
    "if time <= 12:\n",
    "    print(\"Good morning\")\n",
    "elif time <= 18:\n",
    "    print(\"Good afternoon\")\n",
    "elif time <= 22:\n",
    "    print(\"Good evening\")\n",
    "else:\n",
    "    print(\"Good night\")"
   ]
  },
  {
   "cell_type": "code",
   "execution_count": null,
   "id": "56271d7a",
   "metadata": {},
   "outputs": [],
   "source": []
  },
  {
   "cell_type": "code",
   "execution_count": null,
   "id": "89d42dc2",
   "metadata": {},
   "outputs": [],
   "source": []
  },
  {
   "cell_type": "code",
   "execution_count": null,
   "id": "687164ba",
   "metadata": {},
   "outputs": [],
   "source": []
  },
  {
   "cell_type": "code",
   "execution_count": null,
   "id": "f0e517de",
   "metadata": {},
   "outputs": [],
   "source": []
  },
  {
   "cell_type": "markdown",
   "id": "f490c320",
   "metadata": {},
   "source": [
    "#### Quiz 5\n",
    "```py\n",
    "age = 15\n",
    "if age < 18:\n",
    "\tprint(\"You are not eligible to vote\")\n",
    "elif age >= 18 and age < 21:\n",
    "\tprint(\"You can vote but can't drink\")\n",
    "else:\n",
    "\tprint(\"You can vote and drink\")\n",
    "```"
   ]
  },
  {
   "cell_type": "code",
   "execution_count": 37,
   "id": "4e67df93",
   "metadata": {},
   "outputs": [
    {
     "name": "stdout",
     "output_type": "stream",
     "text": [
      "You are not eligible to vote\n"
     ]
    }
   ],
   "source": [
    "age = 15\n",
    "if age < 18:\n",
    "    print(\"You are not eligible to vote\")\n",
    "elif age >= 18 and age < 21:\n",
    "    print(\"You can vote but can't drink\")\n",
    "else:\n",
    "    print(\"You can vote and drink\")"
   ]
  },
  {
   "cell_type": "code",
   "execution_count": null,
   "id": "b31c1620",
   "metadata": {},
   "outputs": [],
   "source": []
  },
  {
   "cell_type": "code",
   "execution_count": 39,
   "id": "66e02005",
   "metadata": {},
   "outputs": [
    {
     "name": "stdout",
     "output_type": "stream",
     "text": [
      "You can vote and drink\n"
     ]
    }
   ],
   "source": [
    "age = 40\n",
    "if age < 18:\n",
    "    print(\"You are not eligible to vote\")\n",
    "elif age >= 18 and age < 21:\n",
    "    print(\"You can vote but can't drink\")\n",
    "else:\n",
    "    print(\"You can vote and drink\")"
   ]
  },
  {
   "cell_type": "code",
   "execution_count": null,
   "id": "9e469d6a",
   "metadata": {},
   "outputs": [],
   "source": []
  },
  {
   "cell_type": "code",
   "execution_count": null,
   "id": "9819d1cd",
   "metadata": {},
   "outputs": [],
   "source": []
  },
  {
   "cell_type": "markdown",
   "id": "a02d0793",
   "metadata": {},
   "source": [
    "#### Quiz 6\n",
    "```py\n",
    "a = 1\n",
    "b = 0\n",
    "c = 1\n",
    "if (a and b):\n",
    "    print(\"Scaler is awesome\")\n",
    "elif (a and c):\n",
    "    print(\"ML is fun\")\n",
    "if (a and b and c):\n",
    "    print(\"Python is amazing\")\n",
    "if (a or b or c):\n",
    "    print(\"I love DS\")\n",
    "```"
   ]
  },
  {
   "cell_type": "code",
   "execution_count": 40,
   "id": "698db22a",
   "metadata": {},
   "outputs": [
    {
     "name": "stdout",
     "output_type": "stream",
     "text": [
      "ML is fun\n",
      "I love DS\n"
     ]
    }
   ],
   "source": [
    "a = 1\n",
    "b = 0\n",
    "c = 1\n",
    "if (a and b):\n",
    "    print(\"Scaler is awesome\")\n",
    "elif (a and c):\n",
    "    print(\"ML is fun\")\n",
    "if (a and b and c):\n",
    "    print(\"Python is amazing\")\n",
    "if (a or b or c):\n",
    "    print(\"I love DS\")"
   ]
  },
  {
   "cell_type": "code",
   "execution_count": null,
   "id": "06d2c07a",
   "metadata": {},
   "outputs": [],
   "source": []
  },
  {
   "cell_type": "code",
   "execution_count": null,
   "id": "907f33f7",
   "metadata": {},
   "outputs": [],
   "source": []
  },
  {
   "cell_type": "markdown",
   "id": "23913638",
   "metadata": {},
   "source": [
    "#### Quiz 7\n",
    "What is the output of the following code?\n",
    "\n",
    "```python\n",
    "x = 3\n",
    "if x == 3:\n",
    "\tprint(\"x is 3\")\n",
    "if x < 5:\n",
    "\tprint(\"x is less than 5\")\n",
    "if x > 0:\n",
    "\tprint(\"x is positive\")\n",
    "```"
   ]
  },
  {
   "cell_type": "code",
   "execution_count": 41,
   "id": "4e0fa47c",
   "metadata": {},
   "outputs": [
    {
     "name": "stdout",
     "output_type": "stream",
     "text": [
      "x is 3\n",
      "x is less than 5\n",
      "x is positive\n"
     ]
    }
   ],
   "source": [
    "x = 3\n",
    "if x == 3:\n",
    "    print(\"x is 3\")\n",
    "    \n",
    "if x < 5:\n",
    "    print(\"x is less than 5\")\n",
    "    \n",
    "if x > 0:\n",
    "    print(\"x is positive\")"
   ]
  },
  {
   "cell_type": "code",
   "execution_count": null,
   "id": "bdec6036",
   "metadata": {},
   "outputs": [],
   "source": []
  },
  {
   "cell_type": "code",
   "execution_count": 43,
   "id": "8996be7f",
   "metadata": {},
   "outputs": [
    {
     "name": "stdout",
     "output_type": "stream",
     "text": [
      "x is 3\n"
     ]
    }
   ],
   "source": [
    "x = 3\n",
    "if x == 3:\n",
    "    print(\"x is 3\") \n",
    "elif x < 5:\n",
    "    print(\"x is less than 5\")    \n",
    "elif x > 0:\n",
    "    print(\"x is positive\")"
   ]
  },
  {
   "cell_type": "code",
   "execution_count": null,
   "id": "62bf7edc",
   "metadata": {},
   "outputs": [],
   "source": []
  },
  {
   "cell_type": "code",
   "execution_count": null,
   "id": "8466a989",
   "metadata": {},
   "outputs": [],
   "source": []
  },
  {
   "cell_type": "code",
   "execution_count": null,
   "id": "22978461",
   "metadata": {},
   "outputs": [],
   "source": []
  },
  {
   "cell_type": "code",
   "execution_count": 42,
   "id": "b68edf6e",
   "metadata": {},
   "outputs": [
    {
     "name": "stdout",
     "output_type": "stream",
     "text": [
      "Not eligible to vote in India\n"
     ]
    }
   ],
   "source": [
    "age = 10\n",
    "country = \"India\"\n",
    "\n",
    "\n",
    "if country == 'India':\n",
    "    if age >= 18:\n",
    "        print('Eligible to vote in India')\n",
    "    else:\n",
    "        print(\"Not eligible to vote in India\")\n",
    "elif country == 'Greece':\n",
    "    if age >= 17:\n",
    "        print(\"Eligible to vote in Greece\")\n",
    "    else:\n",
    "        print(\"Not eligible to vote in Greece\")"
   ]
  },
  {
   "cell_type": "code",
   "execution_count": null,
   "id": "34a02cb0",
   "metadata": {},
   "outputs": [],
   "source": []
  },
  {
   "cell_type": "code",
   "execution_count": null,
   "id": "614d0d0c",
   "metadata": {},
   "outputs": [],
   "source": []
  },
  {
   "cell_type": "code",
   "execution_count": null,
   "id": "72b55341",
   "metadata": {},
   "outputs": [],
   "source": []
  },
  {
   "cell_type": "code",
   "execution_count": null,
   "id": "cb875ba7",
   "metadata": {},
   "outputs": [],
   "source": []
  },
  {
   "cell_type": "markdown",
   "id": "479aca03",
   "metadata": {},
   "source": [
    "## Example - Roller Coaster Ride\n",
    "https://www.scaler.com/admin/new_problems/25316/preview"
   ]
  },
  {
   "cell_type": "code",
   "execution_count": null,
   "id": "e006024c",
   "metadata": {},
   "outputs": [],
   "source": [
    "age = int(input())\n",
    "\n",
    "if age >= 13:\n",
    "    print('You can ride the roller coaster!')\n",
    "else:\n",
    "    print(\"You can't ride the roller coaster.\")"
   ]
  },
  {
   "cell_type": "code",
   "execution_count": null,
   "id": "77af22a1",
   "metadata": {},
   "outputs": [],
   "source": []
  },
  {
   "cell_type": "code",
   "execution_count": null,
   "id": "be08baae",
   "metadata": {},
   "outputs": [],
   "source": []
  },
  {
   "cell_type": "markdown",
   "id": "5364334c",
   "metadata": {},
   "source": [
    "# Bonus Reading Material\n",
    "- What is Assignment Operator in Python? - https://www.scaler.com/topics/assignment-operator-in-python/\n",
    "- What are Logical Operators in Python? - https://www.scaler.com/topics/logical-operators-in-python/\n",
    "- Control Flow Statements in Python - https://www.scaler.com/topics/python/control-flow-statements-in-python/\n",
    "- Python if…else Statement - https://www.scaler.com/topics/python/python-if-else-statement/\n",
    "- Even Odd Program in Python - https://www.scaler.com/topics/even-odd-program-in-python/\n",
    "- FizzBuzz Program in Python - https://www.scaler.com/topics/fizzbuzz-program-in-python/"
   ]
  },
  {
   "cell_type": "code",
   "execution_count": null,
   "id": "17a7693e",
   "metadata": {},
   "outputs": [],
   "source": []
  },
  {
   "cell_type": "code",
   "execution_count": null,
   "id": "b80000d4",
   "metadata": {},
   "outputs": [],
   "source": []
  },
  {
   "cell_type": "markdown",
   "id": "5d855619",
   "metadata": {},
   "source": [
    "# Doubts"
   ]
  },
  {
   "cell_type": "code",
   "execution_count": 44,
   "id": "02f93006",
   "metadata": {},
   "outputs": [
    {
     "name": "stdout",
     "output_type": "stream",
     "text": [
      "9\n"
     ]
    }
   ],
   "source": [
    "print((3+4)//2+6)"
   ]
  },
  {
   "cell_type": "code",
   "execution_count": null,
   "id": "f07e382b",
   "metadata": {},
   "outputs": [],
   "source": [
    "(3+4)//2+6\n",
    "= 7 // 2 + 6\n",
    "= 3 + 6\n",
    "= 9"
   ]
  }
 ],
 "metadata": {
  "kernelspec": {
   "display_name": "Python 3 (ipykernel)",
   "language": "python",
   "name": "python3"
  },
  "language_info": {
   "codemirror_mode": {
    "name": "ipython",
    "version": 3
   },
   "file_extension": ".py",
   "mimetype": "text/x-python",
   "name": "python",
   "nbconvert_exporter": "python",
   "pygments_lexer": "ipython3",
   "version": "3.9.12"
  }
 },
 "nbformat": 4,
 "nbformat_minor": 5
}
