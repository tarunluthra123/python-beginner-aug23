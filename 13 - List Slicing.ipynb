{
 "cells": [
  {
   "cell_type": "code",
   "execution_count": 1,
   "id": "40dbba89",
   "metadata": {},
   "outputs": [
    {
     "data": {
      "text/plain": [
       "'\\nruns = [62, 85, 74, 10, 12, 101, 122, 99, 81, 55]\\n\\nPrint runs made in odd numbered matches (Even indices)\\n'"
      ]
     },
     "execution_count": 1,
     "metadata": {},
     "output_type": "execute_result"
    }
   ],
   "source": [
    "'''\n",
    "runs = [62, 85, 74, 10, 12, 101, 122, 99, 81, 55]\n",
    "\n",
    "Print runs made in odd numbered matches (Even indices)\n",
    "'''"
   ]
  },
  {
   "cell_type": "code",
   "execution_count": 3,
   "id": "c8d27e53",
   "metadata": {},
   "outputs": [],
   "source": [
    "runs = [62, 85, 74, 10, 12, 101, 122, 99, 81, 55]"
   ]
  },
  {
   "cell_type": "code",
   "execution_count": 5,
   "id": "fe8bc587",
   "metadata": {},
   "outputs": [
    {
     "name": "stdout",
     "output_type": "stream",
     "text": [
      "62 74 12 122 81 "
     ]
    }
   ],
   "source": [
    "for i in range(len(runs)):\n",
    "    if i%2==0:\n",
    "        print(runs[i], end=' ')"
   ]
  },
  {
   "cell_type": "code",
   "execution_count": 6,
   "id": "92323c46",
   "metadata": {},
   "outputs": [],
   "source": [
    "def odd_runs(runs):\n",
    "    result = []\n",
    "    for i in range(len(runs)):\n",
    "        if i%2 == 0:\n",
    "            result.append(runs[i])\n",
    "    return result"
   ]
  },
  {
   "cell_type": "code",
   "execution_count": 7,
   "id": "74a90a33",
   "metadata": {},
   "outputs": [
    {
     "data": {
      "text/plain": [
       "[62, 74, 12, 122, 81]"
      ]
     },
     "execution_count": 7,
     "metadata": {},
     "output_type": "execute_result"
    }
   ],
   "source": [
    "odd_runs(runs)"
   ]
  },
  {
   "cell_type": "code",
   "execution_count": 8,
   "id": "2e85c098",
   "metadata": {},
   "outputs": [
    {
     "data": {
      "text/plain": [
       "'\\nCreate a new list of runs made in odd numbered matches using for loop without using function.\\n'"
      ]
     },
     "execution_count": 8,
     "metadata": {},
     "output_type": "execute_result"
    }
   ],
   "source": [
    "'''\n",
    "Create a new list of runs made in odd numbered matches using for loop without using function.\n",
    "'''"
   ]
  },
  {
   "cell_type": "code",
   "execution_count": 9,
   "id": "7f011d86",
   "metadata": {},
   "outputs": [],
   "source": [
    "result = []\n",
    "for i in range(len(runs)):\n",
    "    if i%2 == 0:\n",
    "        result.append(runs[i])"
   ]
  },
  {
   "cell_type": "code",
   "execution_count": 10,
   "id": "3b673794",
   "metadata": {},
   "outputs": [
    {
     "data": {
      "text/plain": [
       "[62, 74, 12, 122, 81]"
      ]
     },
     "execution_count": 10,
     "metadata": {},
     "output_type": "execute_result"
    }
   ],
   "source": [
    "result"
   ]
  },
  {
   "cell_type": "code",
   "execution_count": null,
   "id": "3f477396",
   "metadata": {},
   "outputs": [],
   "source": []
  },
  {
   "cell_type": "code",
   "execution_count": 11,
   "id": "423208a7",
   "metadata": {},
   "outputs": [
    {
     "data": {
      "text/plain": [
       "'\\nCreate a new list of runs made in first 3 matches\\n'"
      ]
     },
     "execution_count": 11,
     "metadata": {},
     "output_type": "execute_result"
    }
   ],
   "source": [
    "'''\n",
    "Create a new list of runs made in first 3 matches\n",
    "'''"
   ]
  },
  {
   "cell_type": "code",
   "execution_count": 12,
   "id": "0b5528ae",
   "metadata": {},
   "outputs": [
    {
     "name": "stdout",
     "output_type": "stream",
     "text": [
      "62\n",
      "85\n",
      "74\n"
     ]
    }
   ],
   "source": [
    "for i in range(3):\n",
    "    print(runs[i])"
   ]
  },
  {
   "cell_type": "code",
   "execution_count": 13,
   "id": "d75a1faa",
   "metadata": {},
   "outputs": [
    {
     "data": {
      "text/plain": [
       "'\\nCreate a new list of runs made from the 3rd to the 7th match\\n'"
      ]
     },
     "execution_count": 13,
     "metadata": {},
     "output_type": "execute_result"
    }
   ],
   "source": [
    "'''\n",
    "Create a new list of runs made from the 3rd to the 7th match\n",
    "'''"
   ]
  },
  {
   "cell_type": "code",
   "execution_count": null,
   "id": "c2039cc7",
   "metadata": {},
   "outputs": [],
   "source": [
    "[a,b)"
   ]
  },
  {
   "cell_type": "code",
   "execution_count": 15,
   "id": "bcc858c5",
   "metadata": {},
   "outputs": [
    {
     "name": "stdout",
     "output_type": "stream",
     "text": [
      "74 10 12 101 122 "
     ]
    }
   ],
   "source": [
    "for i in range(2,7):\n",
    "    print(runs[i], end=' ')"
   ]
  },
  {
   "cell_type": "code",
   "execution_count": 16,
   "id": "8aeee968",
   "metadata": {},
   "outputs": [],
   "source": [
    "# runs[2:7] - LIST SLICING"
   ]
  },
  {
   "cell_type": "code",
   "execution_count": 17,
   "id": "f7278ede",
   "metadata": {},
   "outputs": [
    {
     "data": {
      "text/plain": [
       "[74, 10, 12, 101, 122]"
      ]
     },
     "execution_count": 17,
     "metadata": {},
     "output_type": "execute_result"
    }
   ],
   "source": [
    "runs[2:7]"
   ]
  },
  {
   "cell_type": "code",
   "execution_count": 18,
   "id": "13cecf25",
   "metadata": {},
   "outputs": [
    {
     "name": "stdout",
     "output_type": "stream",
     "text": [
      "62\n",
      "85\n",
      "74\n",
      "10\n",
      "12\n",
      "101\n",
      "122\n",
      "99\n",
      "81\n",
      "55\n"
     ]
    }
   ],
   "source": [
    "for elem in runs:\n",
    "    print(elem)"
   ]
  },
  {
   "cell_type": "code",
   "execution_count": 19,
   "id": "da300061",
   "metadata": {},
   "outputs": [
    {
     "data": {
      "text/plain": [
       "[62, 85, 74, 10, 12]"
      ]
     },
     "execution_count": 19,
     "metadata": {},
     "output_type": "execute_result"
    }
   ],
   "source": [
    "runs[0:5]"
   ]
  },
  {
   "cell_type": "code",
   "execution_count": 20,
   "id": "557f453e",
   "metadata": {},
   "outputs": [
    {
     "data": {
      "text/plain": [
       "[62, 85, 74, 10, 12, 101, 122, 99, 81, 55]"
      ]
     },
     "execution_count": 20,
     "metadata": {},
     "output_type": "execute_result"
    }
   ],
   "source": [
    "runs"
   ]
  },
  {
   "cell_type": "code",
   "execution_count": 21,
   "id": "6a3975c1",
   "metadata": {},
   "outputs": [],
   "source": [
    "r = [1, 2, 3, 4]"
   ]
  },
  {
   "cell_type": "code",
   "execution_count": 22,
   "id": "75ff72be",
   "metadata": {},
   "outputs": [],
   "source": [
    "r[0:3] = [7,8,9]"
   ]
  },
  {
   "cell_type": "code",
   "execution_count": 23,
   "id": "50e0a480",
   "metadata": {},
   "outputs": [
    {
     "data": {
      "text/plain": [
       "[7, 8, 9, 4]"
      ]
     },
     "execution_count": 23,
     "metadata": {},
     "output_type": "execute_result"
    }
   ],
   "source": [
    "r"
   ]
  },
  {
   "cell_type": "code",
   "execution_count": 24,
   "id": "41fcd478",
   "metadata": {},
   "outputs": [
    {
     "data": {
      "text/plain": [
       "[7, 8, 9]"
      ]
     },
     "execution_count": 24,
     "metadata": {},
     "output_type": "execute_result"
    }
   ],
   "source": [
    "r[0:3]"
   ]
  },
  {
   "cell_type": "code",
   "execution_count": 25,
   "id": "168fbf3f",
   "metadata": {},
   "outputs": [
    {
     "ename": "TypeError",
     "evalue": "can only assign an iterable",
     "output_type": "error",
     "traceback": [
      "\u001b[0;31m---------------------------------------------------------------------------\u001b[0m",
      "\u001b[0;31mTypeError\u001b[0m                                 Traceback (most recent call last)",
      "Cell \u001b[0;32mIn[25], line 1\u001b[0m\n\u001b[0;32m----> 1\u001b[0m r[\u001b[38;5;241m0\u001b[39m:\u001b[38;5;241m3\u001b[39m] \u001b[38;5;241m=\u001b[39m \u001b[38;5;241m7\u001b[39m\n",
      "\u001b[0;31mTypeError\u001b[0m: can only assign an iterable"
     ]
    }
   ],
   "source": [
    "r[0:3] = 7"
   ]
  },
  {
   "cell_type": "code",
   "execution_count": 26,
   "id": "4d912d59",
   "metadata": {},
   "outputs": [
    {
     "data": {
      "text/plain": [
       "[74, 10, 12, 101, 122, 99, 81, 55]"
      ]
     },
     "execution_count": 26,
     "metadata": {},
     "output_type": "execute_result"
    }
   ],
   "source": [
    "runs[2::]"
   ]
  },
  {
   "cell_type": "code",
   "execution_count": 27,
   "id": "30e7ed46",
   "metadata": {},
   "outputs": [
    {
     "data": {
      "text/plain": [
       "[62, 85, 74, 10, 12]"
      ]
     },
     "execution_count": 27,
     "metadata": {},
     "output_type": "execute_result"
    }
   ],
   "source": [
    "runs[:5]"
   ]
  },
  {
   "cell_type": "code",
   "execution_count": 28,
   "id": "8a1829f7",
   "metadata": {},
   "outputs": [
    {
     "data": {
      "text/plain": [
       "[62, 85, 74, 10, 12, 101, 122, 99, 81, 55]"
      ]
     },
     "execution_count": 28,
     "metadata": {},
     "output_type": "execute_result"
    }
   ],
   "source": [
    "runs"
   ]
  },
  {
   "cell_type": "code",
   "execution_count": 29,
   "id": "6014b30b",
   "metadata": {},
   "outputs": [
    {
     "data": {
      "text/plain": [
       "[62, 74, 12, 122, 81]"
      ]
     },
     "execution_count": 29,
     "metadata": {},
     "output_type": "execute_result"
    }
   ],
   "source": [
    "runs[::2]"
   ]
  },
  {
   "cell_type": "code",
   "execution_count": 31,
   "id": "541526ec",
   "metadata": {},
   "outputs": [
    {
     "data": {
      "text/plain": [
       "[62, 85, 74, 10, 12, 101, 122, 99, 81, 55]"
      ]
     },
     "execution_count": 31,
     "metadata": {},
     "output_type": "execute_result"
    }
   ],
   "source": [
    "runs[0:20]"
   ]
  },
  {
   "cell_type": "code",
   "execution_count": 36,
   "id": "4559a9f2",
   "metadata": {},
   "outputs": [
    {
     "data": {
      "text/plain": [
       "[]"
      ]
     },
     "execution_count": 36,
     "metadata": {},
     "output_type": "execute_result"
    }
   ],
   "source": [
    "runs[15:20]"
   ]
  },
  {
   "cell_type": "code",
   "execution_count": 35,
   "id": "3da4caee",
   "metadata": {},
   "outputs": [
    {
     "ename": "IndexError",
     "evalue": "list index out of range",
     "output_type": "error",
     "traceback": [
      "\u001b[0;31m---------------------------------------------------------------------------\u001b[0m",
      "\u001b[0;31mIndexError\u001b[0m                                Traceback (most recent call last)",
      "Cell \u001b[0;32mIn[35], line 1\u001b[0m\n\u001b[0;32m----> 1\u001b[0m \u001b[43mruns\u001b[49m\u001b[43m[\u001b[49m\u001b[38;5;241;43m10\u001b[39;49m\u001b[43m]\u001b[49m\n",
      "\u001b[0;31mIndexError\u001b[0m: list index out of range"
     ]
    }
   ],
   "source": [
    "runs[10]"
   ]
  },
  {
   "cell_type": "code",
   "execution_count": null,
   "id": "5cf07515",
   "metadata": {},
   "outputs": [],
   "source": [
    "'''\n",
    "Print 4th to first element in the list runs using negative indexing\n",
    "'''"
   ]
  },
  {
   "cell_type": "code",
   "execution_count": 42,
   "id": "22e9fd0e",
   "metadata": {},
   "outputs": [
    {
     "data": {
      "text/plain": [
       "[12, 10, 74, 85]"
      ]
     },
     "execution_count": 42,
     "metadata": {},
     "output_type": "execute_result"
    }
   ],
   "source": [
    "runs[4:0:-1]"
   ]
  },
  {
   "cell_type": "code",
   "execution_count": 43,
   "id": "56187041",
   "metadata": {},
   "outputs": [
    {
     "data": {
      "text/plain": [
       "[62, 85, 74, 10]"
      ]
     },
     "execution_count": 43,
     "metadata": {},
     "output_type": "execute_result"
    }
   ],
   "source": [
    "runs[-10:-6:1]"
   ]
  },
  {
   "cell_type": "code",
   "execution_count": 44,
   "id": "967964ed",
   "metadata": {},
   "outputs": [
    {
     "data": {
      "text/plain": [
       "[81, 99, 122]"
      ]
     },
     "execution_count": 44,
     "metadata": {},
     "output_type": "execute_result"
    }
   ],
   "source": [
    "runs[-2:-5:-1]"
   ]
  },
  {
   "cell_type": "code",
   "execution_count": 46,
   "id": "b863f648",
   "metadata": {},
   "outputs": [
    {
     "data": {
      "text/plain": [
       "[55, 81, 99, 122, 101, 12, 10, 74, 85, 62]"
      ]
     },
     "execution_count": 46,
     "metadata": {},
     "output_type": "execute_result"
    }
   ],
   "source": [
    "runs[-1::-1]"
   ]
  },
  {
   "cell_type": "code",
   "execution_count": 47,
   "id": "6667d873",
   "metadata": {},
   "outputs": [
    {
     "data": {
      "text/plain": [
       "[12, 10, 74, 85, 62]"
      ]
     },
     "execution_count": 47,
     "metadata": {},
     "output_type": "execute_result"
    }
   ],
   "source": [
    "runs[4::-1]"
   ]
  },
  {
   "cell_type": "code",
   "execution_count": 48,
   "id": "0e42fc47",
   "metadata": {},
   "outputs": [
    {
     "data": {
      "text/plain": [
       "[]"
      ]
     },
     "execution_count": 48,
     "metadata": {},
     "output_type": "execute_result"
    }
   ],
   "source": [
    "runs[-2:-5:1]"
   ]
  },
  {
   "cell_type": "code",
   "execution_count": 49,
   "id": "21145fff",
   "metadata": {},
   "outputs": [
    {
     "data": {
      "text/plain": [
       "[62, 85, 74, 10, 12, 101, 122, 99, 81, 55]"
      ]
     },
     "execution_count": 49,
     "metadata": {},
     "output_type": "execute_result"
    }
   ],
   "source": [
    "runs"
   ]
  },
  {
   "cell_type": "code",
   "execution_count": 50,
   "id": "e60add1b",
   "metadata": {},
   "outputs": [
    {
     "data": {
      "text/plain": [
       "[85, 74, 10, 12]"
      ]
     },
     "execution_count": 50,
     "metadata": {},
     "output_type": "execute_result"
    }
   ],
   "source": [
    "runs[-9:5]"
   ]
  },
  {
   "cell_type": "code",
   "execution_count": 51,
   "id": "a2c32257",
   "metadata": {},
   "outputs": [
    {
     "data": {
      "text/plain": [
       "[85, 74, 10, 12]"
      ]
     },
     "execution_count": 51,
     "metadata": {},
     "output_type": "execute_result"
    }
   ],
   "source": [
    "runs[-9:-5]"
   ]
  },
  {
   "cell_type": "code",
   "execution_count": null,
   "id": "127c7ecc",
   "metadata": {},
   "outputs": [],
   "source": []
  },
  {
   "cell_type": "code",
   "execution_count": 52,
   "id": "d34fc7fb",
   "metadata": {},
   "outputs": [],
   "source": [
    "#Questions:\n",
    "\n",
    "a=[10,20,30,440,50,60,70,80,90,100]"
   ]
  },
  {
   "cell_type": "code",
   "execution_count": null,
   "id": "c826011a",
   "metadata": {},
   "outputs": [],
   "source": [
    "'''\n",
    "1. a[3:5] # [440,50]\n",
    "2. a[:8] #[10,20,30,440,50,60,70,80]\n",
    "3. a[:] # = a\n",
    "4. a[7:] # [80,90,100]\n",
    "5. a[-2:-5:-1] # [90,80,70]\n",
    "6. a[-2:-7] # []\n",
    "7. a[:-5] # [10,20,30,440,50]\n",
    "8. a[2:] # [30,440,50,60,70,80,90,100]]\n",
    "9. a[-8:5] # [30,440,50]\n",
    "10. a[-8:5:-1] # []\n",
    "'''"
   ]
  },
  {
   "cell_type": "code",
   "execution_count": null,
   "id": "9934ccac",
   "metadata": {},
   "outputs": [],
   "source": [
    "# [start:end:interval] default start: 0\n",
    "default end: len(list)\n",
    "default interval: 1"
   ]
  },
  {
   "cell_type": "code",
   "execution_count": 54,
   "id": "8ea43ac5",
   "metadata": {},
   "outputs": [
    {
     "data": {
      "text/plain": [
       "[10, 20, 30, 440, 50]"
      ]
     },
     "execution_count": 54,
     "metadata": {},
     "output_type": "execute_result"
    }
   ],
   "source": [
    "a[:-5]"
   ]
  },
  {
   "cell_type": "code",
   "execution_count": null,
   "id": "3c70eda5",
   "metadata": {},
   "outputs": [],
   "source": [
    "l = []\n",
    "def func(l):"
   ]
  }
 ],
 "metadata": {
  "kernelspec": {
   "display_name": "Python 3 (ipykernel)",
   "language": "python",
   "name": "python3"
  },
  "language_info": {
   "codemirror_mode": {
    "name": "ipython",
    "version": 3
   },
   "file_extension": ".py",
   "mimetype": "text/x-python",
   "name": "python",
   "nbconvert_exporter": "python",
   "pygments_lexer": "ipython3",
   "version": "3.10.9"
  }
 },
 "nbformat": 4,
 "nbformat_minor": 5
}
