{
 "cells": [
  {
   "cell_type": "markdown",
   "id": "347fb487",
   "metadata": {},
   "source": [
    "# Functions 2"
   ]
  },
  {
   "cell_type": "code",
   "execution_count": null,
   "id": "6c9d96c6",
   "metadata": {},
   "outputs": [],
   "source": []
  },
  {
   "cell_type": "code",
   "execution_count": null,
   "id": "1781e61a",
   "metadata": {},
   "outputs": [],
   "source": []
  },
  {
   "cell_type": "markdown",
   "id": "8ad67bce",
   "metadata": {},
   "source": [
    "#### Quiz 1\n",
    "```\n",
    "function random():\n",
    "    return True\n",
    "\n",
    "print(random())\n",
    "```"
   ]
  },
  {
   "cell_type": "code",
   "execution_count": 1,
   "id": "57941d50",
   "metadata": {},
   "outputs": [
    {
     "ename": "SyntaxError",
     "evalue": "invalid syntax (3398422646.py, line 1)",
     "output_type": "error",
     "traceback": [
      "\u001b[0;36m  File \u001b[0;32m\"/var/folders/jn/1bsrct314hv5xmfm7vrcdrzc0000gn/T/ipykernel_1686/3398422646.py\"\u001b[0;36m, line \u001b[0;32m1\u001b[0m\n\u001b[0;31m    function random():\u001b[0m\n\u001b[0m             ^\u001b[0m\n\u001b[0;31mSyntaxError\u001b[0m\u001b[0;31m:\u001b[0m invalid syntax\n"
     ]
    }
   ],
   "source": [
    "function random():\n",
    "    return True\n",
    "\n",
    "print(random())"
   ]
  },
  {
   "cell_type": "code",
   "execution_count": 2,
   "id": "7ae58f3b",
   "metadata": {},
   "outputs": [
    {
     "name": "stdout",
     "output_type": "stream",
     "text": [
      "True\n"
     ]
    }
   ],
   "source": [
    "def random():\n",
    "    return True\n",
    "\n",
    "print(random())"
   ]
  },
  {
   "cell_type": "code",
   "execution_count": null,
   "id": "25fcd318",
   "metadata": {},
   "outputs": [],
   "source": []
  },
  {
   "cell_type": "code",
   "execution_count": null,
   "id": "4451f6fd",
   "metadata": {},
   "outputs": [],
   "source": []
  },
  {
   "cell_type": "markdown",
   "id": "bfcaa266",
   "metadata": {},
   "source": [
    "#### Quiz 2\n",
    "```py\n",
    "def abc:\n",
    "    return \"I am a function!\"\n",
    "\n",
    "abc()\n",
    "```"
   ]
  },
  {
   "cell_type": "code",
   "execution_count": 3,
   "id": "c17efa13",
   "metadata": {},
   "outputs": [
    {
     "ename": "SyntaxError",
     "evalue": "invalid syntax (2741783870.py, line 1)",
     "output_type": "error",
     "traceback": [
      "\u001b[0;36m  File \u001b[0;32m\"/var/folders/jn/1bsrct314hv5xmfm7vrcdrzc0000gn/T/ipykernel_1686/2741783870.py\"\u001b[0;36m, line \u001b[0;32m1\u001b[0m\n\u001b[0;31m    def abc:\u001b[0m\n\u001b[0m           ^\u001b[0m\n\u001b[0;31mSyntaxError\u001b[0m\u001b[0;31m:\u001b[0m invalid syntax\n"
     ]
    }
   ],
   "source": [
    "def abc:\n",
    "    return \"I am a function!\"\n",
    "\n",
    "print(abc())"
   ]
  },
  {
   "cell_type": "code",
   "execution_count": 4,
   "id": "02f20cdd",
   "metadata": {},
   "outputs": [
    {
     "name": "stdout",
     "output_type": "stream",
     "text": [
      "I am a function!\n"
     ]
    }
   ],
   "source": [
    "def abc():\n",
    "    return \"I am a function!\"\n",
    "\n",
    "print(abc())"
   ]
  },
  {
   "cell_type": "code",
   "execution_count": null,
   "id": "94e66e39",
   "metadata": {},
   "outputs": [],
   "source": []
  },
  {
   "cell_type": "code",
   "execution_count": null,
   "id": "d8589b21",
   "metadata": {},
   "outputs": [],
   "source": []
  },
  {
   "cell_type": "markdown",
   "id": "29249b43",
   "metadata": {},
   "source": [
    "#### Quiz 3\n",
    "```py\n",
    "a = 10\n",
    "\n",
    "def calculator(number):\n",
    "    print(number * 10)\n",
    "\n",
    "calculator(a)\n",
    "print(number)\n",
    "print(a)\n",
    "\n",
    "```"
   ]
  },
  {
   "cell_type": "code",
   "execution_count": 5,
   "id": "6c788e7c",
   "metadata": {},
   "outputs": [
    {
     "name": "stdout",
     "output_type": "stream",
     "text": [
      "100\n"
     ]
    },
    {
     "ename": "NameError",
     "evalue": "name 'number' is not defined",
     "output_type": "error",
     "traceback": [
      "\u001b[0;31m---------------------------------------------------------------------------\u001b[0m",
      "\u001b[0;31mNameError\u001b[0m                                 Traceback (most recent call last)",
      "\u001b[0;32m/var/folders/jn/1bsrct314hv5xmfm7vrcdrzc0000gn/T/ipykernel_1686/3598147760.py\u001b[0m in \u001b[0;36m<module>\u001b[0;34m\u001b[0m\n\u001b[1;32m      5\u001b[0m \u001b[0;34m\u001b[0m\u001b[0m\n\u001b[1;32m      6\u001b[0m \u001b[0mcalculator\u001b[0m\u001b[0;34m(\u001b[0m\u001b[0ma\u001b[0m\u001b[0;34m)\u001b[0m\u001b[0;34m\u001b[0m\u001b[0;34m\u001b[0m\u001b[0m\n\u001b[0;32m----> 7\u001b[0;31m \u001b[0mprint\u001b[0m\u001b[0;34m(\u001b[0m\u001b[0mnumber\u001b[0m\u001b[0;34m)\u001b[0m\u001b[0;34m\u001b[0m\u001b[0;34m\u001b[0m\u001b[0m\n\u001b[0m\u001b[1;32m      8\u001b[0m \u001b[0mprint\u001b[0m\u001b[0;34m(\u001b[0m\u001b[0ma\u001b[0m\u001b[0;34m)\u001b[0m\u001b[0;34m\u001b[0m\u001b[0;34m\u001b[0m\u001b[0m\n",
      "\u001b[0;31mNameError\u001b[0m: name 'number' is not defined"
     ]
    }
   ],
   "source": [
    "a = 10\n",
    "\n",
    "def calculator(number):\n",
    "    print(number * 10)\n",
    "\n",
    "calculator(a)\n",
    "print(number)\n",
    "print(a)"
   ]
  },
  {
   "cell_type": "code",
   "execution_count": null,
   "id": "e577f4ce",
   "metadata": {},
   "outputs": [],
   "source": []
  },
  {
   "cell_type": "markdown",
   "id": "7dafe9f3",
   "metadata": {},
   "source": [
    "#### Quiz 4\n",
    "```py\n",
    "a = 10\n",
    "\n",
    "def calculator(number):\n",
    "    print(number * 10)\n",
    "\n",
    "calculator(a)\n",
    "print(a)\n",
    "```"
   ]
  },
  {
   "cell_type": "code",
   "execution_count": 6,
   "id": "07794183",
   "metadata": {},
   "outputs": [
    {
     "name": "stdout",
     "output_type": "stream",
     "text": [
      "100\n",
      "10\n"
     ]
    }
   ],
   "source": [
    "a = 10\n",
    "\n",
    "def calculator(number):\n",
    "    print(number * 10)\n",
    "\n",
    "calculator(a) # 100\n",
    "print(a) # 10"
   ]
  },
  {
   "cell_type": "code",
   "execution_count": null,
   "id": "ed172878",
   "metadata": {},
   "outputs": [],
   "source": []
  },
  {
   "cell_type": "code",
   "execution_count": null,
   "id": "9546c8a5",
   "metadata": {},
   "outputs": [],
   "source": []
  },
  {
   "cell_type": "code",
   "execution_count": null,
   "id": "1cd4f792",
   "metadata": {},
   "outputs": [],
   "source": []
  },
  {
   "cell_type": "markdown",
   "id": "8b11c293",
   "metadata": {},
   "source": [
    "#### Quiz 5\n",
    "```py\n",
    "def f(a, b, c):\n",
    "    print((a + b + c)/3)\n",
    "f(3, 5, 7)\n",
    "```"
   ]
  },
  {
   "cell_type": "code",
   "execution_count": 7,
   "id": "c914971c",
   "metadata": {},
   "outputs": [
    {
     "name": "stdout",
     "output_type": "stream",
     "text": [
      "5.0\n"
     ]
    }
   ],
   "source": [
    "def f(a, b, c):\n",
    "    print((a + b + c)/3)\n",
    "\n",
    "f(3, 5, 7)"
   ]
  },
  {
   "cell_type": "code",
   "execution_count": null,
   "id": "2b102346",
   "metadata": {},
   "outputs": [],
   "source": []
  },
  {
   "cell_type": "markdown",
   "id": "41fc4986",
   "metadata": {},
   "source": [
    "#### Quiz 6\n",
    "```py\n",
    "def power(number,exponent):\n",
    "    return number**exponent\n",
    "\n",
    "print(power(3, 2))\n",
    "```"
   ]
  },
  {
   "cell_type": "code",
   "execution_count": 8,
   "id": "cde888d7",
   "metadata": {},
   "outputs": [
    {
     "name": "stdout",
     "output_type": "stream",
     "text": [
      "9\n"
     ]
    }
   ],
   "source": [
    "def power(number, exponent):\n",
    "    return number**exponent\n",
    "\n",
    "print(power(3, 2))"
   ]
  },
  {
   "cell_type": "code",
   "execution_count": 9,
   "id": "92410a1e",
   "metadata": {},
   "outputs": [
    {
     "data": {
      "text/plain": [
       "9"
      ]
     },
     "execution_count": 9,
     "metadata": {},
     "output_type": "execute_result"
    }
   ],
   "source": [
    "def power(number, exponent):\n",
    "    return number**exponent\n",
    "\n",
    "power(3, 2)"
   ]
  },
  {
   "cell_type": "code",
   "execution_count": null,
   "id": "a33d103f",
   "metadata": {},
   "outputs": [],
   "source": []
  },
  {
   "cell_type": "markdown",
   "id": "1a508650",
   "metadata": {},
   "source": [
    "### Keyword Arguments"
   ]
  },
  {
   "cell_type": "code",
   "execution_count": 10,
   "id": "9f7a41ae",
   "metadata": {},
   "outputs": [],
   "source": [
    "def introduce_family(me, father, mother, sister):\n",
    "    print('Me =', me)\n",
    "    print('Father =', father)\n",
    "    print('Mother =', mother)\n",
    "    print('Sister =', sister)"
   ]
  },
  {
   "cell_type": "code",
   "execution_count": 11,
   "id": "0805fe6f",
   "metadata": {},
   "outputs": [
    {
     "name": "stdout",
     "output_type": "stream",
     "text": [
      "Me = Ron\n",
      "Father = Arthur\n",
      "Mother = Molly\n",
      "Sister = Ginny\n"
     ]
    }
   ],
   "source": [
    "introduce_family('Ron', 'Arthur', 'Molly', 'Ginny')"
   ]
  },
  {
   "cell_type": "code",
   "execution_count": null,
   "id": "488e9b08",
   "metadata": {},
   "outputs": [],
   "source": []
  },
  {
   "cell_type": "code",
   "execution_count": null,
   "id": "5c444848",
   "metadata": {},
   "outputs": [],
   "source": []
  },
  {
   "cell_type": "code",
   "execution_count": 12,
   "id": "6f8cb625",
   "metadata": {},
   "outputs": [
    {
     "name": "stdout",
     "output_type": "stream",
     "text": [
      "Me = Ron\n",
      "Father = Ginny\n",
      "Mother = Arthur\n",
      "Sister = Molly\n"
     ]
    }
   ],
   "source": [
    "introduce_family('Ron', 'Ginny', 'Arthur', 'Molly')"
   ]
  },
  {
   "cell_type": "code",
   "execution_count": 14,
   "id": "2a856ccc",
   "metadata": {},
   "outputs": [
    {
     "name": "stdout",
     "output_type": "stream",
     "text": [
      "Me = Ron\n",
      "Father = Arthur\n",
      "Mother = Molly\n",
      "Sister = Ginny\n"
     ]
    }
   ],
   "source": [
    "introduce_family(father='Arthur', sister='Ginny', mother='Molly', me='Ron')"
   ]
  },
  {
   "cell_type": "code",
   "execution_count": null,
   "id": "bb75cc77",
   "metadata": {},
   "outputs": [],
   "source": []
  },
  {
   "cell_type": "code",
   "execution_count": 15,
   "id": "5f2261d8",
   "metadata": {},
   "outputs": [],
   "source": [
    "def random(a, b, c, d):\n",
    "    print(a, b, c, d)"
   ]
  },
  {
   "cell_type": "code",
   "execution_count": 16,
   "id": "b8644354",
   "metadata": {},
   "outputs": [
    {
     "name": "stdout",
     "output_type": "stream",
     "text": [
      "2 1 5 3\n"
     ]
    }
   ],
   "source": [
    "# Keyword argument\n",
    "random(b=1, c=5, a=2, d=3)"
   ]
  },
  {
   "cell_type": "code",
   "execution_count": 17,
   "id": "81bb07ae",
   "metadata": {},
   "outputs": [
    {
     "name": "stdout",
     "output_type": "stream",
     "text": [
      "4 6 2 9\n"
     ]
    }
   ],
   "source": [
    "# Positional arguments\n",
    "random(4, 6, 2, 9)"
   ]
  },
  {
   "cell_type": "code",
   "execution_count": 18,
   "id": "3d88c0a5",
   "metadata": {},
   "outputs": [
    {
     "name": "stdout",
     "output_type": "stream",
     "text": [
      "7 2 1 5\n"
     ]
    }
   ],
   "source": [
    "# Positional -> Keyword\n",
    "random(7, 2, d=5, c=1)"
   ]
  },
  {
   "cell_type": "code",
   "execution_count": 20,
   "id": "dc94b000",
   "metadata": {},
   "outputs": [
    {
     "ename": "TypeError",
     "evalue": "random() got multiple values for argument 'a'",
     "output_type": "error",
     "traceback": [
      "\u001b[0;31m---------------------------------------------------------------------------\u001b[0m",
      "\u001b[0;31mTypeError\u001b[0m                                 Traceback (most recent call last)",
      "\u001b[0;32m/var/folders/jn/1bsrct314hv5xmfm7vrcdrzc0000gn/T/ipykernel_1686/2852438969.py\u001b[0m in \u001b[0;36m<module>\u001b[0;34m\u001b[0m\n\u001b[1;32m      1\u001b[0m \u001b[0;31m# Positional -> Keyword\u001b[0m\u001b[0;34m\u001b[0m\u001b[0;34m\u001b[0m\u001b[0m\n\u001b[1;32m      2\u001b[0m \u001b[0;31m# Issue: multiple values for a & b\u001b[0m\u001b[0;34m\u001b[0m\u001b[0;34m\u001b[0m\u001b[0m\n\u001b[0;32m----> 3\u001b[0;31m \u001b[0mrandom\u001b[0m\u001b[0;34m(\u001b[0m\u001b[0;36m5\u001b[0m\u001b[0;34m,\u001b[0m \u001b[0;36m8\u001b[0m\u001b[0;34m,\u001b[0m \u001b[0ma\u001b[0m\u001b[0;34m=\u001b[0m\u001b[0;36m0\u001b[0m\u001b[0;34m,\u001b[0m \u001b[0mb\u001b[0m\u001b[0;34m=\u001b[0m\u001b[0;36m3\u001b[0m\u001b[0;34m)\u001b[0m\u001b[0;34m\u001b[0m\u001b[0;34m\u001b[0m\u001b[0m\n\u001b[0m",
      "\u001b[0;31mTypeError\u001b[0m: random() got multiple values for argument 'a'"
     ]
    }
   ],
   "source": [
    "# Positional -> Keyword\n",
    "# Issue: multiple values for a & b\n",
    "random(5, 8, a=0, b=3)"
   ]
  },
  {
   "cell_type": "code",
   "execution_count": 21,
   "id": "3b6c35fe",
   "metadata": {},
   "outputs": [
    {
     "ename": "SyntaxError",
     "evalue": "positional argument follows keyword argument (453361444.py, line 2)",
     "output_type": "error",
     "traceback": [
      "\u001b[0;36m  File \u001b[0;32m\"/var/folders/jn/1bsrct314hv5xmfm7vrcdrzc0000gn/T/ipykernel_1686/453361444.py\"\u001b[0;36m, line \u001b[0;32m2\u001b[0m\n\u001b[0;31m    random(a=7, b=5, 2, 1)\u001b[0m\n\u001b[0m                         ^\u001b[0m\n\u001b[0;31mSyntaxError\u001b[0m\u001b[0;31m:\u001b[0m positional argument follows keyword argument\n"
     ]
    }
   ],
   "source": [
    "# Keyword -> Positional\n",
    "random(a=7, b=5, 2, 1)"
   ]
  },
  {
   "cell_type": "code",
   "execution_count": null,
   "id": "cbeaed28",
   "metadata": {},
   "outputs": [],
   "source": [
    "# Positional arguments must always come first.\n",
    "# Keyword arguments afterwards."
   ]
  },
  {
   "cell_type": "code",
   "execution_count": null,
   "id": "376f8a70",
   "metadata": {},
   "outputs": [],
   "source": []
  },
  {
   "cell_type": "code",
   "execution_count": null,
   "id": "005c220e",
   "metadata": {},
   "outputs": [],
   "source": []
  },
  {
   "cell_type": "code",
   "execution_count": null,
   "id": "93ef5f14",
   "metadata": {},
   "outputs": [],
   "source": []
  },
  {
   "cell_type": "markdown",
   "id": "e3781123",
   "metadata": {},
   "source": [
    "#### Quiz 7\n",
    "```py\n",
    "def power(number,exponent):\n",
    "    return number**exponent\n",
    "\n",
    "power(exponent=2,number=3)\n",
    "```"
   ]
  },
  {
   "cell_type": "code",
   "execution_count": 22,
   "id": "3c2662c6",
   "metadata": {},
   "outputs": [
    {
     "name": "stdout",
     "output_type": "stream",
     "text": [
      "9\n"
     ]
    }
   ],
   "source": [
    "def power(number,exponent):\n",
    "    return number**exponent\n",
    "\n",
    "print(power(exponent=2,number=3))"
   ]
  },
  {
   "cell_type": "code",
   "execution_count": null,
   "id": "958f1560",
   "metadata": {},
   "outputs": [],
   "source": []
  },
  {
   "cell_type": "markdown",
   "id": "fb08e63f",
   "metadata": {},
   "source": [
    "## Default Arguments"
   ]
  },
  {
   "cell_type": "code",
   "execution_count": 23,
   "id": "0ac948b9",
   "metadata": {},
   "outputs": [],
   "source": [
    "def simple_interest(p, t, r):\n",
    "    return (p * r * t)/100"
   ]
  },
  {
   "cell_type": "code",
   "execution_count": null,
   "id": "548c103d",
   "metadata": {},
   "outputs": [],
   "source": []
  },
  {
   "cell_type": "code",
   "execution_count": 24,
   "id": "b49ba8ce",
   "metadata": {},
   "outputs": [
    {
     "name": "stdout",
     "output_type": "stream",
     "text": [
      "5.0\n"
     ]
    }
   ],
   "source": [
    "print(simple_interest(100, 1, 5))"
   ]
  },
  {
   "cell_type": "code",
   "execution_count": 25,
   "id": "bb20d19a",
   "metadata": {},
   "outputs": [
    {
     "name": "stdout",
     "output_type": "stream",
     "text": [
      "105.0\n"
     ]
    }
   ],
   "source": [
    "print(simple_interest(250, 6, 7))"
   ]
  },
  {
   "cell_type": "code",
   "execution_count": null,
   "id": "bca41292",
   "metadata": {},
   "outputs": [],
   "source": []
  },
  {
   "cell_type": "code",
   "execution_count": null,
   "id": "05601092",
   "metadata": {},
   "outputs": [],
   "source": [
    "# By default, we want the rate of interest to be 7%\n",
    "# However we can get other rates as well"
   ]
  },
  {
   "cell_type": "code",
   "execution_count": 27,
   "id": "6f6eb786",
   "metadata": {},
   "outputs": [],
   "source": [
    "def simple_interest(p, t, r=7):\n",
    "    return (p * r * t)/100"
   ]
  },
  {
   "cell_type": "code",
   "execution_count": 28,
   "id": "792e456e",
   "metadata": {},
   "outputs": [
    {
     "name": "stdout",
     "output_type": "stream",
     "text": [
      "14.0\n"
     ]
    }
   ],
   "source": [
    "print(simple_interest(100, 2))"
   ]
  },
  {
   "cell_type": "code",
   "execution_count": 29,
   "id": "514489ac",
   "metadata": {},
   "outputs": [
    {
     "name": "stdout",
     "output_type": "stream",
     "text": [
      "20.0\n"
     ]
    }
   ],
   "source": [
    "print(simple_interest(100, 2, 10))"
   ]
  },
  {
   "cell_type": "code",
   "execution_count": null,
   "id": "c93eb6f1",
   "metadata": {},
   "outputs": [],
   "source": []
  },
  {
   "cell_type": "code",
   "execution_count": 31,
   "id": "29e9f592",
   "metadata": {},
   "outputs": [],
   "source": [
    "def simple_interest(p, t=1, r=7):\n",
    "    return (p * r * t)/100 "
   ]
  },
  {
   "cell_type": "code",
   "execution_count": 32,
   "id": "1e80fda0",
   "metadata": {},
   "outputs": [
    {
     "name": "stdout",
     "output_type": "stream",
     "text": [
      "7.0\n"
     ]
    }
   ],
   "source": [
    "print(simple_interest(100))"
   ]
  },
  {
   "cell_type": "code",
   "execution_count": 33,
   "id": "9521c9ff",
   "metadata": {},
   "outputs": [
    {
     "name": "stdout",
     "output_type": "stream",
     "text": [
      "14.0\n"
     ]
    }
   ],
   "source": [
    "print(simple_interest(100, 2))"
   ]
  },
  {
   "cell_type": "code",
   "execution_count": 34,
   "id": "4fd89b2e",
   "metadata": {},
   "outputs": [
    {
     "name": "stdout",
     "output_type": "stream",
     "text": [
      "20.0\n"
     ]
    }
   ],
   "source": [
    "print(simple_interest(100, 2, 10))"
   ]
  },
  {
   "cell_type": "code",
   "execution_count": null,
   "id": "7c8b7b96",
   "metadata": {},
   "outputs": [],
   "source": []
  },
  {
   "cell_type": "code",
   "execution_count": 35,
   "id": "b9a02065",
   "metadata": {},
   "outputs": [],
   "source": [
    "def simple_interest(p=100, t=1, r=7):\n",
    "    return (p * r * t)/100"
   ]
  },
  {
   "cell_type": "code",
   "execution_count": 36,
   "id": "5e326ae4",
   "metadata": {},
   "outputs": [
    {
     "name": "stdout",
     "output_type": "stream",
     "text": [
      "0.1\n"
     ]
    }
   ],
   "source": [
    "print(simple_interest(r=2, p=5))"
   ]
  },
  {
   "cell_type": "code",
   "execution_count": 37,
   "id": "a15d1ed6",
   "metadata": {},
   "outputs": [
    {
     "name": "stdout",
     "output_type": "stream",
     "text": [
      "10.0\n"
     ]
    }
   ],
   "source": [
    "print(simple_interest(r=5, t=2))"
   ]
  },
  {
   "cell_type": "code",
   "execution_count": 38,
   "id": "334868f6",
   "metadata": {},
   "outputs": [
    {
     "name": "stdout",
     "output_type": "stream",
     "text": [
      "4.0\n"
     ]
    }
   ],
   "source": [
    "print(simple_interest(200, r=2))"
   ]
  },
  {
   "cell_type": "code",
   "execution_count": null,
   "id": "f05f53ea",
   "metadata": {},
   "outputs": [],
   "source": []
  },
  {
   "cell_type": "markdown",
   "id": "86cac066",
   "metadata": {},
   "source": [
    "#### Quiz 8\n",
    "```py\n",
    "def power(x,e=1):\n",
    "    return x**e\n",
    "\n",
    "power(3, 3)\n",
    "\n",
    "```"
   ]
  },
  {
   "cell_type": "code",
   "execution_count": 39,
   "id": "a87c93fa",
   "metadata": {},
   "outputs": [
    {
     "name": "stdout",
     "output_type": "stream",
     "text": [
      "27\n"
     ]
    }
   ],
   "source": [
    "def power(x,e=1):\n",
    "    return x**e\n",
    "\n",
    "print(power(3, 3))"
   ]
  },
  {
   "cell_type": "code",
   "execution_count": 40,
   "id": "12c3b57c",
   "metadata": {},
   "outputs": [
    {
     "name": "stdout",
     "output_type": "stream",
     "text": [
      "3\n"
     ]
    }
   ],
   "source": [
    "print(power(3))"
   ]
  },
  {
   "cell_type": "code",
   "execution_count": null,
   "id": "65a83f40",
   "metadata": {},
   "outputs": [],
   "source": []
  },
  {
   "cell_type": "markdown",
   "id": "235da975",
   "metadata": {},
   "source": [
    "## Question - Date Printing\n",
    "Create a date printing function which takes in 4 arguments \\\n",
    "date, month, year, style\n",
    "\n",
    "- Style 0 -> d/m/y\n",
    "- Style 1 -> m/d/y\n",
    "- For all other styles, print \"Invalid style\"\n",
    "\n",
    "Default style is 0"
   ]
  },
  {
   "cell_type": "markdown",
   "id": "966d1c19",
   "metadata": {},
   "source": [
    "18 Sept, 2023\n",
    "India = 18/09/2023\n",
    "USA = 09/18/2023"
   ]
  },
  {
   "cell_type": "code",
   "execution_count": 43,
   "id": "6f01e39a",
   "metadata": {},
   "outputs": [],
   "source": [
    "def print_date(day, month, year, style=0):\n",
    "    if style == 0:\n",
    "        print(day, month, year, sep='/')\n",
    "    elif style == 1:\n",
    "        print(month, day, year, sep='/')\n",
    "    else:\n",
    "        print(\"Invalid style\")"
   ]
  },
  {
   "cell_type": "code",
   "execution_count": 44,
   "id": "3c7d2fa7",
   "metadata": {},
   "outputs": [
    {
     "name": "stdout",
     "output_type": "stream",
     "text": [
      "18/9/2023\n"
     ]
    }
   ],
   "source": [
    "print_date(18, 9, 2023)"
   ]
  },
  {
   "cell_type": "code",
   "execution_count": 45,
   "id": "98f38330",
   "metadata": {},
   "outputs": [
    {
     "name": "stdout",
     "output_type": "stream",
     "text": [
      "9/18/2023\n"
     ]
    }
   ],
   "source": [
    "print_date(18, 9, 2023, 1)"
   ]
  },
  {
   "cell_type": "code",
   "execution_count": 46,
   "id": "019e7b15",
   "metadata": {},
   "outputs": [
    {
     "name": "stdout",
     "output_type": "stream",
     "text": [
      "Invalid style\n"
     ]
    }
   ],
   "source": [
    "print_date(18, 9, 2023, 5)"
   ]
  },
  {
   "cell_type": "code",
   "execution_count": null,
   "id": "45884829",
   "metadata": {},
   "outputs": [],
   "source": []
  },
  {
   "cell_type": "markdown",
   "id": "0d6a1224",
   "metadata": {},
   "source": [
    "## Scope"
   ]
  },
  {
   "cell_type": "code",
   "execution_count": 47,
   "id": "7a1b380a",
   "metadata": {},
   "outputs": [
    {
     "name": "stdout",
     "output_type": "stream",
     "text": [
      "Inside the function -  father\n",
      "Outside the function -  mother\n"
     ]
    }
   ],
   "source": [
    "chief_of_house = \"mother\"\n",
    "\n",
    "def change_chief():\n",
    "    chief_of_house = \"father\"\n",
    "    print(\"Inside the function - \", chief_of_house)\n",
    "    \n",
    "change_chief()\n",
    "print(\"Outside the function - \", chief_of_house)"
   ]
  },
  {
   "cell_type": "code",
   "execution_count": null,
   "id": "d0a60938",
   "metadata": {},
   "outputs": [],
   "source": []
  },
  {
   "cell_type": "code",
   "execution_count": 48,
   "id": "24dece27",
   "metadata": {},
   "outputs": [
    {
     "name": "stdout",
     "output_type": "stream",
     "text": [
      "Inside the function -  5\n",
      "Outside the function -  10\n"
     ]
    }
   ],
   "source": [
    "a = 10 # global variable\n",
    "\n",
    "def random():\n",
    "    a = 5 # Local variable\n",
    "    print(\"Inside the function - \", a)\n",
    "    \n",
    "random()\n",
    "print(\"Outside the function - \", a)"
   ]
  },
  {
   "cell_type": "markdown",
   "id": "836333c1",
   "metadata": {},
   "source": [
    "The variable `a = 5` is only accessible insdie the block in which this has been defined. This block of region where you can access this variable is said to be its **scope**.\n",
    "\n",
    "Global variable - Any variable defined in the global part of your program. For example `a = 10` in above example.\n",
    "\n",
    "Local variable - Any variable defined in a particular function is said to be **local** to that function. For example - `a = 5` in above code."
   ]
  },
  {
   "cell_type": "code",
   "execution_count": null,
   "id": "1450ea20",
   "metadata": {},
   "outputs": [],
   "source": []
  },
  {
   "cell_type": "code",
   "execution_count": 49,
   "id": "73a65d56",
   "metadata": {},
   "outputs": [
    {
     "name": "stdout",
     "output_type": "stream",
     "text": [
      "Inside the function -  10\n",
      "Outside the function - 10\n"
     ]
    }
   ],
   "source": [
    "a = 10 # global variable\n",
    "\n",
    "def random2():\n",
    "    print(\"Inside the function - \", a)\n",
    "    \n",
    "random2()\n",
    "print(\"Outside the function -\", a)"
   ]
  },
  {
   "cell_type": "code",
   "execution_count": null,
   "id": "60eb4663",
   "metadata": {},
   "outputs": [],
   "source": []
  },
  {
   "cell_type": "code",
   "execution_count": 50,
   "id": "28f12aaa",
   "metadata": {},
   "outputs": [
    {
     "name": "stdout",
     "output_type": "stream",
     "text": [
      "Inside the function -  5\n",
      "Outside the function - 5\n"
     ]
    }
   ],
   "source": [
    "a = 10 # global variable\n",
    "\n",
    "# Somehow change the value of global 'a' inside this function\n",
    "def random3():\n",
    "    global a\n",
    "    # The above statement tells python that we wish to use the global 'a' only.\n",
    "    # Do not define a new local variable 'a'\n",
    "    a = 5\n",
    "    print(\"Inside the function - \", a)\n",
    "\n",
    "random3()\n",
    "print(\"Outside the function -\", a)"
   ]
  },
  {
   "cell_type": "code",
   "execution_count": null,
   "id": "9e860a0f",
   "metadata": {},
   "outputs": [],
   "source": []
  },
  {
   "cell_type": "code",
   "execution_count": null,
   "id": "fc5ff9ca",
   "metadata": {},
   "outputs": [],
   "source": []
  },
  {
   "cell_type": "code",
   "execution_count": 52,
   "id": "fb9e4ea3",
   "metadata": {},
   "outputs": [
    {
     "name": "stdout",
     "output_type": "stream",
     "text": [
      "Inside the function -  13\n",
      "Outside the function - 13\n"
     ]
    }
   ],
   "source": [
    "a = 10\n",
    "\n",
    "def random4():\n",
    "    global a\n",
    "    a += 3 # a = a + 3\n",
    "    print(\"Inside the function - \", a)\n",
    "\n",
    "random4()\n",
    "print(\"Outside the function -\", a)"
   ]
  },
  {
   "cell_type": "code",
   "execution_count": null,
   "id": "60a649a7",
   "metadata": {},
   "outputs": [],
   "source": []
  },
  {
   "cell_type": "code",
   "execution_count": null,
   "id": "34513ca3",
   "metadata": {},
   "outputs": [],
   "source": []
  },
  {
   "cell_type": "markdown",
   "id": "576b354f",
   "metadata": {},
   "source": [
    "### Lambda Functions\n",
    "![](https://www.scaler.com/topics/images/Python-Lambda-and-Anonymous-Function.webp)"
   ]
  },
  {
   "cell_type": "code",
   "execution_count": 55,
   "id": "029beec0",
   "metadata": {},
   "outputs": [],
   "source": [
    "def boring_square(x):\n",
    "    return x ** 2"
   ]
  },
  {
   "cell_type": "code",
   "execution_count": 56,
   "id": "474a2c2c",
   "metadata": {},
   "outputs": [
    {
     "name": "stdout",
     "output_type": "stream",
     "text": [
      "25\n"
     ]
    }
   ],
   "source": [
    "print(boring_square(5))"
   ]
  },
  {
   "cell_type": "code",
   "execution_count": null,
   "id": "f615cd63",
   "metadata": {},
   "outputs": [],
   "source": [
    "# Function with a single line return statement can be rewritten as a lambda function"
   ]
  },
  {
   "cell_type": "code",
   "execution_count": null,
   "id": "c6ed098c",
   "metadata": {},
   "outputs": [],
   "source": [
    "# function_name = lambda args: return value"
   ]
  },
  {
   "cell_type": "code",
   "execution_count": 57,
   "id": "96cb161a",
   "metadata": {},
   "outputs": [],
   "source": [
    "cool_square = lambda x: x ** 2"
   ]
  },
  {
   "cell_type": "code",
   "execution_count": 58,
   "id": "bd0a8ec2",
   "metadata": {},
   "outputs": [
    {
     "name": "stdout",
     "output_type": "stream",
     "text": [
      "100\n"
     ]
    }
   ],
   "source": [
    "print(cool_square(10))"
   ]
  },
  {
   "cell_type": "code",
   "execution_count": 59,
   "id": "2d4e8cb6",
   "metadata": {},
   "outputs": [
    {
     "name": "stdout",
     "output_type": "stream",
     "text": [
      "9\n"
     ]
    }
   ],
   "source": [
    "print(cool_square(3))"
   ]
  },
  {
   "cell_type": "code",
   "execution_count": null,
   "id": "bc8c8cb7",
   "metadata": {},
   "outputs": [],
   "source": []
  },
  {
   "cell_type": "code",
   "execution_count": 60,
   "id": "b3974af1",
   "metadata": {},
   "outputs": [],
   "source": [
    "def boring_add(a, b):\n",
    "    return a + b"
   ]
  },
  {
   "cell_type": "code",
   "execution_count": 61,
   "id": "b6f80535",
   "metadata": {},
   "outputs": [],
   "source": [
    "cool_add = lambda a, b: a + b"
   ]
  },
  {
   "cell_type": "code",
   "execution_count": 62,
   "id": "56cd9d4a",
   "metadata": {},
   "outputs": [
    {
     "name": "stdout",
     "output_type": "stream",
     "text": [
      "8\n"
     ]
    }
   ],
   "source": [
    "print(cool_add(3, 5))"
   ]
  },
  {
   "cell_type": "code",
   "execution_count": 63,
   "id": "3420d63c",
   "metadata": {},
   "outputs": [],
   "source": [
    "# Lambda functions are also known as \"Anonymous functions\".\n",
    "# We can omit or not even specify the function name, define and call them directly."
   ]
  },
  {
   "cell_type": "code",
   "execution_count": null,
   "id": "eaf6b2de",
   "metadata": {},
   "outputs": [],
   "source": []
  },
  {
   "cell_type": "code",
   "execution_count": 64,
   "id": "19677b3e",
   "metadata": {},
   "outputs": [
    {
     "data": {
      "text/plain": [
       "15"
      ]
     },
     "execution_count": 64,
     "metadata": {},
     "output_type": "execute_result"
    }
   ],
   "source": [
    "(lambda x: x + 10)(5)\n",
    "# 5 was an argument given to this anonymous function"
   ]
  },
  {
   "cell_type": "code",
   "execution_count": null,
   "id": "4a175cfc",
   "metadata": {},
   "outputs": [],
   "source": []
  },
  {
   "cell_type": "code",
   "execution_count": null,
   "id": "b18eac2e",
   "metadata": {},
   "outputs": [],
   "source": []
  },
  {
   "cell_type": "code",
   "execution_count": null,
   "id": "67f5fe6c",
   "metadata": {},
   "outputs": [],
   "source": []
  },
  {
   "cell_type": "markdown",
   "id": "0d66e6d0",
   "metadata": {},
   "source": [
    "# Bonus Reading Material\n",
    "- What are Default Arguments in Python? - https://www.scaler.com/topics/default-arguments-in-python/\n",
    "- Namespace and Scope in Python - https://www.scaler.com/topics/namespace-and-scope-in-python/\n",
    "- Scope of Variable in Python - https://www.scaler.com/topics/python/python-functions-scope/\n",
    "- How to use Lambda Functions in Python? - https://www.scaler.com/topics/how-to-use-lambda-functions-in-python/\n",
    "- Lambda and Anonymous Function in Python - https://www.scaler.com/topics/python/lambda-and-anonymous-function-in-python/"
   ]
  },
  {
   "cell_type": "code",
   "execution_count": null,
   "id": "ff6e1060",
   "metadata": {},
   "outputs": [],
   "source": []
  },
  {
   "cell_type": "code",
   "execution_count": null,
   "id": "56a3cd6b",
   "metadata": {},
   "outputs": [],
   "source": []
  },
  {
   "cell_type": "code",
   "execution_count": null,
   "id": "ccd40ac9",
   "metadata": {},
   "outputs": [],
   "source": []
  },
  {
   "cell_type": "markdown",
   "id": "eeafe7c3",
   "metadata": {},
   "source": [
    "# Doubts"
   ]
  },
  {
   "cell_type": "code",
   "execution_count": null,
   "id": "c9942596",
   "metadata": {},
   "outputs": [],
   "source": []
  },
  {
   "cell_type": "code",
   "execution_count": null,
   "id": "f0c3e933",
   "metadata": {},
   "outputs": [],
   "source": []
  },
  {
   "cell_type": "code",
   "execution_count": null,
   "id": "7524a236",
   "metadata": {},
   "outputs": [],
   "source": []
  },
  {
   "cell_type": "code",
   "execution_count": null,
   "id": "d7bac60c",
   "metadata": {},
   "outputs": [],
   "source": []
  }
 ],
 "metadata": {
  "kernelspec": {
   "display_name": "Python 3 (ipykernel)",
   "language": "python",
   "name": "python3"
  },
  "language_info": {
   "codemirror_mode": {
    "name": "ipython",
    "version": 3
   },
   "file_extension": ".py",
   "mimetype": "text/x-python",
   "name": "python",
   "nbconvert_exporter": "python",
   "pygments_lexer": "ipython3",
   "version": "3.9.12"
  }
 },
 "nbformat": 4,
 "nbformat_minor": 5
}
