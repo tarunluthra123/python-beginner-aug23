{
 "cells": [
  {
   "cell_type": "code",
   "execution_count": 12,
   "id": "b3f3286b",
   "metadata": {},
   "outputs": [],
   "source": [
    "## List Methods"
   ]
  },
  {
   "cell_type": "code",
   "execution_count": null,
   "id": "2936d57b",
   "metadata": {},
   "outputs": [],
   "source": [
    "'''\n",
    "Q1:\n",
    "\n",
    "l = [1,2,3,4,5]\n",
    "Rotate the list by 1 element\n",
    "Resulting list l1 = [5,1,2,3,4]\n",
    "'''\n"
   ]
  },
  {
   "cell_type": "code",
   "execution_count": 29,
   "id": "84c256b0",
   "metadata": {},
   "outputs": [],
   "source": [
    "a = [1, 2, 3, 4, 5]"
   ]
  },
  {
   "cell_type": "code",
   "execution_count": null,
   "id": "c3c7d658",
   "metadata": {},
   "outputs": [],
   "source": [
    "'''\n",
    "1. Get the last element in the list\n",
    "2. Remove the last element\n",
    "3. Add this removed element to the start of the list\n",
    "'''"
   ]
  },
  {
   "cell_type": "code",
   "execution_count": 6,
   "id": "54df76ba",
   "metadata": {},
   "outputs": [],
   "source": [
    "#List Slicing based solution"
   ]
  },
  {
   "cell_type": "code",
   "execution_count": 2,
   "id": "b21cf3de",
   "metadata": {},
   "outputs": [],
   "source": [
    "last_element = a[-1]"
   ]
  },
  {
   "cell_type": "code",
   "execution_count": 3,
   "id": "2bdef83b",
   "metadata": {},
   "outputs": [],
   "source": [
    "initial_elements = a[:len(a)-1]"
   ]
  },
  {
   "cell_type": "code",
   "execution_count": 4,
   "id": "dc76c6c1",
   "metadata": {},
   "outputs": [],
   "source": [
    "result = [last_element] + initial_elements"
   ]
  },
  {
   "cell_type": "code",
   "execution_count": 5,
   "id": "cde843f9",
   "metadata": {},
   "outputs": [
    {
     "data": {
      "text/plain": [
       "[5, 1, 2, 3, 4]"
      ]
     },
     "execution_count": 5,
     "metadata": {},
     "output_type": "execute_result"
    }
   ],
   "source": [
    "result"
   ]
  },
  {
   "cell_type": "code",
   "execution_count": null,
   "id": "fad89b14",
   "metadata": {},
   "outputs": [],
   "source": []
  },
  {
   "cell_type": "code",
   "execution_count": 30,
   "id": "d421fdaf",
   "metadata": {},
   "outputs": [],
   "source": [
    "#Solution 2\n",
    "\n",
    "last_element = a.pop()\n",
    "#initial_elements = a[:len(a)]\n",
    "result = [last_element] + a"
   ]
  },
  {
   "cell_type": "code",
   "execution_count": 31,
   "id": "b49ffc42",
   "metadata": {},
   "outputs": [
    {
     "data": {
      "text/plain": [
       "[5, 1, 2, 3, 4]"
      ]
     },
     "execution_count": 31,
     "metadata": {},
     "output_type": "execute_result"
    }
   ],
   "source": [
    "result"
   ]
  },
  {
   "cell_type": "code",
   "execution_count": 32,
   "id": "fd892a71",
   "metadata": {},
   "outputs": [],
   "source": [
    "a = [1,2,3,4,5]\n",
    "last_element = a.pop()\n",
    "a.insert(0,last_element)"
   ]
  },
  {
   "cell_type": "code",
   "execution_count": 33,
   "id": "0a0a30ac",
   "metadata": {},
   "outputs": [
    {
     "data": {
      "text/plain": [
       "[5, 1, 2, 3, 4]"
      ]
     },
     "execution_count": 33,
     "metadata": {},
     "output_type": "execute_result"
    }
   ],
   "source": [
    "a"
   ]
  },
  {
   "cell_type": "code",
   "execution_count": null,
   "id": "3f8c3795",
   "metadata": {},
   "outputs": [],
   "source": [
    "# insert, pop, remove"
   ]
  },
  {
   "cell_type": "code",
   "execution_count": 7,
   "id": "524ac7a0",
   "metadata": {},
   "outputs": [
    {
     "data": {
      "text/plain": [
       "['__add__',\n",
       " '__class__',\n",
       " '__class_getitem__',\n",
       " '__contains__',\n",
       " '__delattr__',\n",
       " '__delitem__',\n",
       " '__dir__',\n",
       " '__doc__',\n",
       " '__eq__',\n",
       " '__format__',\n",
       " '__ge__',\n",
       " '__getattribute__',\n",
       " '__getitem__',\n",
       " '__gt__',\n",
       " '__hash__',\n",
       " '__iadd__',\n",
       " '__imul__',\n",
       " '__init__',\n",
       " '__init_subclass__',\n",
       " '__iter__',\n",
       " '__le__',\n",
       " '__len__',\n",
       " '__lt__',\n",
       " '__mul__',\n",
       " '__ne__',\n",
       " '__new__',\n",
       " '__reduce__',\n",
       " '__reduce_ex__',\n",
       " '__repr__',\n",
       " '__reversed__',\n",
       " '__rmul__',\n",
       " '__setattr__',\n",
       " '__setitem__',\n",
       " '__sizeof__',\n",
       " '__str__',\n",
       " '__subclasshook__',\n",
       " 'append',\n",
       " 'clear',\n",
       " 'copy',\n",
       " 'count',\n",
       " 'extend',\n",
       " 'index',\n",
       " 'insert',\n",
       " 'pop',\n",
       " 'remove',\n",
       " 'reverse',\n",
       " 'sort']"
      ]
     },
     "execution_count": 7,
     "metadata": {},
     "output_type": "execute_result"
    }
   ],
   "source": [
    "dir(list)"
   ]
  },
  {
   "cell_type": "code",
   "execution_count": null,
   "id": "3a275476",
   "metadata": {},
   "outputs": [],
   "source": [
    "# Using pop() method\n",
    "'''\n",
    "1. Removes the element in the original list\n",
    "2. Helps to remove an element at a particular index/position in a list\n",
    "'''"
   ]
  },
  {
   "cell_type": "code",
   "execution_count": 8,
   "id": "7d857326",
   "metadata": {},
   "outputs": [],
   "source": [
    "a1 = [7,8,9,10]"
   ]
  },
  {
   "cell_type": "code",
   "execution_count": 9,
   "id": "5935e758",
   "metadata": {},
   "outputs": [
    {
     "data": {
      "text/plain": [
       "10"
      ]
     },
     "execution_count": 9,
     "metadata": {},
     "output_type": "execute_result"
    }
   ],
   "source": [
    "a1.pop()"
   ]
  },
  {
   "cell_type": "code",
   "execution_count": 10,
   "id": "cb3e76e9",
   "metadata": {},
   "outputs": [
    {
     "data": {
      "text/plain": [
       "[7, 8, 9]"
      ]
     },
     "execution_count": 10,
     "metadata": {},
     "output_type": "execute_result"
    }
   ],
   "source": [
    "a1"
   ]
  },
  {
   "cell_type": "code",
   "execution_count": 11,
   "id": "52f73650",
   "metadata": {},
   "outputs": [],
   "source": [
    "elem = a1.pop()"
   ]
  },
  {
   "cell_type": "code",
   "execution_count": 12,
   "id": "db6d2172",
   "metadata": {},
   "outputs": [
    {
     "data": {
      "text/plain": [
       "9"
      ]
     },
     "execution_count": 12,
     "metadata": {},
     "output_type": "execute_result"
    }
   ],
   "source": [
    "elem"
   ]
  },
  {
   "cell_type": "code",
   "execution_count": 13,
   "id": "fc045ee2",
   "metadata": {},
   "outputs": [
    {
     "data": {
      "text/plain": [
       "[7, 8]"
      ]
     },
     "execution_count": 13,
     "metadata": {},
     "output_type": "execute_result"
    }
   ],
   "source": [
    "a1"
   ]
  },
  {
   "cell_type": "code",
   "execution_count": 14,
   "id": "344123a3",
   "metadata": {},
   "outputs": [
    {
     "data": {
      "text/plain": [
       "7"
      ]
     },
     "execution_count": 14,
     "metadata": {},
     "output_type": "execute_result"
    }
   ],
   "source": [
    "a1.pop(0)"
   ]
  },
  {
   "cell_type": "code",
   "execution_count": 15,
   "id": "b039d757",
   "metadata": {},
   "outputs": [
    {
     "data": {
      "text/plain": [
       "[8]"
      ]
     },
     "execution_count": 15,
     "metadata": {},
     "output_type": "execute_result"
    }
   ],
   "source": [
    "a1"
   ]
  },
  {
   "cell_type": "code",
   "execution_count": null,
   "id": "649c559d",
   "metadata": {},
   "outputs": [],
   "source": [
    "# Using remove() method\n",
    "'''\n",
    "1. Removes first occurence of an element in the list\n",
    "2. This method doesn't return any value. The removal happens in-place\n",
    "'''"
   ]
  },
  {
   "cell_type": "code",
   "execution_count": 20,
   "id": "175512b5",
   "metadata": {},
   "outputs": [],
   "source": [
    "a1 = [7,8,9,8,10]"
   ]
  },
  {
   "cell_type": "code",
   "execution_count": 22,
   "id": "35e517cb",
   "metadata": {},
   "outputs": [],
   "source": [
    "a1.remove(8)"
   ]
  },
  {
   "cell_type": "code",
   "execution_count": 23,
   "id": "52e961a7",
   "metadata": {},
   "outputs": [
    {
     "data": {
      "text/plain": [
       "[7, 9, 8, 10]"
      ]
     },
     "execution_count": 23,
     "metadata": {},
     "output_type": "execute_result"
    }
   ],
   "source": [
    "a1"
   ]
  },
  {
   "cell_type": "code",
   "execution_count": 24,
   "id": "308ced3b",
   "metadata": {},
   "outputs": [],
   "source": [
    "a2 = a1.remove(8)"
   ]
  },
  {
   "cell_type": "code",
   "execution_count": 26,
   "id": "c7bb573c",
   "metadata": {},
   "outputs": [],
   "source": [
    "a2"
   ]
  },
  {
   "cell_type": "code",
   "execution_count": null,
   "id": "07e3c141",
   "metadata": {},
   "outputs": [],
   "source": []
  },
  {
   "cell_type": "code",
   "execution_count": null,
   "id": "c7485023",
   "metadata": {},
   "outputs": [],
   "source": [
    "#index, count"
   ]
  },
  {
   "cell_type": "code",
   "execution_count": 37,
   "id": "4a027c86",
   "metadata": {},
   "outputs": [],
   "source": [
    "a = [1,2,3,6,8]"
   ]
  },
  {
   "cell_type": "code",
   "execution_count": 38,
   "id": "00c49833",
   "metadata": {},
   "outputs": [
    {
     "data": {
      "text/plain": [
       "3"
      ]
     },
     "execution_count": 38,
     "metadata": {},
     "output_type": "execute_result"
    }
   ],
   "source": [
    "a.index(6)"
   ]
  },
  {
   "cell_type": "code",
   "execution_count": 39,
   "id": "0129665a",
   "metadata": {},
   "outputs": [],
   "source": [
    "a = [1, 1, 1, 1, 2, 2, 2, 5, 6, 1, 7, 3, 4]"
   ]
  },
  {
   "cell_type": "code",
   "execution_count": 51,
   "id": "bac82fd1",
   "metadata": {},
   "outputs": [
    {
     "data": {
      "text/plain": [
       "3"
      ]
     },
     "execution_count": 51,
     "metadata": {},
     "output_type": "execute_result"
    }
   ],
   "source": [
    "a.count(2)"
   ]
  },
  {
   "cell_type": "code",
   "execution_count": 42,
   "id": "d3c76040",
   "metadata": {},
   "outputs": [
    {
     "data": {
      "text/plain": [
       "'\\nindex() method: Returns index of an element corresponding to a particular value\\ncount() method: Counts no. of occurences of an element in a list\\n'"
      ]
     },
     "execution_count": 42,
     "metadata": {},
     "output_type": "execute_result"
    }
   ],
   "source": [
    "'''\n",
    "index() method: Returns index of an element corresponding to a particular value for the first occurence\n",
    "count() method: Counts no. of occurences of an element in a list\n",
    "'''"
   ]
  },
  {
   "cell_type": "code",
   "execution_count": 43,
   "id": "cdb2ba93",
   "metadata": {},
   "outputs": [
    {
     "data": {
      "text/plain": [
       "4"
      ]
     },
     "execution_count": 43,
     "metadata": {},
     "output_type": "execute_result"
    }
   ],
   "source": [
    "a.index(2)"
   ]
  },
  {
   "cell_type": "code",
   "execution_count": 44,
   "id": "26fb1ac6",
   "metadata": {},
   "outputs": [],
   "source": [
    "a1 = a[5:len(a)]"
   ]
  },
  {
   "cell_type": "code",
   "execution_count": 45,
   "id": "058f66b1",
   "metadata": {},
   "outputs": [
    {
     "data": {
      "text/plain": [
       "[2, 2, 5, 6, 1, 7, 3, 4]"
      ]
     },
     "execution_count": 45,
     "metadata": {},
     "output_type": "execute_result"
    }
   ],
   "source": [
    "a1"
   ]
  },
  {
   "cell_type": "code",
   "execution_count": 46,
   "id": "76ce94cc",
   "metadata": {},
   "outputs": [
    {
     "data": {
      "text/plain": [
       "0"
      ]
     },
     "execution_count": 46,
     "metadata": {},
     "output_type": "execute_result"
    }
   ],
   "source": [
    "a1.index(2)"
   ]
  },
  {
   "cell_type": "code",
   "execution_count": 47,
   "id": "67b3d914",
   "metadata": {},
   "outputs": [
    {
     "data": {
      "text/plain": [
       "5"
      ]
     },
     "execution_count": 47,
     "metadata": {},
     "output_type": "execute_result"
    }
   ],
   "source": [
    "5+0"
   ]
  },
  {
   "cell_type": "code",
   "execution_count": 48,
   "id": "7f748279",
   "metadata": {},
   "outputs": [],
   "source": [
    "a2 = a1[1:len(a1)]"
   ]
  },
  {
   "cell_type": "code",
   "execution_count": 49,
   "id": "b86ced2d",
   "metadata": {},
   "outputs": [
    {
     "data": {
      "text/plain": [
       "0"
      ]
     },
     "execution_count": 49,
     "metadata": {},
     "output_type": "execute_result"
    }
   ],
   "source": [
    "a2.index(2)"
   ]
  },
  {
   "cell_type": "code",
   "execution_count": 50,
   "id": "f43b2197",
   "metadata": {},
   "outputs": [
    {
     "data": {
      "text/plain": [
       "6"
      ]
     },
     "execution_count": 50,
     "metadata": {},
     "output_type": "execute_result"
    }
   ],
   "source": [
    "5+1+0"
   ]
  },
  {
   "cell_type": "code",
   "execution_count": null,
   "id": "dcbb2cab",
   "metadata": {},
   "outputs": [],
   "source": []
  },
  {
   "cell_type": "code",
   "execution_count": null,
   "id": "942303e8",
   "metadata": {},
   "outputs": [],
   "source": [
    "'''\n",
    "Q2: Write a program to reverse a list\n",
    "'''"
   ]
  },
  {
   "cell_type": "code",
   "execution_count": 52,
   "id": "53d47ebe",
   "metadata": {},
   "outputs": [],
   "source": [
    "a = [1,2,3,4,5]"
   ]
  },
  {
   "cell_type": "code",
   "execution_count": 53,
   "id": "a762d1eb",
   "metadata": {},
   "outputs": [
    {
     "data": {
      "text/plain": [
       "[5, 4, 3, 2, 1]"
      ]
     },
     "execution_count": 53,
     "metadata": {},
     "output_type": "execute_result"
    }
   ],
   "source": [
    "a[::-1]"
   ]
  },
  {
   "cell_type": "code",
   "execution_count": 54,
   "id": "6a715a03",
   "metadata": {},
   "outputs": [],
   "source": [
    "a.reverse()"
   ]
  },
  {
   "cell_type": "code",
   "execution_count": 55,
   "id": "ffb23940",
   "metadata": {},
   "outputs": [
    {
     "data": {
      "text/plain": [
       "[5, 4, 3, 2, 1]"
      ]
     },
     "execution_count": 55,
     "metadata": {},
     "output_type": "execute_result"
    }
   ],
   "source": [
    "a"
   ]
  },
  {
   "cell_type": "code",
   "execution_count": 56,
   "id": "907ac669",
   "metadata": {},
   "outputs": [],
   "source": [
    "#reversed()\n",
    "\n",
    "a_reversed = list(reversed(a))"
   ]
  },
  {
   "cell_type": "code",
   "execution_count": 57,
   "id": "98743018",
   "metadata": {},
   "outputs": [
    {
     "data": {
      "text/plain": [
       "[1, 2, 3, 4, 5]"
      ]
     },
     "execution_count": 57,
     "metadata": {},
     "output_type": "execute_result"
    }
   ],
   "source": [
    "a_reversed"
   ]
  },
  {
   "cell_type": "code",
   "execution_count": 58,
   "id": "f1de1be3",
   "metadata": {},
   "outputs": [
    {
     "data": {
      "text/plain": [
       "<list_reverseiterator at 0x7fcd142de830>"
      ]
     },
     "execution_count": 58,
     "metadata": {},
     "output_type": "execute_result"
    }
   ],
   "source": [
    "reversed(a)"
   ]
  },
  {
   "cell_type": "code",
   "execution_count": null,
   "id": "036570c1",
   "metadata": {},
   "outputs": [],
   "source": []
  },
  {
   "cell_type": "code",
   "execution_count": null,
   "id": "aa06d9d5",
   "metadata": {},
   "outputs": [],
   "source": [
    "## 2D Lists "
   ]
  },
  {
   "cell_type": "code",
   "execution_count": null,
   "id": "433f0511",
   "metadata": {},
   "outputs": [],
   "source": [
    "'''\n",
    "Q4: Take a 3X3 matrix as an input from the user.\n",
    "\n",
    "1 2 3 4 5 6 7 8 9\n",
    "\n",
    "1 2 3\n",
    "4 5 6\n",
    "7 8 9\n",
    "\n",
    "Given this matrix:\n",
    "1. Calculate the sum of all the elements in the matrix\n",
    "2. Calculate the sum of each row\n",
    "3. Calculate the sum of each column\n",
    "'''"
   ]
  },
  {
   "cell_type": "code",
   "execution_count": 3,
   "id": "04863ebe",
   "metadata": {},
   "outputs": [
    {
     "name": "stdout",
     "output_type": "stream",
     "text": [
      "1\n",
      "2\n",
      "3\n",
      "4\n",
      "5\n",
      "6\n",
      "7\n",
      "8\n",
      "9\n"
     ]
    }
   ],
   "source": [
    "a = []\n",
    "\n",
    "for i in range(3):\n",
    "    inner_list = []\n",
    "    for j in range(3):\n",
    "        inner_list.append((int(input())))\n",
    "    a.append(inner_list)"
   ]
  },
  {
   "cell_type": "code",
   "execution_count": 4,
   "id": "17b65f97",
   "metadata": {},
   "outputs": [
    {
     "data": {
      "text/plain": [
       "[[1, 2, 3], [4, 5, 6], [7, 8, 9]]"
      ]
     },
     "execution_count": 4,
     "metadata": {},
     "output_type": "execute_result"
    }
   ],
   "source": [
    "a"
   ]
  },
  {
   "cell_type": "code",
   "execution_count": 5,
   "id": "a2597600",
   "metadata": {},
   "outputs": [
    {
     "name": "stdout",
     "output_type": "stream",
     "text": [
      "45\n"
     ]
    }
   ],
   "source": [
    "#1\n",
    "\n",
    "sum_all = 0\n",
    "for i in a:\n",
    "    for j in i:\n",
    "        sum_all += j\n",
    "print(sum_all)"
   ]
  },
  {
   "cell_type": "code",
   "execution_count": 6,
   "id": "1e0e9cef",
   "metadata": {},
   "outputs": [
    {
     "name": "stdout",
     "output_type": "stream",
     "text": [
      "[6, 15, 24]\n"
     ]
    }
   ],
   "source": [
    "sum_rows = [0, 0, 0]\n",
    "rows = len(a)\n",
    "cols = len(a[0])\n",
    "\n",
    "for i in range(rows):\n",
    "    for j in range(cols):\n",
    "        sum_rows[i] += a[i][j]\n",
    "        \n",
    "print(sum_rows)"
   ]
  },
  {
   "cell_type": "code",
   "execution_count": 9,
   "id": "942f6840",
   "metadata": {},
   "outputs": [
    {
     "name": "stdout",
     "output_type": "stream",
     "text": [
      "[12, 15, 18]\n"
     ]
    }
   ],
   "source": [
    "sum_cols = [0, 0, 0]\n",
    "rows = len(a)\n",
    "cols = len(a[0])\n",
    "\n",
    "for i in range(rows):\n",
    "    for j in range(cols):\n",
    "        sum_cols[j] += a[i][j]\n",
    "        \n",
    "print(sum_cols)"
   ]
  },
  {
   "cell_type": "code",
   "execution_count": null,
   "id": "62219156",
   "metadata": {},
   "outputs": [],
   "source": [
    "1 2 3\n",
    "4 5 6\n",
    "7 8 9\n",
    "\n",
    "a[0][0] + a[1][0] + a[2][0]\n",
    "a[0][1] + a[1][1] + a[2][1]\n",
    "a[0][2] + a[1][2] + a[2][2]"
   ]
  },
  {
   "cell_type": "code",
   "execution_count": 11,
   "id": "aa7fb13a",
   "metadata": {},
   "outputs": [
    {
     "name": "stdout",
     "output_type": "stream",
     "text": [
      "[12, 15, 18]\n"
     ]
    }
   ],
   "source": [
    "sum_cols = [0, 0, 0]\n",
    "rows = len(a)\n",
    "cols = len(a[0])\n",
    "\n",
    "for i in range(cols):\n",
    "    for j in range(rows):\n",
    "        sum_cols[i] += a[j][i]\n",
    "        \n",
    "print(sum_cols)"
   ]
  },
  {
   "cell_type": "code",
   "execution_count": null,
   "id": "6a81dea1",
   "metadata": {},
   "outputs": [],
   "source": []
  }
 ],
 "metadata": {
  "kernelspec": {
   "display_name": "Python 3 (ipykernel)",
   "language": "python",
   "name": "python3"
  },
  "language_info": {
   "codemirror_mode": {
    "name": "ipython",
    "version": 3
   },
   "file_extension": ".py",
   "mimetype": "text/x-python",
   "name": "python",
   "nbconvert_exporter": "python",
   "pygments_lexer": "ipython3",
   "version": "3.10.9"
  }
 },
 "nbformat": 4,
 "nbformat_minor": 5
}
