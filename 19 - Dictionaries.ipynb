{
 "cells": [
  {
   "cell_type": "markdown",
   "id": "380f0204",
   "metadata": {},
   "source": [
    "# Dictionaries\n",
    "![](https://scaler.com/topics/images/dict-in-python.webp)"
   ]
  },
  {
   "cell_type": "markdown",
   "id": "1f7701d0",
   "metadata": {},
   "source": [
    "- They are used to store data in key-value pair format\n",
    "- The keys are always unique\n",
    "- The values may or may not be unique\n",
    "- Dictionaries use **hashing** to store the data"
   ]
  },
  {
   "cell_type": "code",
   "execution_count": 1,
   "id": "5116396a",
   "metadata": {},
   "outputs": [
    {
     "name": "stdout",
     "output_type": "stream",
     "text": [
      "{} <class 'dict'>\n"
     ]
    }
   ],
   "source": [
    "d = {}\n",
    "print(d, type(d))"
   ]
  },
  {
   "cell_type": "code",
   "execution_count": 2,
   "id": "974a7c15",
   "metadata": {},
   "outputs": [
    {
     "name": "stdout",
     "output_type": "stream",
     "text": [
      "{} <class 'dict'>\n"
     ]
    }
   ],
   "source": [
    "d = dict()\n",
    "print(d, type(d))"
   ]
  },
  {
   "cell_type": "code",
   "execution_count": null,
   "id": "d698b241",
   "metadata": {},
   "outputs": [],
   "source": []
  },
  {
   "cell_type": "code",
   "execution_count": 5,
   "id": "0d30691b",
   "metadata": {},
   "outputs": [
    {
     "name": "stdout",
     "output_type": "stream",
     "text": [
      "{'Dal Makhani': 200, 'Pav Bhaji': 300, 'Pizza': 500, 'Pasta': 300} <class 'dict'>\n"
     ]
    }
   ],
   "source": [
    "menu = {\n",
    "    \"Dal Makhani\": 200,\n",
    "    \"Pav Bhaji\": 300,\n",
    "    \"Pizza\": 500,\n",
    "    \"Pasta\": 300\n",
    "}\n",
    "print(menu, type(menu))"
   ]
  },
  {
   "cell_type": "code",
   "execution_count": null,
   "id": "40f50ae9",
   "metadata": {},
   "outputs": [],
   "source": []
  },
  {
   "cell_type": "code",
   "execution_count": null,
   "id": "3d6b66d2",
   "metadata": {},
   "outputs": [],
   "source": []
  },
  {
   "cell_type": "code",
   "execution_count": 4,
   "id": "03fe598f",
   "metadata": {},
   "outputs": [
    {
     "name": "stdout",
     "output_type": "stream",
     "text": [
      "{5: 'hello', 'ok': 'bye', 8.2: 'random'}\n"
     ]
    }
   ],
   "source": [
    "d = {\n",
    "    5: 'hello',\n",
    "    'ok': 'bye',\n",
    "    8.2: 'random'\n",
    "}\n",
    "print(d)"
   ]
  },
  {
   "cell_type": "code",
   "execution_count": null,
   "id": "afd1ca55",
   "metadata": {},
   "outputs": [],
   "source": []
  },
  {
   "cell_type": "code",
   "execution_count": null,
   "id": "d46dfe48",
   "metadata": {},
   "outputs": [],
   "source": []
  },
  {
   "cell_type": "markdown",
   "id": "021a17d2",
   "metadata": {},
   "source": [
    "### Reading values\n",
    "- square brackets\n",
    "- get()"
   ]
  },
  {
   "cell_type": "code",
   "execution_count": 6,
   "id": "1a4efbea",
   "metadata": {},
   "outputs": [],
   "source": [
    "menu = {\n",
    "    \"Dal Makhani\": 200,\n",
    "    \"Pav Bhaji\": 300,\n",
    "    \"Pizza\": 500,\n",
    "    \"Pasta\": 300\n",
    "}"
   ]
  },
  {
   "cell_type": "code",
   "execution_count": 7,
   "id": "db8fb1b8",
   "metadata": {},
   "outputs": [
    {
     "name": "stdout",
     "output_type": "stream",
     "text": [
      "500\n"
     ]
    }
   ],
   "source": [
    "print(menu[\"Pizza\"])"
   ]
  },
  {
   "cell_type": "code",
   "execution_count": 8,
   "id": "3fb12c8a",
   "metadata": {},
   "outputs": [
    {
     "ename": "KeyError",
     "evalue": "'Dosa'",
     "output_type": "error",
     "traceback": [
      "\u001b[0;31m---------------------------------------------------------------------------\u001b[0m",
      "\u001b[0;31mKeyError\u001b[0m                                  Traceback (most recent call last)",
      "\u001b[0;32m/var/folders/jn/1bsrct314hv5xmfm7vrcdrzc0000gn/T/ipykernel_72050/3285990470.py\u001b[0m in \u001b[0;36m<module>\u001b[0;34m\u001b[0m\n\u001b[0;32m----> 1\u001b[0;31m \u001b[0mprint\u001b[0m\u001b[0;34m(\u001b[0m\u001b[0mmenu\u001b[0m\u001b[0;34m[\u001b[0m\u001b[0;34m\"Dosa\"\u001b[0m\u001b[0;34m]\u001b[0m\u001b[0;34m)\u001b[0m\u001b[0;34m\u001b[0m\u001b[0;34m\u001b[0m\u001b[0m\n\u001b[0m",
      "\u001b[0;31mKeyError\u001b[0m: 'Dosa'"
     ]
    }
   ],
   "source": [
    "print(menu[\"Dosa\"])"
   ]
  },
  {
   "cell_type": "code",
   "execution_count": null,
   "id": "3faa48c1",
   "metadata": {},
   "outputs": [],
   "source": [
    "# You can only fetch value from key. Not the other way around. "
   ]
  },
  {
   "cell_type": "code",
   "execution_count": null,
   "id": "18fa1046",
   "metadata": {},
   "outputs": [],
   "source": []
  },
  {
   "cell_type": "code",
   "execution_count": 9,
   "id": "a3010881",
   "metadata": {},
   "outputs": [
    {
     "name": "stdout",
     "output_type": "stream",
     "text": [
      "500\n"
     ]
    }
   ],
   "source": [
    "print(menu.get(\"Pizza\"))"
   ]
  },
  {
   "cell_type": "code",
   "execution_count": 10,
   "id": "84689018",
   "metadata": {},
   "outputs": [
    {
     "name": "stdout",
     "output_type": "stream",
     "text": [
      "None\n"
     ]
    }
   ],
   "source": [
    "print(menu.get(\"Dosa\"))\n",
    "# This is a safe method to use if you wish to avoid errors in your program"
   ]
  },
  {
   "cell_type": "code",
   "execution_count": null,
   "id": "654dc518",
   "metadata": {},
   "outputs": [],
   "source": []
  },
  {
   "cell_type": "code",
   "execution_count": null,
   "id": "961fbaf9",
   "metadata": {},
   "outputs": [],
   "source": []
  },
  {
   "cell_type": "code",
   "execution_count": null,
   "id": "0c445e63",
   "metadata": {},
   "outputs": [],
   "source": []
  },
  {
   "cell_type": "code",
   "execution_count": null,
   "id": "9fa5372b",
   "metadata": {},
   "outputs": [],
   "source": []
  },
  {
   "cell_type": "code",
   "execution_count": null,
   "id": "71ede2a4",
   "metadata": {},
   "outputs": [],
   "source": []
  },
  {
   "cell_type": "code",
   "execution_count": null,
   "id": "b54e9ffa",
   "metadata": {},
   "outputs": [],
   "source": []
  },
  {
   "cell_type": "code",
   "execution_count": null,
   "id": "45c8e9b7",
   "metadata": {},
   "outputs": [],
   "source": [
    "menu = {\n",
    "    \"Dal Makhani\": (100, 200),\n",
    "    \"Pav Bhaji\": 300,\n",
    "    \"Pizza\": 500,\n",
    "    \"Pasta\": 300\n",
    "}"
   ]
  },
  {
   "cell_type": "code",
   "execution_count": null,
   "id": "1bde2ad8",
   "metadata": {},
   "outputs": [],
   "source": []
  },
  {
   "cell_type": "code",
   "execution_count": null,
   "id": "cb1041d2",
   "metadata": {},
   "outputs": [],
   "source": []
  },
  {
   "cell_type": "code",
   "execution_count": null,
   "id": "56177878",
   "metadata": {},
   "outputs": [],
   "source": []
  },
  {
   "cell_type": "code",
   "execution_count": null,
   "id": "7e3ba62a",
   "metadata": {},
   "outputs": [],
   "source": []
  },
  {
   "cell_type": "code",
   "execution_count": null,
   "id": "a5d0740b",
   "metadata": {},
   "outputs": [],
   "source": [
    "# .get() allows you to provide a second argument as well, which can act\n",
    "# as a default value"
   ]
  },
  {
   "cell_type": "markdown",
   "id": "daa774a8",
   "metadata": {},
   "source": [
    "### Challenge\n",
    "If a dish is in the menu, show its price. Otherwise, chef will charge extra for it. Show the price as 5000."
   ]
  },
  {
   "cell_type": "code",
   "execution_count": null,
   "id": "9b0d37ab",
   "metadata": {},
   "outputs": [],
   "source": [
    "menu = {\n",
    "    \"Dal Makhani\": 200,\n",
    "    \"Pav Bhaji\": 300,\n",
    "    \"Pizza\": 500,\n",
    "    \"Pasta\": 300\n",
    "}"
   ]
  },
  {
   "cell_type": "code",
   "execution_count": 13,
   "id": "7f94cc4e",
   "metadata": {},
   "outputs": [
    {
     "name": "stdout",
     "output_type": "stream",
     "text": [
      "5000\n"
     ]
    }
   ],
   "source": [
    "dish = \"Dosa\"\n",
    "print(menu.get(dish, 5000))\n",
    "# Default value = 5000"
   ]
  },
  {
   "cell_type": "code",
   "execution_count": 15,
   "id": "74aea22b",
   "metadata": {},
   "outputs": [
    {
     "name": "stdout",
     "output_type": "stream",
     "text": [
      "300\n"
     ]
    }
   ],
   "source": [
    "dish = \"Pasta\"\n",
    "print(menu.get(dish, 5000))"
   ]
  },
  {
   "cell_type": "code",
   "execution_count": 16,
   "id": "24f34354",
   "metadata": {},
   "outputs": [
    {
     "name": "stdout",
     "output_type": "stream",
     "text": [
      "5000\n"
     ]
    }
   ],
   "source": [
    "print(menu.get(\"abcd\", 5000))"
   ]
  },
  {
   "cell_type": "code",
   "execution_count": null,
   "id": "a7bc9255",
   "metadata": {},
   "outputs": [],
   "source": []
  },
  {
   "cell_type": "markdown",
   "id": "a33270bf",
   "metadata": {},
   "source": [
    "## Updation and Addition\n",
    "- Updating/Adding one entry - using square brackets\n",
    "- Updating/Adding multiple entries - update()"
   ]
  },
  {
   "cell_type": "code",
   "execution_count": 17,
   "id": "ce980893",
   "metadata": {},
   "outputs": [],
   "source": [
    "avenger = {\n",
    "    \"name\": \"Thor\",\n",
    "    \"age\": 1000,\n",
    "    \"weapons\": ['Mjolnir', 'Stormbreaker']\n",
    "}"
   ]
  },
  {
   "cell_type": "code",
   "execution_count": 18,
   "id": "ca6630a0",
   "metadata": {},
   "outputs": [],
   "source": [
    "# Update the name to \"Thor Odinson\"\n",
    "avenger['name'] = 'Thor Odinson'"
   ]
  },
  {
   "cell_type": "code",
   "execution_count": 19,
   "id": "ebab505c",
   "metadata": {},
   "outputs": [
    {
     "name": "stdout",
     "output_type": "stream",
     "text": [
      "{'name': 'Thor Odinson', 'age': 1000, 'weapons': ['Mjolnir', 'Stormbreaker']}\n"
     ]
    }
   ],
   "source": [
    "print(avenger)"
   ]
  },
  {
   "cell_type": "code",
   "execution_count": null,
   "id": "a9be0cad",
   "metadata": {},
   "outputs": [],
   "source": []
  },
  {
   "cell_type": "code",
   "execution_count": 20,
   "id": "cfe36d74",
   "metadata": {},
   "outputs": [
    {
     "name": "stdout",
     "output_type": "stream",
     "text": [
      "{'name': 'Thor Odinson', 'age': 1000, 'weapons': ['Mjolnir', 'Stormbreaker'], 'home': 'Asgard'}\n"
     ]
    }
   ],
   "source": [
    "# Add a new entry to the dictionary\n",
    "avenger['home'] = 'Asgard'\n",
    "print(avenger)"
   ]
  },
  {
   "cell_type": "code",
   "execution_count": null,
   "id": "50d6e2ac",
   "metadata": {},
   "outputs": [],
   "source": []
  },
  {
   "cell_type": "code",
   "execution_count": 21,
   "id": "ca398e7c",
   "metadata": {},
   "outputs": [],
   "source": [
    "avenger = {\n",
    "    \"name\": \"Thor\",\n",
    "    \"age\": 1000,\n",
    "}"
   ]
  },
  {
   "cell_type": "code",
   "execution_count": 22,
   "id": "9f006fb8",
   "metadata": {},
   "outputs": [],
   "source": [
    "avenger.update({\n",
    "    \"age\": 1100,\n",
    "    \"weapon\": \"Mjolnir\",\n",
    "    \"home\": \"Asgard\",\n",
    "    \"best friend\": \"Heimdall\"\n",
    "})"
   ]
  },
  {
   "cell_type": "code",
   "execution_count": 23,
   "id": "c8f5b74c",
   "metadata": {},
   "outputs": [
    {
     "name": "stdout",
     "output_type": "stream",
     "text": [
      "{'name': 'Thor', 'age': 1100, 'weapon': 'Mjolnir', 'home': 'Asgard', 'best friend': 'Heimdall'}\n"
     ]
    }
   ],
   "source": [
    "print(avenger)"
   ]
  },
  {
   "cell_type": "code",
   "execution_count": null,
   "id": "a6b1d394",
   "metadata": {},
   "outputs": [],
   "source": []
  },
  {
   "cell_type": "code",
   "execution_count": 24,
   "id": "23b42054",
   "metadata": {},
   "outputs": [
    {
     "name": "stdout",
     "output_type": "stream",
     "text": [
      "luthra\n"
     ]
    }
   ],
   "source": [
    "person = {\n",
    "    \"name\": \"tarun\",\n",
    "    \"name\": \"luthra\"\n",
    "}\n",
    "\n",
    "# Last value will be taken. Previous values would be overwritten. \n",
    "\n",
    "print(person['name'])"
   ]
  },
  {
   "cell_type": "code",
   "execution_count": null,
   "id": "2e5c479e",
   "metadata": {},
   "outputs": [],
   "source": []
  },
  {
   "cell_type": "code",
   "execution_count": null,
   "id": "78b5a562",
   "metadata": {},
   "outputs": [],
   "source": []
  },
  {
   "cell_type": "code",
   "execution_count": null,
   "id": "8574e84c",
   "metadata": {},
   "outputs": [],
   "source": []
  },
  {
   "cell_type": "markdown",
   "id": "fb5317f9",
   "metadata": {},
   "source": [
    "#### Quiz 1\n",
    "What does the following Python code output?\n",
    "```py\n",
    "words = {\n",
    "\"is\": 2,\n",
    "\"hello\": 3,\n",
    "\"the\": 4\n",
    "}\n",
    "this_count = words[\"this\"]\n",
    "\n",
    "print(this_count)\n",
    "```"
   ]
  },
  {
   "cell_type": "code",
   "execution_count": 25,
   "id": "b45fa922",
   "metadata": {},
   "outputs": [
    {
     "ename": "KeyError",
     "evalue": "'this'",
     "output_type": "error",
     "traceback": [
      "\u001b[0;31m---------------------------------------------------------------------------\u001b[0m",
      "\u001b[0;31mKeyError\u001b[0m                                  Traceback (most recent call last)",
      "\u001b[0;32m/var/folders/jn/1bsrct314hv5xmfm7vrcdrzc0000gn/T/ipykernel_72050/275607736.py\u001b[0m in \u001b[0;36m<module>\u001b[0;34m\u001b[0m\n\u001b[1;32m      4\u001b[0m     \u001b[0;34m\"the\"\u001b[0m\u001b[0;34m:\u001b[0m \u001b[0;36m4\u001b[0m\u001b[0;34m\u001b[0m\u001b[0;34m\u001b[0m\u001b[0m\n\u001b[1;32m      5\u001b[0m }\n\u001b[0;32m----> 6\u001b[0;31m \u001b[0mthis_count\u001b[0m \u001b[0;34m=\u001b[0m \u001b[0mwords\u001b[0m\u001b[0;34m[\u001b[0m\u001b[0;34m\"this\"\u001b[0m\u001b[0;34m]\u001b[0m\u001b[0;34m\u001b[0m\u001b[0;34m\u001b[0m\u001b[0m\n\u001b[0m\u001b[1;32m      7\u001b[0m \u001b[0;34m\u001b[0m\u001b[0m\n\u001b[1;32m      8\u001b[0m \u001b[0mprint\u001b[0m\u001b[0;34m(\u001b[0m\u001b[0mthis_count\u001b[0m\u001b[0;34m)\u001b[0m\u001b[0;34m\u001b[0m\u001b[0;34m\u001b[0m\u001b[0m\n",
      "\u001b[0;31mKeyError\u001b[0m: 'this'"
     ]
    }
   ],
   "source": [
    "words = {\n",
    "    \"is\": 2,\n",
    "    \"hello\": 3,\n",
    "    \"the\": 4\n",
    "}\n",
    "this_count = words[\"this\"]\n",
    "\n",
    "print(this_count)"
   ]
  },
  {
   "cell_type": "code",
   "execution_count": null,
   "id": "4a5d10fa",
   "metadata": {},
   "outputs": [],
   "source": []
  },
  {
   "cell_type": "markdown",
   "id": "dafa7cc7",
   "metadata": {},
   "source": [
    "#### Quiz 2\n",
    "What is the output of the following code?\n",
    "```py\n",
    "d = {\"a\": 1, \"b\": 2, \"c\": 3}\n",
    "d['d'] = 55\n",
    "\n",
    "print(d['d'])\n",
    "```"
   ]
  },
  {
   "cell_type": "code",
   "execution_count": 26,
   "id": "713b1190",
   "metadata": {},
   "outputs": [
    {
     "name": "stdout",
     "output_type": "stream",
     "text": [
      "55\n"
     ]
    }
   ],
   "source": [
    "d = {\"a\": 1, \"b\": 2, \"c\": 3}\n",
    "d['d'] = 55\n",
    "\n",
    "print(d['d'])"
   ]
  },
  {
   "cell_type": "code",
   "execution_count": null,
   "id": "89f2abf8",
   "metadata": {},
   "outputs": [],
   "source": []
  },
  {
   "cell_type": "markdown",
   "id": "95e3ffb9",
   "metadata": {},
   "source": [
    "## Are Dictionaries ordered ? "
   ]
  },
  {
   "cell_type": "code",
   "execution_count": null,
   "id": "e30555cd",
   "metadata": {},
   "outputs": [],
   "source": [
    "# Will the dictionary be able to remember the order of data or not ? \n",
    "d = {\n",
    "    1: \"a\",\n",
    "    2: \"b\",\n",
    "    10: 'hello',\n",
    "    9: 'ok',\n",
    "    3: '  hi   '\n",
    "}\n",
    "print(d)"
   ]
  },
  {
   "cell_type": "code",
   "execution_count": null,
   "id": "59b4ba11",
   "metadata": {},
   "outputs": [],
   "source": [
    "# Thumps up if yes,\n",
    "# Thumps down if no"
   ]
  },
  {
   "cell_type": "code",
   "execution_count": null,
   "id": "67bef2f1",
   "metadata": {},
   "outputs": [],
   "source": []
  },
  {
   "cell_type": "code",
   "execution_count": null,
   "id": "87f77921",
   "metadata": {},
   "outputs": [],
   "source": []
  },
  {
   "cell_type": "markdown",
   "id": "274813bf",
   "metadata": {},
   "source": [
    "### Are Dictionaries ordered ? \n",
    "Yes and No.\n",
    "- In Python 3.7 and above -> Ordered Dictionaries (It will remember the order of insertion)\n",
    "- In Python 3.6 or below -> Unordered Dictionaries"
   ]
  },
  {
   "cell_type": "code",
   "execution_count": null,
   "id": "05406caf",
   "metadata": {},
   "outputs": [],
   "source": []
  },
  {
   "cell_type": "code",
   "execution_count": null,
   "id": "3293c4c5",
   "metadata": {},
   "outputs": [],
   "source": []
  },
  {
   "cell_type": "code",
   "execution_count": null,
   "id": "c3625034",
   "metadata": {},
   "outputs": [],
   "source": []
  },
  {
   "cell_type": "markdown",
   "id": "36b0ce44",
   "metadata": {},
   "source": [
    "#### Quiz 3\n",
    "What is the output of the following code?\n",
    "```py\n",
    "d = {\"a\": 1, \"b\": 2, \"c\": 3}\n",
    "print(d.get(\"a\", 0))\n",
    "print(d.get(\"b\", 0))\n",
    "print(d.get(\"c\", 0))\n",
    "print(d.get(\"d\", 0))\n",
    "```"
   ]
  },
  {
   "cell_type": "code",
   "execution_count": 27,
   "id": "da92951c",
   "metadata": {},
   "outputs": [
    {
     "name": "stdout",
     "output_type": "stream",
     "text": [
      "1\n",
      "2\n",
      "3\n",
      "0\n"
     ]
    }
   ],
   "source": [
    "d = {\"a\": 1, \"b\": 2, \"c\": 3}\n",
    "print(d.get(\"a\", 0)) # 1\n",
    "print(d.get(\"b\", 0)) # 2\n",
    "print(d.get(\"c\", 0)) # 3\n",
    "print(d.get(\"d\", 0)) # default value = 0"
   ]
  },
  {
   "cell_type": "code",
   "execution_count": null,
   "id": "d3d74ef6",
   "metadata": {},
   "outputs": [],
   "source": []
  },
  {
   "cell_type": "code",
   "execution_count": null,
   "id": "d60348d0",
   "metadata": {},
   "outputs": [],
   "source": []
  },
  {
   "cell_type": "markdown",
   "id": "6919262f",
   "metadata": {},
   "source": [
    "## Removing entries\n",
    "- pop()\n",
    "- del"
   ]
  },
  {
   "cell_type": "code",
   "execution_count": 29,
   "id": "42af5d47",
   "metadata": {},
   "outputs": [],
   "source": [
    "menu = {\n",
    "    \"Dal Makhani\": 200,\n",
    "    \"Pav Bhaji\": 300,\n",
    "    \"Pizza\": 500,\n",
    "}"
   ]
  },
  {
   "cell_type": "code",
   "execution_count": null,
   "id": "1e528026",
   "metadata": {},
   "outputs": [],
   "source": [
    "# Your Italian chef is leaving the restaurant."
   ]
  },
  {
   "cell_type": "code",
   "execution_count": 30,
   "id": "b336a5a2",
   "metadata": {},
   "outputs": [
    {
     "name": "stdout",
     "output_type": "stream",
     "text": [
      "Price of pizza was 500\n"
     ]
    }
   ],
   "source": [
    "pizzaPrice = menu.pop(\"Pizza\")\n",
    "print(\"Price of pizza was\", pizzaPrice)"
   ]
  },
  {
   "cell_type": "code",
   "execution_count": 31,
   "id": "5656b7ef",
   "metadata": {},
   "outputs": [
    {
     "name": "stdout",
     "output_type": "stream",
     "text": [
      "{'Dal Makhani': 200, 'Pav Bhaji': 300}\n"
     ]
    }
   ],
   "source": [
    "print(menu)"
   ]
  },
  {
   "cell_type": "code",
   "execution_count": null,
   "id": "ac65da43",
   "metadata": {},
   "outputs": [],
   "source": []
  },
  {
   "cell_type": "code",
   "execution_count": 32,
   "id": "6c13dc0a",
   "metadata": {},
   "outputs": [
    {
     "ename": "KeyError",
     "evalue": "'Pasta'",
     "output_type": "error",
     "traceback": [
      "\u001b[0;31m---------------------------------------------------------------------------\u001b[0m",
      "\u001b[0;31mKeyError\u001b[0m                                  Traceback (most recent call last)",
      "\u001b[0;32m/var/folders/jn/1bsrct314hv5xmfm7vrcdrzc0000gn/T/ipykernel_72050/894221343.py\u001b[0m in \u001b[0;36m<module>\u001b[0;34m\u001b[0m\n\u001b[0;32m----> 1\u001b[0;31m \u001b[0mmenu\u001b[0m\u001b[0;34m.\u001b[0m\u001b[0mpop\u001b[0m\u001b[0;34m(\u001b[0m\u001b[0;34m\"Pasta\"\u001b[0m\u001b[0;34m)\u001b[0m\u001b[0;34m\u001b[0m\u001b[0;34m\u001b[0m\u001b[0m\n\u001b[0m",
      "\u001b[0;31mKeyError\u001b[0m: 'Pasta'"
     ]
    }
   ],
   "source": [
    "menu.pop(\"Pasta\")"
   ]
  },
  {
   "cell_type": "code",
   "execution_count": null,
   "id": "fac859ae",
   "metadata": {},
   "outputs": [],
   "source": []
  },
  {
   "cell_type": "code",
   "execution_count": 33,
   "id": "55730e3d",
   "metadata": {},
   "outputs": [],
   "source": [
    "menu = {\n",
    "    \"Dal Makhani\": 200,\n",
    "    \"Pav Bhaji\": 300,\n",
    "    \"Pizza\": 500,\n",
    "}"
   ]
  },
  {
   "cell_type": "code",
   "execution_count": 34,
   "id": "a8b6311f",
   "metadata": {},
   "outputs": [],
   "source": [
    "del menu['Pizza']"
   ]
  },
  {
   "cell_type": "code",
   "execution_count": 35,
   "id": "26531a18",
   "metadata": {},
   "outputs": [
    {
     "name": "stdout",
     "output_type": "stream",
     "text": [
      "{'Dal Makhani': 200, 'Pav Bhaji': 300}\n"
     ]
    }
   ],
   "source": [
    "print(menu)"
   ]
  },
  {
   "cell_type": "code",
   "execution_count": 36,
   "id": "294213b7",
   "metadata": {},
   "outputs": [
    {
     "ename": "KeyError",
     "evalue": "'Pasta'",
     "output_type": "error",
     "traceback": [
      "\u001b[0;31m---------------------------------------------------------------------------\u001b[0m",
      "\u001b[0;31mKeyError\u001b[0m                                  Traceback (most recent call last)",
      "\u001b[0;32m/var/folders/jn/1bsrct314hv5xmfm7vrcdrzc0000gn/T/ipykernel_72050/3195564208.py\u001b[0m in \u001b[0;36m<module>\u001b[0;34m\u001b[0m\n\u001b[0;32m----> 1\u001b[0;31m \u001b[0;32mdel\u001b[0m \u001b[0mmenu\u001b[0m\u001b[0;34m[\u001b[0m\u001b[0;34m'Pasta'\u001b[0m\u001b[0;34m]\u001b[0m\u001b[0;34m\u001b[0m\u001b[0;34m\u001b[0m\u001b[0m\n\u001b[0m",
      "\u001b[0;31mKeyError\u001b[0m: 'Pasta'"
     ]
    }
   ],
   "source": [
    "del menu['Pasta']"
   ]
  },
  {
   "cell_type": "code",
   "execution_count": null,
   "id": "e94de4c5",
   "metadata": {},
   "outputs": [],
   "source": []
  },
  {
   "cell_type": "code",
   "execution_count": null,
   "id": "ea0e323f",
   "metadata": {},
   "outputs": [],
   "source": []
  },
  {
   "cell_type": "code",
   "execution_count": null,
   "id": "98d98091",
   "metadata": {},
   "outputs": [],
   "source": []
  },
  {
   "cell_type": "markdown",
   "id": "df68466e",
   "metadata": {},
   "source": [
    "## keys() and values()"
   ]
  },
  {
   "cell_type": "code",
   "execution_count": 37,
   "id": "bf0190ea",
   "metadata": {},
   "outputs": [],
   "source": [
    "avenger = {\n",
    "    'name': 'Thor', \n",
    "    'age': 1100,\n",
    "    'weapon': 'Mjolnir',\n",
    "    'home': 'Asgard',\n",
    "    'best friend': 'Heimdall'\n",
    "}"
   ]
  },
  {
   "cell_type": "code",
   "execution_count": 38,
   "id": "ad7979ed",
   "metadata": {},
   "outputs": [
    {
     "name": "stdout",
     "output_type": "stream",
     "text": [
      "dict_keys(['name', 'age', 'weapon', 'home', 'best friend'])\n"
     ]
    }
   ],
   "source": [
    "k = avenger.keys()\n",
    "print(k)"
   ]
  },
  {
   "cell_type": "code",
   "execution_count": 40,
   "id": "7064e275",
   "metadata": {},
   "outputs": [
    {
     "name": "stdout",
     "output_type": "stream",
     "text": [
      "name age weapon home best friend "
     ]
    }
   ],
   "source": [
    "for x in k:\n",
    "    print(x, end=' ')"
   ]
  },
  {
   "cell_type": "code",
   "execution_count": null,
   "id": "625dd10a",
   "metadata": {},
   "outputs": [],
   "source": []
  },
  {
   "cell_type": "code",
   "execution_count": 39,
   "id": "43fe29e9",
   "metadata": {},
   "outputs": [
    {
     "name": "stdout",
     "output_type": "stream",
     "text": [
      "dict_values(['Thor', 1100, 'Mjolnir', 'Asgard', 'Heimdall'])\n"
     ]
    }
   ],
   "source": [
    "v = avenger.values()\n",
    "print(v)"
   ]
  },
  {
   "cell_type": "code",
   "execution_count": 41,
   "id": "d389ee8a",
   "metadata": {},
   "outputs": [
    {
     "name": "stdout",
     "output_type": "stream",
     "text": [
      "Thor 1100 Mjolnir Asgard Heimdall "
     ]
    }
   ],
   "source": [
    "for x in v:\n",
    "    print(x, end=' ')"
   ]
  },
  {
   "cell_type": "code",
   "execution_count": null,
   "id": "e3bf04ad",
   "metadata": {},
   "outputs": [],
   "source": []
  },
  {
   "cell_type": "code",
   "execution_count": null,
   "id": "d38b7aa0",
   "metadata": {},
   "outputs": [],
   "source": []
  },
  {
   "cell_type": "code",
   "execution_count": 42,
   "id": "c83f71b1",
   "metadata": {},
   "outputs": [
    {
     "name": "stdout",
     "output_type": "stream",
     "text": [
      "name\n",
      "age\n",
      "weapon\n",
      "home\n",
      "best friend\n"
     ]
    }
   ],
   "source": [
    "avenger = {\n",
    "    'name': 'Thor', \n",
    "    'age': 1100,\n",
    "    'weapon': 'Mjolnir',\n",
    "    'home': 'Asgard',\n",
    "    'best friend': 'Heimdall'\n",
    "}\n",
    "\n",
    "# By default, when you try to iterate over the dictionary,\n",
    "# your loop runs over the keys\n",
    "for x in avenger:\n",
    "    print(x)"
   ]
  },
  {
   "cell_type": "code",
   "execution_count": null,
   "id": "08588ec4",
   "metadata": {},
   "outputs": [],
   "source": [
    "# 1. x will iterate over the keys\n",
    "# 2. x will iterate over the values\n",
    "# 3. x will iterate over key-value pairs"
   ]
  },
  {
   "cell_type": "code",
   "execution_count": null,
   "id": "af935a64",
   "metadata": {},
   "outputs": [],
   "source": []
  },
  {
   "cell_type": "code",
   "execution_count": 44,
   "id": "57d3f02c",
   "metadata": {},
   "outputs": [
    {
     "name": "stdout",
     "output_type": "stream",
     "text": [
      "name => Thor\n",
      "age => 1100\n",
      "weapon => Mjolnir\n",
      "home => Asgard\n",
      "best friend => Heimdall\n"
     ]
    }
   ],
   "source": [
    "avenger = {\n",
    "    'name': 'Thor', \n",
    "    'age': 1100,\n",
    "    'weapon': 'Mjolnir',\n",
    "    'home': 'Asgard',\n",
    "    'best friend': 'Heimdall'\n",
    "}\n",
    "\n",
    "for k in avenger:\n",
    "    print(k, \"=>\",avenger[k])"
   ]
  },
  {
   "cell_type": "code",
   "execution_count": null,
   "id": "a5b65a12",
   "metadata": {},
   "outputs": [],
   "source": []
  },
  {
   "cell_type": "code",
   "execution_count": null,
   "id": "ccc286ec",
   "metadata": {},
   "outputs": [],
   "source": []
  },
  {
   "cell_type": "code",
   "execution_count": null,
   "id": "5fc62506",
   "metadata": {},
   "outputs": [],
   "source": []
  },
  {
   "cell_type": "markdown",
   "id": "0a92a43f",
   "metadata": {},
   "source": [
    "#### Quiz 4\n",
    "```py\n",
    "a = {1: 1, 2: 4, 3: 9}\n",
    "\n",
    "for x in a:\n",
    "  print(a[x], end=' ')\n",
    "```"
   ]
  },
  {
   "cell_type": "code",
   "execution_count": 45,
   "id": "59d5bc53",
   "metadata": {},
   "outputs": [
    {
     "name": "stdout",
     "output_type": "stream",
     "text": [
      "1 4 9 "
     ]
    }
   ],
   "source": [
    "a = {1: 1, 2: 4, 3: 9}\n",
    "\n",
    "for x in a:\n",
    "    print(a[x], end=' ')\n",
    "    \n",
    "# x -> 1, 2, 3\n",
    "# print(a[x]) => a[1], a[2], a[3] => 1, 4, 9"
   ]
  },
  {
   "cell_type": "code",
   "execution_count": null,
   "id": "4ff6dd06",
   "metadata": {},
   "outputs": [],
   "source": []
  },
  {
   "cell_type": "code",
   "execution_count": 48,
   "id": "065027ec",
   "metadata": {},
   "outputs": [
    {
     "name": "stdout",
     "output_type": "stream",
     "text": [
      "dict_items([('name', 'Thor'), ('age', 1100), ('weapon', 'Mjolnir'), ('home', 'Asgard'), ('best friend', 'Heimdall')])\n"
     ]
    }
   ],
   "source": [
    "avenger = {\n",
    "    'name': 'Thor', \n",
    "    'age': 1100,\n",
    "    'weapon': 'Mjolnir',\n",
    "    'home': 'Asgard',\n",
    "    'best friend': 'Heimdall'\n",
    "}\n",
    "\n",
    "# key-value pairs\n",
    "print(avenger.items())"
   ]
  },
  {
   "cell_type": "code",
   "execution_count": null,
   "id": "da92915c",
   "metadata": {},
   "outputs": [],
   "source": []
  },
  {
   "cell_type": "code",
   "execution_count": 50,
   "id": "c8ace521",
   "metadata": {},
   "outputs": [
    {
     "name": "stdout",
     "output_type": "stream",
     "text": [
      "Key = name\n",
      "Value = Thor\n",
      "\n",
      "Key = age\n",
      "Value = 1100\n",
      "\n",
      "Key = weapon\n",
      "Value = Mjolnir\n",
      "\n",
      "Key = home\n",
      "Value = Asgard\n",
      "\n",
      "Key = best friend\n",
      "Value = Heimdall\n",
      "\n"
     ]
    }
   ],
   "source": [
    "for k, v in avenger.items():\n",
    "    print(\"Key =\", k)\n",
    "    print(\"Value =\", v)\n",
    "    print() # Empty line"
   ]
  },
  {
   "cell_type": "code",
   "execution_count": null,
   "id": "428ddd87",
   "metadata": {},
   "outputs": [],
   "source": []
  },
  {
   "cell_type": "code",
   "execution_count": null,
   "id": "9429c163",
   "metadata": {},
   "outputs": [],
   "source": []
  },
  {
   "cell_type": "code",
   "execution_count": null,
   "id": "8b4b99f4",
   "metadata": {},
   "outputs": [],
   "source": []
  },
  {
   "cell_type": "markdown",
   "id": "83c23a65",
   "metadata": {},
   "source": [
    "### How to check if a key is present in a dictionary ? "
   ]
  },
  {
   "cell_type": "code",
   "execution_count": 51,
   "id": "c3604689",
   "metadata": {},
   "outputs": [],
   "source": [
    "menu = {\n",
    "    \"Dal Makhani\": 500,\n",
    "    \"Dosa\": 300,\n",
    "    \"Pizza\": 400,\n",
    "    \"Pasta\": 350\n",
    "}"
   ]
  },
  {
   "cell_type": "code",
   "execution_count": 52,
   "id": "7074af01",
   "metadata": {},
   "outputs": [
    {
     "name": "stdout",
     "output_type": "stream",
     "text": [
      "True\n"
     ]
    }
   ],
   "source": [
    "print(\"Dosa\" in menu)"
   ]
  },
  {
   "cell_type": "code",
   "execution_count": 53,
   "id": "798aa06d",
   "metadata": {},
   "outputs": [
    {
     "name": "stdout",
     "output_type": "stream",
     "text": [
      "Mamamia\n"
     ]
    }
   ],
   "source": [
    "if \"Pasta\" in menu:\n",
    "    print(\"Mamamia\")"
   ]
  },
  {
   "cell_type": "code",
   "execution_count": 55,
   "id": "b2961f8a",
   "metadata": {},
   "outputs": [
    {
     "name": "stdout",
     "output_type": "stream",
     "text": [
      "No italiano\n"
     ]
    }
   ],
   "source": [
    "if \"pasta\" in menu:\n",
    "    print(\"Mamamia\")\n",
    "else:\n",
    "    print(\"No italiano\")"
   ]
  },
  {
   "cell_type": "code",
   "execution_count": null,
   "id": "9f62b153",
   "metadata": {},
   "outputs": [],
   "source": []
  },
  {
   "cell_type": "code",
   "execution_count": null,
   "id": "06b1b9b3",
   "metadata": {},
   "outputs": [],
   "source": []
  },
  {
   "cell_type": "code",
   "execution_count": null,
   "id": "fc293aeb",
   "metadata": {},
   "outputs": [],
   "source": []
  },
  {
   "cell_type": "markdown",
   "id": "e7869812",
   "metadata": {},
   "source": [
    "#### Frequency Map\n",
    "Given a list of numbers, print the frequencies of all unique values in it (in any order)\n",
    "\n",
    "\n",
    "Input:\n",
    "```\n",
    "[5, 5, 2, 5, 2, 6, 1, 3]\n",
    "```\n",
    "\n",
    "Output:\n",
    "```\n",
    "5 -> 3\n",
    "2 -> 2\n",
    "6 -> 1\n",
    "1 -> 1\n",
    "3 -> 1\n",
    "(Order does not matter)\n",
    "```"
   ]
  },
  {
   "cell_type": "code",
   "execution_count": null,
   "id": "d119d34f",
   "metadata": {},
   "outputs": [],
   "source": [
    "# keys = unique numbers from my list\n",
    "# values = corresponding frequencies"
   ]
  },
  {
   "cell_type": "code",
   "execution_count": 56,
   "id": "dd48a688",
   "metadata": {},
   "outputs": [
    {
     "name": "stdout",
     "output_type": "stream",
     "text": [
      "{5: 3, 2: 2, 6: 1, 1: 1, 3: 1}\n"
     ]
    }
   ],
   "source": [
    "a = [5, 5, 2, 5, 2, 6, 1, 3]\n",
    "\n",
    "freq = {}\n",
    "\n",
    "for x in a:\n",
    "    if x in freq:\n",
    "        # If the key is present in my freq map\n",
    "        # Update its frequency\n",
    "        freq[x] += 1\n",
    "    else:\n",
    "        # If the key is not present in my freq map\n",
    "        # Add a new entry for it with initial value of 1\n",
    "        freq[x] = 1\n",
    "        \n",
    "print(freq)"
   ]
  },
  {
   "cell_type": "code",
   "execution_count": null,
   "id": "a0732b81",
   "metadata": {},
   "outputs": [],
   "source": []
  },
  {
   "cell_type": "code",
   "execution_count": null,
   "id": "f0ef58cf",
   "metadata": {},
   "outputs": [],
   "source": []
  },
  {
   "cell_type": "code",
   "execution_count": null,
   "id": "a97a1d93",
   "metadata": {},
   "outputs": [],
   "source": []
  },
  {
   "cell_type": "code",
   "execution_count": null,
   "id": "442207f3",
   "metadata": {},
   "outputs": [],
   "source": []
  },
  {
   "cell_type": "code",
   "execution_count": null,
   "id": "4f57a135",
   "metadata": {},
   "outputs": [],
   "source": []
  },
  {
   "cell_type": "code",
   "execution_count": null,
   "id": "34a0c4c4",
   "metadata": {},
   "outputs": [],
   "source": []
  },
  {
   "cell_type": "code",
   "execution_count": null,
   "id": "781749e8",
   "metadata": {},
   "outputs": [],
   "source": []
  },
  {
   "cell_type": "markdown",
   "id": "36020bd9",
   "metadata": {},
   "source": [
    "# Bonus Reading Material\n",
    "- Dictionary in Python - https://www.scaler.com/topics/python/dictionary-in-python/\n",
    "- dict() in Python - https://www.scaler.com/topics/dict-in-python/\n",
    "- What is Dictionary in Python? - https://www.scaler.com/topics/what-is-dictionary-in-python/\n",
    "- Python Dictionary values() - https://www.scaler.com/topics/python-dictionary-values/\n",
    "- Python Dictionary Keys() Method - https://www.scaler.com/topics/python-dictionary-keys/\n",
    "- What is Ordered Dictionary Python in Python? - https://www.scaler.com/topics/ordered-dictionary-python/\n",
    "- What is Nested Dictionary in Python? - https://www.scaler.com/topics/nested-dictionary-in-python/\n",
    "- Sort Dictionary by Value in Python - https://www.scaler.com/topics/sort-dictionary-by-value-in-python/\n",
    "- fromkeys() in Python - https://www.scaler.com/topics/fromkeys-in-python/\n",
    "- How to Convert a List to Dictionary in Python? - https://www.scaler.com/topics/list-to-dictionary-python/\n",
    "- List of Dictionaries in Python - https://www.scaler.com/topics/list-of-dictionaries-in-python/\n",
    "- What is the Difference Between List and Dictionary in Python? - https://www.scaler.com/topics/difference-between-list-and-dictionary-in-python/\n",
    "- Differences between List, Tuple, Set and Dictionary in Python - https://www.scaler.com/topics/python/difference-between-dictionary-list-tuple-and-set-in-python/"
   ]
  },
  {
   "cell_type": "code",
   "execution_count": null,
   "id": "d2f1de6f",
   "metadata": {},
   "outputs": [],
   "source": []
  },
  {
   "cell_type": "code",
   "execution_count": null,
   "id": "e38627ea",
   "metadata": {},
   "outputs": [],
   "source": []
  },
  {
   "cell_type": "code",
   "execution_count": null,
   "id": "3f9a3553",
   "metadata": {},
   "outputs": [],
   "source": []
  },
  {
   "cell_type": "markdown",
   "id": "801a011b",
   "metadata": {},
   "source": [
    "# Doubts"
   ]
  },
  {
   "cell_type": "code",
   "execution_count": null,
   "id": "7363250b",
   "metadata": {},
   "outputs": [],
   "source": []
  },
  {
   "cell_type": "code",
   "execution_count": null,
   "id": "35153a22",
   "metadata": {},
   "outputs": [],
   "source": []
  },
  {
   "cell_type": "code",
   "execution_count": null,
   "id": "e36a2c72",
   "metadata": {},
   "outputs": [],
   "source": []
  },
  {
   "cell_type": "code",
   "execution_count": null,
   "id": "9e01e682",
   "metadata": {},
   "outputs": [],
   "source": []
  },
  {
   "cell_type": "code",
   "execution_count": null,
   "id": "af842950",
   "metadata": {},
   "outputs": [],
   "source": []
  }
 ],
 "metadata": {
  "kernelspec": {
   "display_name": "Python 3 (ipykernel)",
   "language": "python",
   "name": "python3"
  },
  "language_info": {
   "codemirror_mode": {
    "name": "ipython",
    "version": 3
   },
   "file_extension": ".py",
   "mimetype": "text/x-python",
   "name": "python",
   "nbconvert_exporter": "python",
   "pygments_lexer": "ipython3",
   "version": "3.9.18"
  }
 },
 "nbformat": 4,
 "nbformat_minor": 5
}
