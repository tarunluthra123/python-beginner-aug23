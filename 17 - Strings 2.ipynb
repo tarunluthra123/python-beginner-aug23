{
 "cells": [
  {
   "cell_type": "markdown",
   "id": "4d8cd4f5",
   "metadata": {},
   "source": [
    "# Strings 2"
   ]
  },
  {
   "cell_type": "code",
   "execution_count": null,
   "id": "8431e82e",
   "metadata": {},
   "outputs": [],
   "source": []
  },
  {
   "cell_type": "markdown",
   "id": "51193148",
   "metadata": {},
   "source": [
    "## find()\n",
    "![](https://scaler.com/topics/images/find-in-python.webp)"
   ]
  },
  {
   "cell_type": "code",
   "execution_count": 1,
   "id": "4e697d0c",
   "metadata": {},
   "outputs": [
    {
     "name": "stdout",
     "output_type": "stream",
     "text": [
      "13\n"
     ]
    }
   ],
   "source": [
    "s = \"Harry Potter and the Deathly Hallows\"\n",
    "# Find the index of 'and'\n",
    "\n",
    "idx = s.find('and')\n",
    "print(idx)"
   ]
  },
  {
   "cell_type": "code",
   "execution_count": 2,
   "id": "0efdf946",
   "metadata": {},
   "outputs": [
    {
     "name": "stdout",
     "output_type": "stream",
     "text": [
      "-1\n"
     ]
    }
   ],
   "source": [
    "# In case the substring is not present, it returns -1\n",
    "idx2 = s.find('goblet')\n",
    "print(idx2)"
   ]
  },
  {
   "cell_type": "code",
   "execution_count": 3,
   "id": "8dfd6271",
   "metadata": {},
   "outputs": [
    {
     "name": "stdout",
     "output_type": "stream",
     "text": [
      "0\n"
     ]
    }
   ],
   "source": [
    "s = \"Harry Potter and the Deathly Hallows\"\n",
    "\n",
    "# find function tells you about the first occurence\n",
    "idx3 = s.find('H')\n",
    "print(idx3)"
   ]
  },
  {
   "cell_type": "markdown",
   "id": "47b69194",
   "metadata": {},
   "source": [
    "If you want the 2nd or the 3rd occurence - try it on your own. Hint - Refer to the bonus articles shared at the end. "
   ]
  },
  {
   "cell_type": "code",
   "execution_count": null,
   "id": "2645754a",
   "metadata": {},
   "outputs": [],
   "source": []
  },
  {
   "cell_type": "code",
   "execution_count": null,
   "id": "417a979f",
   "metadata": {},
   "outputs": [],
   "source": []
  },
  {
   "cell_type": "code",
   "execution_count": null,
   "id": "0f19ec6e",
   "metadata": {},
   "outputs": [],
   "source": []
  },
  {
   "cell_type": "markdown",
   "id": "f9080d2a",
   "metadata": {},
   "source": [
    "## count()\n",
    "![](https://scaler.com/topics/images/count-in-python.webp)"
   ]
  },
  {
   "cell_type": "code",
   "execution_count": 4,
   "id": "fdd7ab24",
   "metadata": {},
   "outputs": [
    {
     "name": "stdout",
     "output_type": "stream",
     "text": [
      "2\n"
     ]
    }
   ],
   "source": [
    "s = \"Harry Potter and the Deathly Hallows\"\n",
    "c = s.count('H')\n",
    "print(c)"
   ]
  },
  {
   "cell_type": "code",
   "execution_count": 5,
   "id": "253fbad7",
   "metadata": {},
   "outputs": [
    {
     "name": "stdout",
     "output_type": "stream",
     "text": [
      "3\n"
     ]
    }
   ],
   "source": [
    "c2 = s.count('l')\n",
    "print(c2)"
   ]
  },
  {
   "cell_type": "code",
   "execution_count": 6,
   "id": "2350fb53",
   "metadata": {},
   "outputs": [
    {
     "name": "stdout",
     "output_type": "stream",
     "text": [
      "0\n"
     ]
    }
   ],
   "source": [
    "c3 = s.count('Chamber')\n",
    "print(c3)"
   ]
  },
  {
   "cell_type": "code",
   "execution_count": null,
   "id": "4b1a5de0",
   "metadata": {},
   "outputs": [],
   "source": []
  },
  {
   "cell_type": "code",
   "execution_count": null,
   "id": "c1a05061",
   "metadata": {},
   "outputs": [],
   "source": []
  },
  {
   "cell_type": "code",
   "execution_count": null,
   "id": "837c0e6b",
   "metadata": {},
   "outputs": [],
   "source": []
  },
  {
   "cell_type": "markdown",
   "id": "f2c94f37",
   "metadata": {},
   "source": [
    "### in operator"
   ]
  },
  {
   "cell_type": "code",
   "execution_count": 7,
   "id": "6396d73f",
   "metadata": {},
   "outputs": [],
   "source": [
    "s = \"Harry Potter and the Deathly Hallows\""
   ]
  },
  {
   "cell_type": "code",
   "execution_count": 8,
   "id": "53f5c08e",
   "metadata": {},
   "outputs": [
    {
     "name": "stdout",
     "output_type": "stream",
     "text": [
      "True\n"
     ]
    }
   ],
   "source": [
    "print('and' in s)"
   ]
  },
  {
   "cell_type": "code",
   "execution_count": 9,
   "id": "d4e3c2b9",
   "metadata": {},
   "outputs": [
    {
     "name": "stdout",
     "output_type": "stream",
     "text": [
      "False\n"
     ]
    }
   ],
   "source": [
    "print('Prisoner' in s)"
   ]
  },
  {
   "cell_type": "code",
   "execution_count": null,
   "id": "3f7a273d",
   "metadata": {},
   "outputs": [],
   "source": []
  },
  {
   "cell_type": "code",
   "execution_count": null,
   "id": "fc8394f3",
   "metadata": {},
   "outputs": [],
   "source": []
  },
  {
   "cell_type": "markdown",
   "id": "62d26e88",
   "metadata": {},
   "source": [
    "#### Quiz\n",
    "```py\n",
    "print(\"Ra\" in \"rahul\")\n",
    "```"
   ]
  },
  {
   "cell_type": "code",
   "execution_count": 10,
   "id": "c899519a",
   "metadata": {},
   "outputs": [
    {
     "name": "stdout",
     "output_type": "stream",
     "text": [
      "False\n"
     ]
    }
   ],
   "source": [
    "print(\"Ra\" in \"rahul\")"
   ]
  },
  {
   "cell_type": "code",
   "execution_count": 11,
   "id": "88d42091",
   "metadata": {},
   "outputs": [
    {
     "name": "stdout",
     "output_type": "stream",
     "text": [
      "True\n"
     ]
    }
   ],
   "source": [
    "print(\"Ra\" in \"Rahul\")"
   ]
  },
  {
   "cell_type": "code",
   "execution_count": null,
   "id": "3958b3ff",
   "metadata": {},
   "outputs": [],
   "source": []
  },
  {
   "cell_type": "code",
   "execution_count": null,
   "id": "ef2e5b6c",
   "metadata": {},
   "outputs": [],
   "source": []
  },
  {
   "cell_type": "code",
   "execution_count": null,
   "id": "3008686a",
   "metadata": {},
   "outputs": [],
   "source": []
  },
  {
   "cell_type": "code",
   "execution_count": null,
   "id": "52ed3691",
   "metadata": {},
   "outputs": [],
   "source": []
  },
  {
   "cell_type": "markdown",
   "id": "98379677",
   "metadata": {},
   "source": [
    "## Immutable Nature\n",
    "![](https://scaler.com/topics/images/python-datatypes.webp)"
   ]
  },
  {
   "cell_type": "code",
   "execution_count": 12,
   "id": "78bb3eec",
   "metadata": {},
   "outputs": [
    {
     "name": "stdout",
     "output_type": "stream",
     "text": [
      "4441285680\n"
     ]
    }
   ],
   "source": [
    "s = \"hello\"\n",
    "print(id(s))\n",
    "# Address of the memory location where \"hello\" is stored"
   ]
  },
  {
   "cell_type": "code",
   "execution_count": 13,
   "id": "e292b7ea",
   "metadata": {},
   "outputs": [
    {
     "name": "stdout",
     "output_type": "stream",
     "text": [
      "4345113008\n",
      "4446211696\n"
     ]
    }
   ],
   "source": [
    "a = 5\n",
    "b = 3.1\n",
    "print(id(a))\n",
    "print(id(b))"
   ]
  },
  {
   "cell_type": "code",
   "execution_count": null,
   "id": "bbb4dbd0",
   "metadata": {},
   "outputs": [],
   "source": []
  },
  {
   "cell_type": "code",
   "execution_count": 14,
   "id": "6c21f0fa",
   "metadata": {},
   "outputs": [
    {
     "name": "stdout",
     "output_type": "stream",
     "text": [
      "4441285680\n"
     ]
    }
   ],
   "source": [
    "a = \"hello\"\n",
    "print(id(a))"
   ]
  },
  {
   "cell_type": "code",
   "execution_count": 15,
   "id": "86cd780c",
   "metadata": {},
   "outputs": [
    {
     "name": "stdout",
     "output_type": "stream",
     "text": [
      "4446219440\n"
     ]
    }
   ],
   "source": [
    "a = a + \"world\"\n",
    "print(id(a))"
   ]
  },
  {
   "cell_type": "code",
   "execution_count": null,
   "id": "9bf18beb",
   "metadata": {},
   "outputs": [],
   "source": []
  },
  {
   "cell_type": "code",
   "execution_count": null,
   "id": "4c1356e2",
   "metadata": {},
   "outputs": [],
   "source": []
  },
  {
   "cell_type": "markdown",
   "id": "d43829ba",
   "metadata": {},
   "source": [
    "## replace()\n",
    "![](https://scaler.com/topics/images/replace-a-character-in-a-string-python.webp)"
   ]
  },
  {
   "cell_type": "code",
   "execution_count": 16,
   "id": "34b16d49",
   "metadata": {},
   "outputs": [
    {
     "name": "stdout",
     "output_type": "stream",
     "text": [
      "hello world\n",
      "hello everyone\n"
     ]
    }
   ],
   "source": [
    "s = \"hello world\"\n",
    "\n",
    "# change to \"hello everyone\"\n",
    "t = s.replace('world', 'everyone')\n",
    "print(s)\n",
    "print(t)\n",
    "# Original string remains intact\n",
    "# You get a new string with the changes"
   ]
  },
  {
   "cell_type": "code",
   "execution_count": 17,
   "id": "0b0a2d17",
   "metadata": {},
   "outputs": [
    {
     "name": "stdout",
     "output_type": "stream",
     "text": [
      "Hello how are you doing ?\n"
     ]
    }
   ],
   "source": [
    "s = \"Hey how are you doing ?\"\n",
    "s = s.replace('Hey', 'Hello')\n",
    "print(s)"
   ]
  },
  {
   "cell_type": "code",
   "execution_count": null,
   "id": "79adeeeb",
   "metadata": {},
   "outputs": [],
   "source": []
  },
  {
   "cell_type": "code",
   "execution_count": 18,
   "id": "32010729",
   "metadata": {},
   "outputs": [
    {
     "name": "stdout",
     "output_type": "stream",
     "text": [
      "_arry Potter and the Deathly _allows\n"
     ]
    }
   ],
   "source": [
    "s = \"Harry Potter and the Deathly Hallows\"\n",
    "t = s.replace('H', \"_\")\n",
    "print(t)"
   ]
  },
  {
   "cell_type": "code",
   "execution_count": 19,
   "id": "1cb9d70b",
   "metadata": {},
   "outputs": [
    {
     "name": "stdout",
     "output_type": "stream",
     "text": [
      "_arry Potter and the Deathly Hallows\n"
     ]
    }
   ],
   "source": [
    "s = \"Harry Potter and the Deathly Hallows\"\n",
    "t = s.replace('H', \"_\", 1)\n",
    "print(t)\n",
    "# You can provide a third argument to replace() which is the count\n",
    "# How many occurrences should be replaced ? "
   ]
  },
  {
   "cell_type": "code",
   "execution_count": 20,
   "id": "f1a74558",
   "metadata": {},
   "outputs": [
    {
     "name": "stdout",
     "output_type": "stream",
     "text": [
      "Harry Potter and t_e Deat_ly Hallows\n"
     ]
    }
   ],
   "source": [
    "s = \"Harry Potter and the Deathly Hallows\"\n",
    "t = s.replace('h', \"_\")\n",
    "print(t)"
   ]
  },
  {
   "cell_type": "code",
   "execution_count": null,
   "id": "5a4f1569",
   "metadata": {},
   "outputs": [],
   "source": []
  },
  {
   "cell_type": "code",
   "execution_count": null,
   "id": "2744bea6",
   "metadata": {},
   "outputs": [],
   "source": []
  },
  {
   "cell_type": "code",
   "execution_count": null,
   "id": "3f48e26c",
   "metadata": {},
   "outputs": [],
   "source": []
  },
  {
   "cell_type": "code",
   "execution_count": null,
   "id": "5d478fab",
   "metadata": {},
   "outputs": [],
   "source": []
  },
  {
   "cell_type": "markdown",
   "id": "08b9ed2f",
   "metadata": {},
   "source": [
    "#### Quiz 2\n",
    "```py\n",
    "a = \"Hello\"  \n",
    "b = a  \n",
    "a = \"Yello\"  \n",
    "```\n",
    "What is the value of `b` now?"
   ]
  },
  {
   "cell_type": "code",
   "execution_count": 21,
   "id": "fa14df73",
   "metadata": {},
   "outputs": [
    {
     "name": "stdout",
     "output_type": "stream",
     "text": [
      "Hello\n"
     ]
    }
   ],
   "source": [
    "a = \"Hello\"  \n",
    "b = a  \n",
    "a = \"Yello\" \n",
    "print(b)"
   ]
  },
  {
   "cell_type": "code",
   "execution_count": 22,
   "id": "2c00414f",
   "metadata": {},
   "outputs": [
    {
     "name": "stdout",
     "output_type": "stream",
     "text": [
      "Yello\n"
     ]
    }
   ],
   "source": [
    "print(a)"
   ]
  },
  {
   "cell_type": "code",
   "execution_count": null,
   "id": "da89a667",
   "metadata": {},
   "outputs": [],
   "source": []
  },
  {
   "cell_type": "code",
   "execution_count": null,
   "id": "164f83ca",
   "metadata": {},
   "outputs": [],
   "source": []
  },
  {
   "cell_type": "code",
   "execution_count": null,
   "id": "0606b274",
   "metadata": {},
   "outputs": [],
   "source": []
  },
  {
   "cell_type": "markdown",
   "id": "91591f72",
   "metadata": {},
   "source": [
    "#### Quiz 3\n",
    "Python - String Nature\n",
    "Predict the output\n",
    "```py\n",
    "a = \"batman\"\n",
    "b = a\n",
    "b.replace(\"b\", \"c\")\n",
    "print(a) \n",
    "```"
   ]
  },
  {
   "cell_type": "code",
   "execution_count": 23,
   "id": "d802f642",
   "metadata": {},
   "outputs": [
    {
     "name": "stdout",
     "output_type": "stream",
     "text": [
      "batman\n"
     ]
    }
   ],
   "source": [
    "a = \"batman\"\n",
    "b = a\n",
    "b.replace(\"b\", \"c\")\n",
    "print(a)"
   ]
  },
  {
   "cell_type": "code",
   "execution_count": null,
   "id": "2e546cec",
   "metadata": {},
   "outputs": [],
   "source": []
  },
  {
   "cell_type": "code",
   "execution_count": 24,
   "id": "85cbc292",
   "metadata": {},
   "outputs": [
    {
     "name": "stdout",
     "output_type": "stream",
     "text": [
      "batman\n",
      "batman\n",
      "catman\n"
     ]
    }
   ],
   "source": [
    "a = \"batman\"\n",
    "b = a\n",
    "c = b.replace(\"b\", \"c\")\n",
    "print(a) # batman\n",
    "print(b) # batman\n",
    "print(c) # catman"
   ]
  },
  {
   "cell_type": "code",
   "execution_count": null,
   "id": "0a7c8b7e",
   "metadata": {},
   "outputs": [],
   "source": []
  },
  {
   "cell_type": "code",
   "execution_count": null,
   "id": "8e893793",
   "metadata": {},
   "outputs": [],
   "source": []
  },
  {
   "cell_type": "code",
   "execution_count": null,
   "id": "64a0e2e8",
   "metadata": {},
   "outputs": [],
   "source": []
  },
  {
   "cell_type": "code",
   "execution_count": null,
   "id": "0ceab060",
   "metadata": {},
   "outputs": [],
   "source": []
  },
  {
   "cell_type": "code",
   "execution_count": null,
   "id": "0ba79e74",
   "metadata": {},
   "outputs": [],
   "source": []
  },
  {
   "cell_type": "code",
   "execution_count": null,
   "id": "279a7409",
   "metadata": {},
   "outputs": [],
   "source": []
  },
  {
   "cell_type": "markdown",
   "id": "d2295e73",
   "metadata": {},
   "source": [
    "## String to list"
   ]
  },
  {
   "cell_type": "code",
   "execution_count": 25,
   "id": "335d838b",
   "metadata": {},
   "outputs": [
    {
     "name": "stdout",
     "output_type": "stream",
     "text": [
      "['h', 'e', 'l', 'l', 'o']\n"
     ]
    }
   ],
   "source": [
    "s = \"hello\"\n",
    "l = list(s)\n",
    "print(l)"
   ]
  },
  {
   "cell_type": "code",
   "execution_count": null,
   "id": "bf649d08",
   "metadata": {},
   "outputs": [],
   "source": []
  },
  {
   "cell_type": "code",
   "execution_count": 26,
   "id": "415eec87",
   "metadata": {},
   "outputs": [
    {
     "name": "stdout",
     "output_type": "stream",
     "text": [
      "['hello', 'how', 'are', 'you']\n"
     ]
    }
   ],
   "source": [
    "s = \"hello how are you\"\n",
    "l = s.split()\n",
    "print(l)"
   ]
  },
  {
   "cell_type": "code",
   "execution_count": null,
   "id": "71752a8d",
   "metadata": {},
   "outputs": [],
   "source": []
  },
  {
   "cell_type": "code",
   "execution_count": null,
   "id": "71d14be2",
   "metadata": {},
   "outputs": [],
   "source": []
  },
  {
   "cell_type": "code",
   "execution_count": null,
   "id": "f57301e0",
   "metadata": {},
   "outputs": [],
   "source": []
  },
  {
   "cell_type": "markdown",
   "id": "4ad89fb2",
   "metadata": {},
   "source": [
    "## List to String\n",
    "![](https://scaler.com/topics/images/convert-list-to-string-in-python.webp)"
   ]
  },
  {
   "cell_type": "code",
   "execution_count": 29,
   "id": "5a17347a",
   "metadata": {},
   "outputs": [],
   "source": [
    "l = ['h', 'e', 'l', 'l', 'o']\n",
    "# \"hello\""
   ]
  },
  {
   "cell_type": "code",
   "execution_count": 30,
   "id": "bfa1764e",
   "metadata": {},
   "outputs": [
    {
     "data": {
      "text/plain": [
       "\"['h', 'e', 'l', 'l', 'o']\""
      ]
     },
     "execution_count": 30,
     "metadata": {},
     "output_type": "execute_result"
    }
   ],
   "source": [
    "s = str(l)\n",
    "s"
   ]
  },
  {
   "cell_type": "code",
   "execution_count": null,
   "id": "f81452c0",
   "metadata": {},
   "outputs": [],
   "source": []
  },
  {
   "cell_type": "code",
   "execution_count": 34,
   "id": "fec57b16",
   "metadata": {},
   "outputs": [
    {
     "name": "stdout",
     "output_type": "stream",
     "text": [
      "h_e_l_l_o\n"
     ]
    }
   ],
   "source": [
    "l = ['h', 'e', 'l', 'l', 'o']\n",
    "\n",
    "# Join all the chars in the list with an underscore\n",
    "ans = \"_\".join(l)\n",
    "print(ans)\n",
    "# .join() takes one argument = iterable (list, string, range etc.)\n",
    "# This iterable must be an iterable of strings only\n",
    "# List => List of strings"
   ]
  },
  {
   "cell_type": "code",
   "execution_count": null,
   "id": "ff7f1f0b",
   "metadata": {},
   "outputs": [],
   "source": []
  },
  {
   "cell_type": "code",
   "execution_count": 35,
   "id": "9d83549d",
   "metadata": {},
   "outputs": [
    {
     "name": "stdout",
     "output_type": "stream",
     "text": [
      "hello\n"
     ]
    }
   ],
   "source": [
    "l = ['h', 'e', 'l', 'l', 'o']\n",
    "ans = \"\".join(l)\n",
    "print(ans)"
   ]
  },
  {
   "cell_type": "code",
   "execution_count": 36,
   "id": "f9f8a85e",
   "metadata": {},
   "outputs": [
    {
     "name": "stdout",
     "output_type": "stream",
     "text": [
      "h,e,l,l,o\n"
     ]
    }
   ],
   "source": [
    "l = ['h', 'e', 'l', 'l', 'o']\n",
    "ans = \",\".join(l)\n",
    "print(ans)"
   ]
  },
  {
   "cell_type": "code",
   "execution_count": null,
   "id": "8d3e59a4",
   "metadata": {},
   "outputs": [],
   "source": []
  },
  {
   "cell_type": "code",
   "execution_count": null,
   "id": "cc61d97e",
   "metadata": {},
   "outputs": [],
   "source": []
  },
  {
   "cell_type": "markdown",
   "id": "095066a7",
   "metadata": {},
   "source": [
    "#### Quiz 4\n",
    "```py\n",
    "n = ['string1', 'string2']  \n",
    "print(\"Rahul\".join(n))\n",
    "```"
   ]
  },
  {
   "cell_type": "code",
   "execution_count": 37,
   "id": "74b5246d",
   "metadata": {},
   "outputs": [
    {
     "name": "stdout",
     "output_type": "stream",
     "text": [
      "string1Rahulstring2\n"
     ]
    }
   ],
   "source": [
    "n = ['string1', 'string2']  \n",
    "print(\"Rahul\".join(n))\n",
    "# string1Rahulstring2"
   ]
  },
  {
   "cell_type": "code",
   "execution_count": null,
   "id": "2eaa63ed",
   "metadata": {},
   "outputs": [],
   "source": []
  },
  {
   "cell_type": "code",
   "execution_count": null,
   "id": "3ba2786e",
   "metadata": {},
   "outputs": [],
   "source": []
  },
  {
   "cell_type": "code",
   "execution_count": null,
   "id": "639538a9",
   "metadata": {},
   "outputs": [],
   "source": []
  },
  {
   "cell_type": "markdown",
   "id": "7e183b45",
   "metadata": {},
   "source": [
    "## Reverse words in a string\n",
    "![](https://scaler.com/topics/images/reverse-words-in-a-string-python.webp)"
   ]
  },
  {
   "cell_type": "markdown",
   "id": "98ffdd2c",
   "metadata": {},
   "source": [
    "#### Quiz\n",
    "What is the word-by-word reverse of the sentence   \\\n",
    "\"Are you as clever as I am\"\n",
    "\n",
    "Answer: \\\n",
    "am I as clever as you Are\n",
    "\n",
    "Correct answer = d"
   ]
  },
  {
   "cell_type": "code",
   "execution_count": 38,
   "id": "7f6a9b58",
   "metadata": {},
   "outputs": [],
   "source": [
    "s = \"Python is awesome\"\n",
    "# Desired output = \"awesome is Python\""
   ]
  },
  {
   "cell_type": "code",
   "execution_count": 44,
   "id": "275d447e",
   "metadata": {},
   "outputs": [
    {
     "name": "stdout",
     "output_type": "stream",
     "text": [
      "['Python', 'is', 'awesome']\n"
     ]
    }
   ],
   "source": [
    "words = s.split()\n",
    "print(words)"
   ]
  },
  {
   "cell_type": "code",
   "execution_count": 45,
   "id": "4b83b012",
   "metadata": {},
   "outputs": [
    {
     "name": "stdout",
     "output_type": "stream",
     "text": [
      "['awesome', 'is', 'Python']\n"
     ]
    }
   ],
   "source": [
    "# Reverse the list 'words'\n",
    "# words = words[::-1]\n",
    "# words = list(reversed(words))\n",
    "words.reverse()\n",
    "print(words)"
   ]
  },
  {
   "cell_type": "code",
   "execution_count": 46,
   "id": "a6e58633",
   "metadata": {},
   "outputs": [
    {
     "name": "stdout",
     "output_type": "stream",
     "text": [
      "awesome is Python\n"
     ]
    }
   ],
   "source": [
    "ans = \" \".join(words)\n",
    "print(ans)"
   ]
  },
  {
   "cell_type": "code",
   "execution_count": null,
   "id": "75856df7",
   "metadata": {},
   "outputs": [],
   "source": []
  },
  {
   "cell_type": "code",
   "execution_count": null,
   "id": "9afdc7de",
   "metadata": {},
   "outputs": [],
   "source": []
  },
  {
   "cell_type": "code",
   "execution_count": null,
   "id": "30198a32",
   "metadata": {},
   "outputs": [],
   "source": []
  },
  {
   "cell_type": "markdown",
   "id": "fb5fd551",
   "metadata": {},
   "source": [
    "### Convert a string to all uppercase characters without using any inbuilt functions\n",
    "\n",
    "Input:\n",
    "```\n",
    "s = \"hELLo\"\n",
    "```\n",
    "\n",
    "Output:\n",
    "```\n",
    "s = \"HELLO\"\n",
    "```"
   ]
  },
  {
   "cell_type": "code",
   "execution_count": 47,
   "id": "d765cc5b",
   "metadata": {},
   "outputs": [],
   "source": [
    "def convertToUppercase(s):\n",
    "    l = list(s)\n",
    "    for i in range(len(l)):\n",
    "        # Each character = l[i]\n",
    "        # If lowercase, then subtract 32\n",
    "        if 97 <= ord(l[i]) <= 122:\n",
    "            l[i] = chr(ord(l[i]) - 32)\n",
    "            \n",
    "    return \"\".join(l)"
   ]
  },
  {
   "cell_type": "code",
   "execution_count": 48,
   "id": "a9726c3e",
   "metadata": {},
   "outputs": [
    {
     "name": "stdout",
     "output_type": "stream",
     "text": [
      "HELLO\n"
     ]
    }
   ],
   "source": [
    "ans = convertToUppercase(\"hello\")\n",
    "print(ans)"
   ]
  },
  {
   "cell_type": "code",
   "execution_count": 49,
   "id": "18d27cae",
   "metadata": {},
   "outputs": [
    {
     "name": "stdout",
     "output_type": "stream",
     "text": [
      "HELLO\n"
     ]
    }
   ],
   "source": [
    "ans = convertToUppercase(\"hELlo\")\n",
    "print(ans)"
   ]
  },
  {
   "cell_type": "code",
   "execution_count": 50,
   "id": "df0ea3b9",
   "metadata": {},
   "outputs": [
    {
     "name": "stdout",
     "output_type": "stream",
     "text": [
      "HELLO\n"
     ]
    }
   ],
   "source": [
    "ans = convertToUppercase(\"HELLO\")\n",
    "print(ans)"
   ]
  },
  {
   "cell_type": "code",
   "execution_count": null,
   "id": "82500cf2",
   "metadata": {},
   "outputs": [],
   "source": []
  },
  {
   "cell_type": "code",
   "execution_count": null,
   "id": "ceb93104",
   "metadata": {},
   "outputs": [],
   "source": []
  },
  {
   "cell_type": "markdown",
   "id": "2463ce14",
   "metadata": {},
   "source": [
    "# Bonus Reading Material\n",
    "- What are Mutable Data Types in Python? - https://www.scaler.com/topics/mutable-data-typesg-in-python/\n",
    "- Mutable and Immutable in Python - https://www.scaler.com/topics/mutable-and-immutable-in-python/\n",
    "- Replace in Python - https://www.scaler.com/topics/replace-in-python/\n",
    "- Replace a Character in a String Python - https://www.scaler.com/topics/replace-a-character-in-a-string-python/\n",
    "- Join in Python - https://www.scaler.com/topics/join-in-python/\n",
    "- Convert List to String in Python - https://www.scaler.com/topics/convert-list-to-string-in-python/\n",
    "- Convert List to String in Python - https://www.scaler.com/topics/convert-list-to-string-python/\n",
    "- Python String find() Method - https://www.scaler.com/topics/find-function-in-python/\n",
    "- Find in Python - https://www.scaler.com/topics/find-in-python/\n",
    "- Count in Python - https://www.scaler.com/topics/count-in-python/\n",
    "- startswith() in Python - https://www.scaler.com/topics/startswith-in-python/\n",
    "- capitalize() in Python - https://www.scaler.com/topics/capitalize-in-python/\n",
    "- swapcase() in Python - https://www.scaler.com/topics/swapcase-in-python/\n",
    "- partition() in Python - https://www.scaler.com/topics/partition-in-python/\n",
    "- Strip Function in Python - https://www.scaler.com/topics/strip-function-in-python/\n",
    "- Lexicographical order in Python - https://www.scaler.com/topics/lexicographical-order-in-python/\n",
    "- Sort a String in Python - https://www.scaler.com/topics/sort-a-string-in-python/\n",
    "- Remove Whitespace From String - https://www.scaler.com/topics/remove-whitespace-from-string/\n",
    "- Reverse Words in a String Python - https://www.scaler.com/topics/reverse-words-in-a-string-python/\n",
    "- Reverse Words in a String - https://www.scaler.com/topics/reverse-words-in-a-string/\n",
    "- Substring in Python - https://www.scaler.com/topics/substring-in-python/\n",
    "- Remove Punctuation from String Python - https://www.scaler.com/topics/remove-punctuation-from-string-python/"
   ]
  },
  {
   "cell_type": "code",
   "execution_count": null,
   "id": "d5ad2311",
   "metadata": {},
   "outputs": [],
   "source": []
  },
  {
   "cell_type": "code",
   "execution_count": null,
   "id": "0148d59f",
   "metadata": {},
   "outputs": [],
   "source": []
  },
  {
   "cell_type": "code",
   "execution_count": null,
   "id": "24d2a43f",
   "metadata": {},
   "outputs": [],
   "source": []
  },
  {
   "cell_type": "markdown",
   "id": "51df4500",
   "metadata": {},
   "source": [
    "# Doubts"
   ]
  },
  {
   "cell_type": "code",
   "execution_count": null,
   "id": "b3425db3",
   "metadata": {},
   "outputs": [],
   "source": []
  },
  {
   "cell_type": "code",
   "execution_count": null,
   "id": "f415c7c7",
   "metadata": {},
   "outputs": [],
   "source": []
  },
  {
   "cell_type": "code",
   "execution_count": null,
   "id": "1e1e6095",
   "metadata": {},
   "outputs": [],
   "source": []
  },
  {
   "cell_type": "code",
   "execution_count": null,
   "id": "621f133c",
   "metadata": {},
   "outputs": [],
   "source": []
  },
  {
   "cell_type": "code",
   "execution_count": null,
   "id": "bcd3cd0e",
   "metadata": {},
   "outputs": [],
   "source": []
  }
 ],
 "metadata": {
  "kernelspec": {
   "display_name": "Python 3 (ipykernel)",
   "language": "python",
   "name": "python3"
  },
  "language_info": {
   "codemirror_mode": {
    "name": "ipython",
    "version": 3
   },
   "file_extension": ".py",
   "mimetype": "text/x-python",
   "name": "python",
   "nbconvert_exporter": "python",
   "pygments_lexer": "ipython3",
   "version": "3.9.18"
  }
 },
 "nbformat": 4,
 "nbformat_minor": 5
}
